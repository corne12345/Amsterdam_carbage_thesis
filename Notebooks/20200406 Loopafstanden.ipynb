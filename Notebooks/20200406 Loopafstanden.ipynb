{
 "cells": [
  {
   "cell_type": "code",
   "execution_count": 174,
   "metadata": {},
   "outputs": [],
   "source": [
    "import requests\n",
    "from collections import defaultdict\n",
    "\n",
    "import pandas as pd\n",
    "import numpy as np\n",
    "from scipy.spatial import Voronoi, voronoi_plot_2d\n",
    "\n",
    "\n",
    "import geopandas as gpd\n",
    "\n",
    "from shapely.geometry import Point, Polygon\n",
    "\n",
    "from bokeh.plotting import figure"
   ]
  },
  {
   "cell_type": "code",
   "execution_count": 191,
   "metadata": {},
   "outputs": [],
   "source": [
    "df_textiel = pd.read_csv('../Data/Loopafstanden/afstand_textiel.csv', delimiter=';')"
   ]
  },
  {
   "cell_type": "code",
   "execution_count": 221,
   "metadata": {},
   "outputs": [
    {
     "data": {
      "text/plain": [
       "361.7487697591885"
      ]
     },
     "execution_count": 221,
     "metadata": {},
     "output_type": "execute_result"
    }
   ],
   "source": [
    "df_textiel['distance'].mean()"
   ]
  },
  {
   "cell_type": "code",
   "execution_count": 193,
   "metadata": {},
   "outputs": [
    {
     "data": {
      "text/plain": [
       "(151954,)"
      ]
     },
     "execution_count": 193,
     "metadata": {},
     "output_type": "execute_result"
    }
   ],
   "source": [
    "df_textiel['cluster_no'].unique().shape"
   ]
  },
  {
   "cell_type": "code",
   "execution_count": 194,
   "metadata": {},
   "outputs": [
    {
     "data": {
      "text/plain": [
       "<matplotlib.axes._subplots.AxesSubplot at 0x1911a3971f0>"
      ]
     },
     "execution_count": 194,
     "metadata": {},
     "output_type": "execute_result"
    },
    {
     "data": {
      "image/png": "[encoded data removed]",
      "text/plain": [
       "<Figure size 432x288 with 1 Axes>"
      ]
     },
     "metadata": {
      "needs_background": "light"
     },
     "output_type": "display_data"
    }
   ],
   "source": [
    "temp = df_textiel['distance'].astype('int').value_counts().reset_index().sort_values(by='index')\n",
    "temp.plot(x='index', y='distance')"
   ]
  },
  {
   "cell_type": "code",
   "execution_count": 195,
   "metadata": {},
   "outputs": [],
   "source": [
    "df_textiel['x'] = df_textiel['point_geom'].apply(lambda x: float(x.split(' ')[1].lstrip('(')))\n",
    "df_textiel['y'] = df_textiel['point_geom'].apply(lambda x: float(x.split(' ')[2].rstrip(')')))\n",
    "df1 = df_textiel.groupby('cluster_no').mean()\n",
    "df2 = df_textiel.groupby('cluster_no').count()"
   ]
  },
  {
   "cell_type": "code",
   "execution_count": 196,
   "metadata": {},
   "outputs": [],
   "source": [
    "df1['count'] = df2['fractie']\n",
    "df1 = df1[['distance', 'x', 'y', 'count']].reset_index()\n",
    "df1['points'] = df1.apply(lambda row: Point([row.x, row.y]), axis=1)"
   ]
  },
  {
   "cell_type": "code",
   "execution_count": 197,
   "metadata": {},
   "outputs": [],
   "source": [
    "lst_points = []\n",
    "for i in range(df1.shape[0]):\n",
    "    for j in range(df1.iloc[i]['count'].astype('int')):\n",
    "        lst_points.append(df1.iloc[j].points)"
   ]
  },
  {
   "cell_type": "code",
   "execution_count": 198,
   "metadata": {},
   "outputs": [],
   "source": [
    "def load_data(pages = 725, save=False):\n",
    "    \"\"\"\n",
    "    Loops through all pages of the API of garbage containers and stores these in a DF.\n",
    "    The fraction and coordinates are saved with the unique id.\n",
    "    \"\"\"\n",
    "\n",
    "    # Formation of variables to be filled in loop\n",
    "    containers = []\n",
    "    coordinates = []\n",
    "    type_vuil = []\n",
    "    counter = 0\n",
    "    container_ids = []\n",
    "    lons_new = []\n",
    "    lats_new = []\n",
    "\n",
    "    # Initial link to send GET request to\n",
    "    link = 'https://api.data.amsterdam.nl/vsd/afvalcontainers'\n",
    "\n",
    "    # While loop to get all pages\n",
    "    while link != None and counter < pages: #100 as limit for testing purpose\n",
    "        counter += 1 #Update counter\n",
    "        response = requests.get(link) # Send request\n",
    "        output = response.json()\n",
    "        for result in output['results']:\n",
    "            try:\n",
    "                containers.append(result)\n",
    "                container_ids.append(result['container_id'])\n",
    "    #             lons_new.append(float(result['container_wgs84_lon']))\n",
    "    #             lats_new.append(float(result['container_wgs84_lat']))\n",
    "                lons_new.append(result['container_geometrie']['coordinates'][0])\n",
    "                lats_new.append(result['container_geometrie']['coordinates'][1])\n",
    "                type_vuil.append(result['container_afvalfractie'])\n",
    "            except:\n",
    "                print('a')\n",
    "                pass \n",
    "        try:\n",
    "            link = output['_links']['next']['href'] # Get link to next page\n",
    "\n",
    "        except:\n",
    "            link = None\n",
    "\n",
    "    df= pd.DataFrame([container_ids, lons_new, lats_new, type_vuil]).T.rename(columns={0: 'id', 1:'x', 2:'y', 3:'fractie'})\n",
    "    \n",
    "    if save:\n",
    "        df.to_csv('/../data/containers.csv')\n",
    "    return df, containers"
   ]
  },
  {
   "cell_type": "code",
   "execution_count": 199,
   "metadata": {},
   "outputs": [],
   "source": [
    "def voronoi_finite_polygons_2d(vor, radius=None):\n",
    "    \"\"\"\n",
    "    Reconstruct infinite voronoi regions in a 2D diagram to finite\n",
    "    regions.\n",
    "\n",
    "    Parameters\n",
    "    ----------\n",
    "    vor : Voronoi\n",
    "        Input diagram\n",
    "    radius : float, optional\n",
    "        Distance to 'points at infinity'.\n",
    "\n",
    "    Returns\n",
    "    -------\n",
    "    regions : list of tuples\n",
    "        Indices of vertices in each revised Voronoi regions.\n",
    "    vertices : list of tuples\n",
    "        Coordinates for revised Voronoi vertices. Same as coordinates\n",
    "        of input vertices, with 'points at infinity' appended to the\n",
    "        end.\n",
    "\n",
    "    \"\"\"\n",
    "\n",
    "    if vor.points.shape[1] != 2:\n",
    "        raise ValueError(\"Requires 2D input\")\n",
    "\n",
    "    new_regions = []\n",
    "    new_vertices = vor.vertices.tolist()\n",
    "\n",
    "    center = vor.points.mean(axis=0)\n",
    "    if radius is None:\n",
    "        radius = vor.points.ptp().max()\n",
    "\n",
    "    # Construct a map containing all ridges for a given point\n",
    "    all_ridges = {}\n",
    "    for (p1, p2), (v1, v2) in zip(vor.ridge_points, vor.ridge_vertices):\n",
    "        all_ridges.setdefault(p1, []).append((p2, v1, v2))\n",
    "        all_ridges.setdefault(p2, []).append((p1, v1, v2))\n",
    "\n",
    "    # Reconstruct infinite regions\n",
    "    for p1, region in enumerate(vor.point_region):\n",
    "        vertices = vor.regions[region]\n",
    "\n",
    "        if all(v >= 0 for v in vertices):\n",
    "            # finite region\n",
    "            new_regions.append(vertices)\n",
    "            continue\n",
    "\n",
    "        # reconstruct a non-finite region\n",
    "        ridges = all_ridges[p1]\n",
    "        new_region = [v for v in vertices if v >= 0]\n",
    "\n",
    "        for p2, v1, v2 in ridges:\n",
    "            if v2 < 0:\n",
    "                v1, v2 = v2, v1\n",
    "            if v1 >= 0:\n",
    "                # finite ridge: already in the region\n",
    "                continue\n",
    "\n",
    "            # Compute the missing endpoint of an infinite ridge\n",
    "\n",
    "            t = vor.points[p2] - vor.points[p1] # tangent\n",
    "            t /= np.linalg.norm(t)\n",
    "            n = np.array([-t[1], t[0]])  # normal\n",
    "\n",
    "            midpoint = vor.points[[p1, p2]].mean(axis=0)\n",
    "            direction = np.sign(np.dot(midpoint - center, n)) * n\n",
    "            far_point = vor.vertices[v2] + direction * radius\n",
    "\n",
    "            new_region.append(len(new_vertices))\n",
    "            new_vertices.append(far_point.tolist())\n",
    "\n",
    "        # sort region counterclockwise\n",
    "        vs = np.asarray([new_vertices[v] for v in new_region])\n",
    "        c = vs.mean(axis=0)\n",
    "        angles = np.arctan2(vs[:,1] - c[1], vs[:,0] - c[0])\n",
    "        new_region = np.array(new_region)[np.argsort(angles)]\n",
    "\n",
    "        # finish\n",
    "        new_regions.append(new_region.tolist())\n",
    "\n",
    "    return new_regions, np.asarray(new_vertices)\n",
    "\n",
    "def nn(x, y, pos, neg):\n",
    "    v = np.array([[x, y]])\n",
    "    p = np.sum(np.power(pos - v, 2), axis=1)\n",
    "    n = np.sum(np.power(neg - v, 2), axis=1)\n",
    "    return np.min(p) < np.min(n)\n",
    "\n",
    "def plot_voronoi(multi, points, min_vals, max_vals, off=0.5):\n",
    "    \"\"\"\n",
    "    Plots the given points as a voronoi diagram using min_vals and max_vals\n",
    "    as boundaries for the plot.\n",
    "    \"\"\"\n",
    "    fig = plt.figure(figsize=(16,12))\n",
    "    axis = fig.add_subplot()\n",
    "    polygons = []\n",
    "\n",
    "    vor = Voronoi(points)\n",
    "    regions, vertices = voronoi_finite_polygons_2d(vor)\n",
    "    \n",
    "    # Create map of Amsterdam\n",
    "    for geom in multi:\n",
    "        xs, ys = geom.exterior.xy\n",
    "        axis.fill(xs, ys, alpha=0.2, fc='grey', ec='red')\n",
    "        \n",
    "    # Create map of inhabited parts of Amsterdam\n",
    "    for geom in multi2:\n",
    "        xs, ys = geom.exterior.xy\n",
    "        axis.fill(xs, ys, alpha=0.2, fc='grey', ec='red')\n",
    "    \n",
    "    # Mark containers\n",
    "    axis.plot(points[:, 0], points[:, 1], 'b+')\n",
    "    \n",
    "    # fill polygons with colour\n",
    "    for region in regions:\n",
    "        polygon = vertices[region]\n",
    "        polygons.append(Polygon(polygon))\n",
    "        axis.fill(*zip(*polygon), fc='none', ec='white', alpha=0.5)\n",
    "            \n",
    "    plt.xlim(min_vals[0]-off, max_vals[0]+off)\n",
    "    plt.ylim(min_vals[1]-off, max_vals[1]+off)\n",
    "    plt.title('Voronoi diagram of Textile container in Amsterdam')\n",
    "    plt.show()\n",
    "    return polygon"
   ]
  },
  {
   "cell_type": "code",
   "execution_count": 200,
   "metadata": {},
   "outputs": [],
   "source": [
    "def create_voronoi_bokeh(containers, to_plot=True):\n",
    "    TOOLS=\"crosshair,pan,wheel_zoom,zoom_in,zoom_out,box_zoom,undo,redo,reset,tap,save,box_select,poly_select,lasso_select,\"\n",
    "    p = figure(tools= TOOLS, x_range=(110000, 135000), y_range=(475000, 495000), plot_width = 750, plot_height=600)\n",
    "    \n",
    "    vor = Voronoi(containers)\n",
    "    regions, vertices = voronoi_finite_polygons_2d(vor)\n",
    "    \n",
    "    polygons = []\n",
    "    for region in regions:\n",
    "        polygon = vertices[region]\n",
    "        polygons.append(Polygon(polygon))\n",
    "    \n",
    "    if to_plot:\n",
    "        street_map = gpd.read_file('../data/woonbc12_region.shp')\n",
    "        street_map3 = gpd.read_file('../data/Inzameling_huisvuil_100220.shp')\n",
    "        street_map3 = street_map3[street_map3['aanbiedwij'] == 'Breng uw restafval  naar een container voor restafval.']\n",
    "        geosource2 = GeoJSONDataSource(geojson = street_map.to_json())\n",
    "        geosource3 = GeoJSONDataSource(geojson = street_map3.to_json())\n",
    "        p.patches('xs', 'ys', source=geosource2, fill_color='whitesmoke', line_color='grey')\n",
    "        p.patches('xs', 'ys', source=geosource3, fill_color='lightgray', line_color='grey')\n",
    "        \n",
    "        tmp = gpd.GeoDataFrame(polygons).rename(columns={0:'geometry'})\n",
    "        geosource = GeoJSONDataSource(geojson = tmp.to_json())\n",
    "        p.patches('xs', 'ys', source=geosource, fill_color='grey', line_color='black', alpha=0.2, line_width=0.1)\n",
    "        p.circle(containers[:,0], containers[:,1], color='red', radius=6)\n",
    "        show(p)\n",
    "    return polygons"
   ]
  },
  {
   "cell_type": "code",
   "execution_count": 228,
   "metadata": {},
   "outputs": [],
   "source": [
    "def assign_points_to_cell(polygons, containers, grid_points):\n",
    "    dct = defaultdict(list)\n",
    "    for point in grid_points:\n",
    "        for i in range(len(polygons)):\n",
    "            if polygons[i].contains(point):\n",
    "                dct[str(containers[i])].append(point)\n",
    "    return dct\n",
    "\n",
    "def distribution_to_distance(tmp, grid_points):\n",
    "    total = 0\n",
    "    for k, v in tmp.items():\n",
    "        container = k.lstrip('[').rstrip(']').split(' ')\n",
    "        container = Point(float(container[0]), float(container[1]))\n",
    "        for point in v:\n",
    "            distance = point.distance(container)\n",
    "            if distance > 750:\n",
    "                print(distance)\n",
    "            total += distance\n",
    "#     print(total, total/len(grid_points))\n",
    "    return total/len(grid_points)"
   ]
  },
  {
   "cell_type": "code",
   "execution_count": 203,
   "metadata": {},
   "outputs": [],
   "source": [
    "# Load the dataframe and create 2d np-arrays of all fractions\n",
    "df_containers, containers = load_data(pages=725)\n",
    "df_containers = df_containers.dropna()\n",
    "textiel = df_containers[df_containers['fractie'] == 'Textiel']\n",
    "textiel = np.column_stack([textiel['x'], textiel['y']])\n",
    "textiel = np.delete(textiel, 284, 0) #dont know why, but this makes it work\n",
    "polygons_textiel = create_voronoi_bokeh(textiel, to_plot=False)"
   ]
  },
  {
   "cell_type": "code",
   "execution_count": 204,
   "metadata": {},
   "outputs": [],
   "source": [
    "dct_assignments = assign_points_to_cell(polygons_textiel, textiel, lst_points)"
   ]
  },
  {
   "cell_type": "code",
   "execution_count": 229,
   "metadata": {},
   "outputs": [
    {
     "name": "stdout",
     "output_type": "stream",
     "text": [
      "750.3848674618548\n",
      "750.3848674618548\n",
      "750.3848674618548\n",
      "750.3848674618548\n",
      "750.3848674618548\n"
     ]
    }
   ],
   "source": [
    "distance_textiel = distribution_to_distance(dct_assignments, lst_points)"
   ]
  },
  {
   "cell_type": "code",
   "execution_count": null,
   "metadata": {},
   "outputs": [],
   "source": []
  }
 ],
 "metadata": {
  "kernelspec": {
   "display_name": "Python 3",
   "language": "python",
   "name": "python3"
  },
  "language_info": {
   "codemirror_mode": {
    "name": "ipython",
    "version": 3
   },
   "file_extension": ".py",
   "mimetype": "text/x-python",
   "name": "python",
   "nbconvert_exporter": "python",
   "pygments_lexer": "ipython3",
   "version": "3.8.2"
  }
 },
 "nbformat": 4,
 "nbformat_minor": 4
}
