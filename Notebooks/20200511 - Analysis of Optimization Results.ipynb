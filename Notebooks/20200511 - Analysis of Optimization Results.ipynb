{
 "cells": [
  {
   "cell_type": "code",
   "execution_count": 4,
   "metadata": {},
   "outputs": [
    {
     "name": "stdout",
     "output_type": "stream",
     "text": [
      "POSTGRES password?WelkomCorne!\n"
     ]
    }
   ],
   "source": [
    "import pandas as pd\n",
    "import geopandas as gpd\n",
    "import numpy as np\n",
    "\n",
    "from bokeh.plotting import figure, show, save\n",
    "from bokeh.models import GeoJSONDataSource, ColumnDataSource, HoverTool\n",
    "from bokeh.io import export_png\n",
    "\n",
    "import shapely\n",
    "\n",
    "\n",
    "import sys\n",
    "\n",
    "sys.path.append(\"../\")\n",
    "\n",
    "from Code.helper_functions import initial_loading\n",
    "from Code.loading_data import load_api_data"
   ]
  },
  {
   "cell_type": "code",
   "execution_count": 2,
   "metadata": {
    "scrolled": true
   },
   "outputs": [
    {
     "name": "stdout",
     "output_type": "stream",
     "text": [
      "Do you want to use addresses instead of clusters?True\n",
      "What stadsdeel do you want to make as a subsection(optional parameter)?\n",
      "What is the maximum amount of containers in a cluster that is considered to be useful?8\n",
      "Where to get db files(local/online)?local\n",
      "DB relation POIs loaded\n"
     ]
    },
    {
     "name": "stderr",
     "output_type": "stream",
     "text": [
      "..\\Code\\loading_data.py:342: SettingWithCopyWarning: \n",
      "A value is trying to be set on a copy of a slice from a DataFrame.\n",
      "Try using .loc[row_indexer,col_indexer] = value instead\n",
      "\n",
      "See the caveats in the documentation: https://pandas.pydata.org/pandas-docs/stable/user_guide/indexing.html#returning-a-view-versus-a-copy\n",
      "  verblijfsobjecten['bag'] = verblijfsobjecten['split'].apply(lambda x: x[3])\\\n",
      "..\\Code\\loading_data.py:361: SettingWithCopyWarning: \n",
      "A value is trying to be set on a copy of a slice from a DataFrame.\n",
      "Try using .loc[row_indexer,col_indexer] = value instead\n",
      "\n",
      "See the caveats in the documentation: https://pandas.pydata.org/pandas-docs/stable/user_guide/indexing.html#returning-a-view-versus-a-copy\n",
      "  df2['ligtin_bag_pnd_identificatie'] = \\\n",
      "..\\Code\\loading_data.py:369: SettingWithCopyWarning: \n",
      "A value is trying to be set on a copy of a slice from a DataFrame.\n",
      "Try using .loc[row_indexer,col_indexer] = value instead\n",
      "\n",
      "See the caveats in the documentation: https://pandas.pydata.org/pandas-docs/stable/user_guide/indexing.html#returning-a-view-versus-a-copy\n",
      "  verblijfsobjecten['bag'] = verblijfsobjecten['bag'].astype('int64')\n"
     ]
    },
    {
     "name": "stdout",
     "output_type": "stream",
     "text": [
      "distance matrix loaded\n",
      "API data loaded\n",
      "Table all households created\n",
      "API and DB joined\n",
      "containers per cluster determined\n"
     ]
    }
   ],
   "source": [
    "df_zo = pd.read_csv('../Results/20200510 - cluster optimization/hillclimber_best_config20200509-1228.csv')\n",
    "all_households, rel_poi_df, joined, df_afstandn2 = initial_loading()"
   ]
  },
  {
   "cell_type": "code",
   "execution_count": null,
   "metadata": {},
   "outputs": [],
   "source": [
    "from Code.helper_functions import add_shortest_distances_to_all_households, analyze_candidate_solution\n",
    "from Code.loading_data import create_aansluitingen\n",
    "\n",
    "joined_cluster_distance = joined.set_index('s1_afv_nodes')\\\n",
    "    .join(df_afstandn2.set_index('van_s1_afv_nodes')).reset_index()\\\n",
    "    .rename(columns={'index': 'van_s1_afv_nodes'})\n",
    "\n",
    "good_result = \\\n",
    "    add_shortest_distances_to_all_households(all_households,\n",
    "                                             joined_cluster_distance,\n",
    "                                             use_count=True)\n",
    "\n",
    "aansluitingen = create_aansluitingen(good_result, joined_cluster_distance, use_count=True)\n",
    "\n",
    "oined_cluster_distance, good_result_rich, aansluitingen,avg_distance, penalties = analyze_candidate_solution(joined, all_households, rel_poi_df, df_afstandn2, clean=True, use_count=True, return_all=True)"
   ]
  },
  {
   "cell_type": "markdown",
   "metadata": {},
   "source": [
    "## Zuidoost"
   ]
  },
  {
   "cell_type": "code",
   "execution_count": null,
   "metadata": {},
   "outputs": [],
   "source": [
    "df_zo = df_zo.drop(['Unnamed: 0', 'Unnamed: 0.1'], axis=1)"
   ]
  },
  {
   "cell_type": "code",
   "execution_count": null,
   "metadata": {},
   "outputs": [],
   "source": [
    "to_join = df_zo[['s1_afv_nodes', 'rest', 'plastic', 'papier', 'glas', 'textiel', 'totaal']].set_index('s1_afv_nodes')\n",
    "joined.s1_afv_nodes = joined.s1_afv_nodes.astype('int')\n",
    "new = to_join.join(joined.set_index('s1_afv_nodes'), lsuffix='_n')\n",
    "new.plot(kind='scatter', x='cluster_x', y='cluster_y', c='totaal')"
   ]
  },
  {
   "cell_type": "code",
   "execution_count": null,
   "metadata": {},
   "outputs": [],
   "source": [
    "households_zo = all_households[(all_households['cluster_x'] > 123600) & (all_households['cluster_y'] < 482600)]\n",
    "households_zo = households_zo.set_index('naar_s1_afv_nodes').join(df_afstandn2[['count', 'naar_s1_afv_nodes']].set_index('naar_s1_afv_nodes'), how='left').drop_duplicates()"
   ]
  },
  {
   "cell_type": "code",
   "execution_count": null,
   "metadata": {},
   "outputs": [],
   "source": [
    "load = gpd.read_file('../data/Inzameling_huisvuil_100220.shp')\n",
    "\n",
    "street_map = load[load['sdcode'] == 'T']\n",
    "geosource = GeoJSONDataSource(geojson = street_map.to_json())\n",
    "street_map_clean = street_map[street_map['aanbiedwij'] == 'Breng uw restafval  naar een container voor restafval.']\n",
    "geosource2 = GeoJSONDataSource(geojson = street_map_clean.to_json())\n",
    "\n",
    "TOOLTIPS = [\n",
    "(\"index\", \"$index\"),\n",
    "(\"(x,y)\", \"($x, $y)\"),\n",
    "(\"Rest\", \"(@rest, @rest_n)\"),\n",
    "(\"Plastic\", \"(@plastic, @plastic_n)\"),\n",
    "(\"Papier\", \"(@papier, @papier_n)\"),\n",
    "(\"Glas\", \"(@glas, @glas_n)\"),\n",
    "(\"Textiel\", \"(@textiel, @textiel_n)\")\n",
    "]\n",
    "\n",
    "TOOLTIPS2 = [\n",
    "(\"index\", \"$index\"),\n",
    "(\"(x,y)\", \"($x, $y)\"),\n",
    "(\"Count\", \"@count\")]\n",
    "\n",
    "source1 = ColumnDataSource(data=new[['cluster_x', 'cluster_y', 'rest', 'papier', 'plastic', 'textiel', 'glas', 'rest_n', 'papier_n', 'glas_n', 'plastic_n', 'textiel_n']])\n",
    "source2 = ColumnDataSource(data=households_zo)\n",
    "\n",
    "\n",
    "p = figure()\n",
    "r1 = p.patches('xs', 'ys', source=geosource, fill_color='grey', alpha=0.1, line_color=None)\n",
    "r2 = p.patches('xs', 'ys', source=geosource2, fill_color='grey', alpha=0.3, line_color=None)\n",
    "r3 = p.circle(x='cluster_x', y='cluster_y', color='red', line_color=None, source=source1, radius=20)\n",
    "p.add_tools(HoverTool(renderers=[r3], tooltips=TOOLTIPS))\n",
    "# p.circle(x=new[new['rest'] > 0]['cluster_x'], y=new[new['rest'] > 0]['cluster_y'], fill_color='red', line_color=None, radius=15, alpha=0.5)\n",
    "# p.circle(x=new[new['rest'] == 0]['cluster_x'], y=new[new['rest'] == 0]['cluster_y'], fill_color='orange', line_color=None, radius=15, alpha=0.5)\n",
    "r4 = p.circle(x='cluster_x', y='cluster_y', radius=1.5, source=source2)\n",
    "p.add_tools(HoverTool(renderers=[r4], tooltips=TOOLTIPS2))\n",
    "\n",
    "\n",
    "show(p)"
   ]
  },
  {
   "cell_type": "code",
   "execution_count": null,
   "metadata": {},
   "outputs": [],
   "source": [
    "# Bokeh interactive representation\n",
    "def to_bokeh_interactive(df):\n",
    "    TOOLS=\"crosshair,pan,wheel_zoom,zoom_in,zoom_out,box_zoom,undo,redo,reset,tap,save,box_select,poly_select,lasso_select,\"\n",
    "    \n",
    "    # Configuring hover over tooltip\n",
    "    TOOLTIPS = [\n",
    "    (\"index\", \"$index\"),\n",
    "    (\"(x,y)\", \"($x, $y)\"),\n",
    "    (\"Rest\", \"@rest\"),\n",
    "    (\"Plastic\", \"@plastic\"),\n",
    "]\n",
    "\n",
    "    colors = {'Rest':'grey', 'Papier':'red', 'Plastic':'orange', 'Glas':'green', 'Textiel': 'blue', 'Brood': 'purple', None: 'pink'}\n",
    "    p = figure(tools=TOOLS, tooltips = TOOLTIPS, title=\"Garbage Containers in Amsterdam\", x_range=(110000, 135000), y_range=(475000, 495000), plot_width = 750, plot_height=600)\n",
    "    \n",
    "    # To be able to name them\n",
    "    for fraction in df.fractie.unique():\n",
    "        if fraction != None:\n",
    "            df_temp = df[df['fractie'] == fraction]\n",
    "            p.circle(x = df_temp['x'], y = df_temp['y'], fill_color=colors[fraction], line_width=0, radius=10, name=fraction, legend_label=str(fraction))\n",
    "    p.patches('xs', 'ys', source=geosource, fill_color='grey', alpha=0.2)\n",
    "#     p.patches('xs', 'ys', source=geosource2, fill_color='grey', alpha=0.2)\n",
    "    p.patches('xs', 'ys', source=geosource3, fill_color='grey', alpha=0.2)\n",
    "    p.legend.location = \"bottom_left\"\n",
    "    output_file(\"garbage_containers.html\")\n",
    "    show(p)\n",
    "    return p"
   ]
  },
  {
   "cell_type": "markdown",
   "metadata": {},
   "source": [
    "## Other pieces"
   ]
  },
  {
   "cell_type": "code",
   "execution_count": 16,
   "metadata": {},
   "outputs": [],
   "source": [
    "def visualise_configuration():\n",
    "    coordinates_dict = {'T':[123600, 131000, 476500, 482700],\n",
    "                        'N':[118000, 135000, 486700, 495000]}\n",
    "    filename = input(\"Please provide the requested filename\")\n",
    "    area = input(\"Provide Code of neighborhood (T/N/F/C)\")\n",
    "    if area == 'C':\n",
    "        area = ['M', 'A', 'K', 'E']\n",
    "    df_zo = pd.read_csv(filename)\n",
    "#     df_zo = df_zo.drop(['Unnamed: 0', 'Unnamed: 0.1'], axis=1)\n",
    "    \n",
    "    all_households, rel_poi_df, joined, df_afstandn2 = initial_loading()\n",
    "    \n",
    "    to_join = df_zo[['s1_afv_nodes', 'rest', 'plastic', 'papier', 'glas', 'textiel', 'totaal']].set_index('s1_afv_nodes')\n",
    "    joined.s1_afv_nodes = joined.s1_afv_nodes.astype('int')\n",
    "    new = to_join.join(joined.set_index('s1_afv_nodes'), lsuffix='_n')\n",
    "    \n",
    "#     households_zo = all_households[(all_households['cluster_x'] > coordinates_dict[area][0]) & (all_households['cluster_x'] < coordinates_dict[area][1]) & (all_households['cluster_y'] > coordinates_dict[area][2]) & (all_households['cluster_y'] < coordinates_dict[area][3])]\n",
    "    households_zo = all_households[all_households['in_neigborhood']]\n",
    "    households_zo = households_zo.set_index('naar_s1_afv_nodes').join(df_afstandn2[['count', 'naar_s1_afv_nodes']].set_index('naar_s1_afv_nodes'), how='left').drop_duplicates()\n",
    "\n",
    "    load = gpd.read_file('../data/Inzameling_huisvuil_100220.shp')\n",
    "    street_map = load[load['sdcode'].isin(list(area))]\n",
    "    geosource = GeoJSONDataSource(geojson = street_map.to_json())\n",
    "    street_map_clean = street_map[street_map['aanbiedwij'] == 'Breng uw restafval  naar een container voor restafval.']\n",
    "    geosource2 = GeoJSONDataSource(geojson = street_map_clean.to_json())\n",
    "    \n",
    "\n",
    "    TOOLTIPS = [\n",
    "    (\"index\", \"$index\"),\n",
    "    (\"(x,y)\", \"($x, $y)\"),\n",
    "    (\"Rest\", \"(@rest, @rest_n)\"),\n",
    "    (\"Plastic\", \"(@plastic, @plastic_n)\"),\n",
    "    (\"Papier\", \"(@papier, @papier_n)\"),\n",
    "    (\"Glas\", \"(@glas, @glas_n)\"),\n",
    "    (\"Textiel\", \"(@textiel, @textiel_n)\")\n",
    "    ]\n",
    "\n",
    "    TOOLTIPS2 = [\n",
    "    (\"index\", \"$index\"),\n",
    "    (\"(x,y)\", \"($x, $y)\"),\n",
    "    (\"Count\", \"@count\")]\n",
    "\n",
    "    source1 = ColumnDataSource(data=new[['cluster_x', 'cluster_y', 'rest', 'papier', 'plastic', 'textiel', 'glas', 'rest_n', 'papier_n', 'glas_n', 'plastic_n', 'textiel_n']])\n",
    "    source2 = ColumnDataSource(data=households_zo[households_zo['count'] > 0])\n",
    "    source3 = ColumnDataSource(data=households_zo[households_zo['count'].isna()])\n",
    "\n",
    "\n",
    "    p = figure(match_aspect=True)\n",
    "    r1 = p.patches('xs', 'ys', source=geosource, fill_color='grey', alpha=0.1, line_color=None)\n",
    "    r2 = p.patches('xs', 'ys', source=geosource2, fill_color='grey', alpha=0.3, line_color=None)\n",
    "    r3 = p.circle(x='cluster_x', y='cluster_y', color='red', line_color=None, source=source1, radius=20)\n",
    "    p.add_tools(HoverTool(renderers=[r3], tooltips=TOOLTIPS))\n",
    "    r4 = p.circle(x='cluster_x', y='cluster_y', radius=1.5, source=source2)\n",
    "    p.add_tools(HoverTool(renderers=[r4], tooltips=TOOLTIPS2))\n",
    "    r5 = p.circle(x='cluster_x', y='cluster_y', radius=1.5, source=source3, alpha = 0.3, fill_color='green', line_color=None)\n",
    "    p.add_tools(HoverTool(renderers=[r5], tooltips=TOOLTIPS2))\n",
    "\n",
    "    show(p)\n",
    "    return p"
   ]
  },
  {
   "cell_type": "code",
   "execution_count": 17,
   "metadata": {},
   "outputs": [
    {
     "name": "stdout",
     "output_type": "stream",
     "text": [
      "Please provide the requested filenamehillclimber_best_config20200516-1340.csv\n",
      "Provide Code of neighborhood (T/N/F/C)T\n",
      "Do you want to use addresses instead of clusters?8\n",
      "What stadsdeel do you want to make as a subsection(optional parameter)?T\n",
      "What is the maximum amount of containers in a cluster that is considered to be useful?8\n",
      "Where to get db files(local/online)?local\n",
      "DB relation POIs loaded\n",
      "distance matrix loaded\n",
      "API data loaded\n",
      "Table all households created\n",
      "API and DB joined\n",
      "containers per cluster determined\n",
      "move_rest determined\n"
     ]
    }
   ],
   "source": [
    "kaartje = visualise_configuration()"
   ]
  },
  {
   "cell_type": "code",
   "execution_count": null,
   "metadata": {},
   "outputs": [],
   "source": [
    "save(kaartje, 'total.html')\n",
    "export_png(kaartje, filename='total.png')"
   ]
  },
  {
   "cell_type": "code",
   "execution_count": null,
   "metadata": {},
   "outputs": [],
   "source": [
    "def calculate_penalties(good_result, aansluitingen, use_count=False,\n",
    "                        w_rest=0.35, w_plas=0.25, w_papi=0.2, w_glas=0.15,\n",
    "                        w_text=0.05, return_all=False):\n",
    "    \"\"\"\n",
    "    Calculate the amount of penalties based on described policies.\n",
    "\n",
    "    This function calculates all the penalties associated with the candidate\n",
    "    solution. It does this by calculating the number of times all constraints\n",
    "    are violated and applies the weighing that is associated with all these\n",
    "    violations. D_... contain the maximum allowed walking distance to a\n",
    "    container of the specified fraction. P_... show the maximum amount of\n",
    "    households connected to a container of the fraction specified.\n",
    "\n",
    "    Input:\n",
    "    dataframe good_result containing per adress or adress poi the distance\n",
    "    to the nearest container for all fractions.\n",
    "    dataframe connections containing for all clusters the amount of containers\n",
    "    per fraction, the amount of people using these containers and percentage\n",
    "    of occupancy compared to the norm\n",
    "\n",
    "    Output:\n",
    "    The sum of all different penalties as a single float\n",
    "    \"\"\"\n",
    "\n",
    "    fractions = {'rest': [100, 100, 0.35], 'plastic':[150, 200, 0.25], 'papier':[150, 200, 0.2], 'glas':[150, 200, 0.15], 'textiel':[200, 750, 0.05]}\n",
    "    MAX_PERC = 100\n",
    "    NORMAL = 250\n",
    "    penalties = []\n",
    "    for k,v in fractions.items():\n",
    "        dist_pen = good_result[good_result[f'{k}_afstand'] > v[0]]\n",
    "        conn_pen = aansluitingen[aansluitingen[f'{k}_perc'] > MAX_PERC]\n",
    "        if not use_count:\n",
    "            print('a')\n",
    "            penalties.append((dist_pen[f'{k}_afstand'] - v[0]).sum() / good_result.shape[0] * v[2])\n",
    "            penalties.append((conn_pen[f'poi_{k}'] - (conn_pen[k] * v[1])).sum() / good_result['count'].sum() * v[2] * NORMAL)\n",
    "        else:\n",
    "            print('b')\n",
    "            penalties.append(((dist_pen[f'{k}_afstand'] -v[0])* dist_pen['count']).sum()/good_result['count'].sum() * v[2])\n",
    "            penalties.append((conn_pen[f'poi_{k}'] - (conn_pen[k] * v[1])).sum() / good_result['count'].sum() * v[2] * NORMAL)\n",
    "\n",
    "    if return_all:\n",
    "        return penalties\n",
    "    else:\n",
    "        return sum(penalties)"
   ]
  },
  {
   "cell_type": "code",
   "execution_count": null,
   "metadata": {},
   "outputs": [],
   "source": [
    "calculate_penalties(good_result, aansluitingen, use_count=True, return_all=True)"
   ]
  },
  {
   "cell_type": "code",
   "execution_count": null,
   "metadata": {},
   "outputs": [],
   "source": [
    "df = pd.read_csv('../Data/households_per_cluster.csv')\n",
    "df1 = df[df['ligtin_bag_pnd_identificatie'].str.len() == 16]\n",
    "df2 = df[df['ligtin_bag_pnd_identificatie'].str.len() != 16]\n",
    "df2['ligtin_bag_pnd_identificatie'] = df2['ligtin_bag_pnd_identificatie'].str.split('|').map(lambda x: x[0])\n",
    "df = df1.append([df2])\n",
    "df['bag'] = df['ligtin_bag_pnd_identificatie'].astype('int64')\n",
    "df = df.drop(['ligtin_bag_pnd_identificatie'], axis=1)"
   ]
  },
  {
   "cell_type": "code",
   "execution_count": null,
   "metadata": {},
   "outputs": [],
   "source": [
    "df_afstandn = df_afstandn2.drop(['count'], axis=1)\n",
    "\n",
    "verblijfsobjecten = rel_poi_df[rel_poi_df['type'] != 'afval_cluster']\n",
    "verblijfsobjecten['bag'] = verblijfsobjecten['bag'].astype('int64')\n",
    "temp = verblijfsobjecten.set_index('bag').join(df.set_index('bag'), how='left')\n",
    "temp['count'] = temp['aantal_woonfunctie']\n",
    "\n",
    "joined = temp.set_index('s1_afv_nodes')\\\n",
    "        .join(df_afstandn.set_index('naar_s1_afv_nodes'), how='outer')\n",
    "joined = joined.reset_index()[['van_s1_afv_nodes', 'index', 'afstand', 'count']].\\\n",
    "    rename(columns={'index': 'naar_s1_afv_nodes'}).sort_values(by='afstand').\\\n",
    "    reset_index().drop(['index'], axis=1).dropna()"
   ]
  },
  {
   "cell_type": "code",
   "execution_count": null,
   "metadata": {},
   "outputs": [],
   "source": []
  }
 ],
 "metadata": {
  "kernelspec": {
   "display_name": "Python 3",
   "language": "python",
   "name": "python3"
  },
  "language_info": {
   "codemirror_mode": {
    "name": "ipython",
    "version": 3
   },
   "file_extension": ".py",
   "mimetype": "text/x-python",
   "name": "python",
   "nbconvert_exporter": "python",
   "pygments_lexer": "ipython3",
   "version": "3.8.2"
  }
 },
 "nbformat": 4,
 "nbformat_minor": 4
}
