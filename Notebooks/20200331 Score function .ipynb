{
 "cells": [
  {
   "cell_type": "code",
   "execution_count": 236,
   "metadata": {},
   "outputs": [],
   "source": [
    "import requests\n",
    "import random\n",
    "\n",
    "import numpy as np\n",
    "import pandas as pd\n",
    "import seaborn as sns\n",
    "\n",
    "import descartes\n",
    "import geopandas as gpd\n",
    "\n",
    "from bokeh.plotting import figure, output_file, show, save\n",
    "from bokeh.models import GeoJSONDataSource\n",
    "\n",
    "from shapely.geometry import Point, MultiPolygon\n",
    "from shapely.geometry.polygon import Polygon, LinearRing"
   ]
  },
  {
   "cell_type": "code",
   "execution_count": 148,
   "metadata": {},
   "outputs": [],
   "source": [
    "def create_grid_points(size=100, prnt=False):\n",
    "    \"\"\"\n",
    "    This function returns coordinates in the form of a grid of coordinates that fall within the inhabited\n",
    "    parts of Amsterdam. These points can function as samples to calculate average walking distance to nearest container.\n",
    "    \"\"\"\n",
    "    \n",
    "    street_map = gpd.read_file('../data/woonbc12_region.shp')\n",
    "    true_points = []\n",
    "    points = []\n",
    "    for i in range(110000, 135000, size):\n",
    "        for j in range(475000, 495000, size):\n",
    "            points.append(Point(i, j))\n",
    "\n",
    "    for k in range(street_map.shape[0]):\n",
    "        try:\n",
    "            polygon = MultiPolygon(street_map['geometry'].iloc[k]) # If neighborhood is multiple seperated pieces\n",
    "        except:\n",
    "            polygon = Polygon(street_map['geometry'].iloc[k]) # Other cases\n",
    "        [true_points.append(point) for point in points if polygon.contains(point) == True]\n",
    "        if prnt:\n",
    "            print(len(true_points))\n",
    "    return true_points"
   ]
  },
  {
   "cell_type": "code",
   "execution_count": 93,
   "metadata": {},
   "outputs": [],
   "source": [
    "def load_data(pages = 725, save=False):\n",
    "    \"\"\"\n",
    "    Loops through all pages of the API of garbage containers and stores these in a DF.\n",
    "    The fraction and coordinates are saved with the unique id.\n",
    "    \"\"\"\n",
    "\n",
    "    # Formation of variables to be filled in loop\n",
    "    containers = []\n",
    "    coordinates = []\n",
    "    type_vuil = []\n",
    "    counter = 0\n",
    "    container_ids = []\n",
    "    lons_new = []\n",
    "    lats_new = []\n",
    "\n",
    "    # Initial link to send GET request to\n",
    "    link = 'https://api.data.amsterdam.nl/vsd/afvalcontainers'\n",
    "\n",
    "    # While loop to get all pages\n",
    "    while link != None and counter < pages: #100 as limit for testing purpose\n",
    "        counter += 1 #Update counter\n",
    "        response = requests.get(link) # Send request\n",
    "        output = response.json()\n",
    "        for result in output['results']:\n",
    "            try:\n",
    "                containers.append(result)\n",
    "                container_ids.append(result['container_id'])\n",
    "    #             lons_new.append(float(result['container_wgs84_lon']))\n",
    "    #             lats_new.append(float(result['container_wgs84_lat']))\n",
    "                lons_new.append(result['container_geometrie']['coordinates'][0])\n",
    "                lats_new.append(result['container_geometrie']['coordinates'][1])\n",
    "                type_vuil.append(result['container_afvalfractie'])\n",
    "            except:\n",
    "                print('a')\n",
    "                pass \n",
    "        try:\n",
    "            link = output['_links']['next']['href'] # Get link to next page\n",
    "\n",
    "        except:\n",
    "            link = None\n",
    "\n",
    "    df= pd.DataFrame([container_ids, lons_new, lats_new, type_vuil]).T.rename(columns={0: 'id', 1:'x', 2:'y', 3:'fractie'})\n",
    "    \n",
    "    if save:\n",
    "        df.to_csv('/../data/containers.csv')\n",
    "    return df, containers"
   ]
  },
  {
   "cell_type": "code",
   "execution_count": 94,
   "metadata": {},
   "outputs": [
    {
     "name": "stdout",
     "output_type": "stream",
     "text": [
      "a\n",
      "a\n",
      "a\n",
      "a\n",
      "a\n",
      "a\n",
      "a\n",
      "a\n",
      "a\n",
      "a\n",
      "a\n",
      "a\n",
      "a\n",
      "a\n",
      "a\n",
      "a\n",
      "a\n",
      "a\n",
      "a\n",
      "a\n",
      "a\n",
      "a\n",
      "a\n",
      "a\n",
      "a\n",
      "a\n",
      "a\n",
      "a\n",
      "a\n",
      "a\n",
      "a\n",
      "a\n",
      "a\n",
      "a\n",
      "a\n",
      "a\n",
      "a\n",
      "a\n",
      "a\n",
      "a\n",
      "a\n",
      "a\n",
      "a\n",
      "a\n",
      "a\n",
      "a\n",
      "a\n",
      "a\n",
      "a\n",
      "a\n",
      "a\n",
      "a\n",
      "a\n",
      "a\n",
      "a\n",
      "a\n",
      "a\n",
      "a\n",
      "a\n",
      "a\n",
      "a\n",
      "a\n",
      "a\n",
      "a\n",
      "a\n",
      "a\n",
      "a\n",
      "a\n",
      "a\n",
      "a\n",
      "a\n",
      "a\n",
      "a\n",
      "a\n",
      "a\n",
      "a\n",
      "a\n",
      "a\n",
      "a\n",
      "a\n",
      "a\n",
      "a\n",
      "a\n",
      "a\n",
      "a\n",
      "a\n",
      "a\n",
      "a\n",
      "a\n",
      "a\n",
      "a\n",
      "a\n",
      "a\n",
      "a\n",
      "a\n",
      "a\n",
      "a\n",
      "a\n"
     ]
    }
   ],
   "source": [
    "df, containers = load_data(pages=725)"
   ]
  },
  {
   "cell_type": "code",
   "execution_count": 149,
   "metadata": {},
   "outputs": [],
   "source": [
    "grid_points = create_grid_points()"
   ]
  },
  {
   "cell_type": "code",
   "execution_count": 211,
   "metadata": {},
   "outputs": [],
   "source": [
    "df_textiel = df[df['fractie'] == 'Textiel']\n",
    "df_glas = df[df['fractie'] == 'Glas']\n",
    "df_papier = df[df['fractie'] == 'Papier']\n",
    "df_plastic = df[df['fractie'] == 'Plastic']\n",
    "df_rest = df[df['fractie'] == 'Rest']"
   ]
  },
  {
   "cell_type": "code",
   "execution_count": 317,
   "metadata": {},
   "outputs": [],
   "source": [
    "def distance_from_gridpoint_to_container(grid_point, container_x, container_y):\n",
    "    \"\"\"\n",
    "    Calculates Euclidian distance between grid_point and container selected.\n",
    "    Returns distance in coordinates WGS84\n",
    "    \"\"\"\n",
    "    grid_point = np.asarray(grid_point)\n",
    "    container = np.asarray([container_x, container_y])\n",
    "    dist = np.linalg.norm(grid_point-container)\n",
    "    return dist\n",
    "\n",
    "def shortest_distance_to_container(grid_point, containers):\n",
    "    lowest = 999999999999\n",
    "    nearest_container = None\n",
    "    # Decrease the radius of containers to speed up computing\n",
    "    containers = containers[(containers['x'] - 2000 < grid_point.coords[0][0]) & (containers['x'] + 2000 > grid_point.coords[0][0])&\\\n",
    "                           (containers['y'] - 2000 < grid_point.coords[0][1]) & (containers['y'] + 2000 > grid_point.coords[0][1])]\n",
    "    for i in range(containers.shape[0]):\n",
    "        dist = distance_from_gridpoint_to_container(grid_point, containers.iloc[i]['x'], containers.iloc[i]['y'])\n",
    "        if dist < lowest:\n",
    "            lowest = dist\n",
    "            nearest_container = i\n",
    "    return lowest, nearest_container\n",
    "\n",
    "def shortest_distance_to_container_all_points(grid_points, containers, sample_size=10):\n",
    "    lst_total = []\n",
    "    \n",
    "    random.shuffle(grid_points)\n",
    "    for point in grid_points[:sample_size]:\n",
    "        temp= list(shortest_distance_to_container(point, containers))\n",
    "        temp.append(point)\n",
    "        lst_total.append(temp)\n",
    "\n",
    "    return pd.DataFrame(lst_total).rename(columns={0:'distance', 1:'nearest_container', 2:'coordinates'})\n",
    "\n",
    "def calculate_score(df, grid_points, repetitions=10, sample_size=10, show_plot=True, statistics=True):\n",
    "    \n",
    "    # Devide dataframe in different fractions\n",
    "    df_textiel = df[df['fractie'] == 'Textiel']\n",
    "    df_glas = df[df['fractie'] == 'Glas']\n",
    "    df_papier = df[df['fractie'] == 'Papier']\n",
    "    df_plastic = df[df['fractie'] == 'Plastic']\n",
    "    df_rest = df[df['fractie'] == 'Rest']\n",
    "    \n",
    "    # Create list to append scores to\n",
    "    scores = []\n",
    "    penalties = 0 \n",
    "    \n",
    "    for i in range(repetitions):    \n",
    "        total = [shortest_distance_to_container_all_points(grid_points, df_glas)['distance'].mean(),\\\n",
    "                 shortest_distance_to_container_all_points(grid_points, df_textiel)['distance'].mean(),\\\n",
    "                 shortest_distance_to_container_all_points(grid_points, df_papier)['distance'].mean(),\\\n",
    "                 shortest_distance_to_container_all_points(grid_points, df_plastic)['distance'].mean(),\\\n",
    "                 shortest_distance_to_container_all_points(grid_points, df_rest)['distance'].mean()]\n",
    "        score = 0.15 * total[0] + 0.05 * total[1] + 0.2 * total[2] + 0.25 * total[3] + 0.35 * total[4]\n",
    "        if score < 500:\n",
    "            scores.append(score)\n",
    "#         print(score, total[0], total[1], total[2], total[3], total[4])\n",
    "        else:\n",
    "            penalties += 1\n",
    "            print(penalties, score, total[0], total[1], total[2], total[3], total[4])\n",
    "        \n",
    "    # Series for statistics and plot\n",
    "    scores_series = pd.Series(scores)\n",
    "        \n",
    "    if show_plot:\n",
    "        sns.distplot(scores_series).set(title='distribution of score functions (n=10)', xlabel='d_w in meters')\n",
    "    \n",
    "    if statistics:\n",
    "        print(scores_series.mean(), scores_series.median(), scores_series.std())\n",
    "    \n",
    "    return scores\n",
    "    \n",
    "        "
   ]
  },
  {
   "cell_type": "code",
   "execution_count": 311,
   "metadata": {},
   "outputs": [
    {
     "name": "stdout",
     "output_type": "stream",
     "text": [
      "174.5401637116778 129.07738634608978 246.9860336087122 88.75176042163375 129.98716699745964 264.52031498753445\n",
      "136.7443036335933 117.03643503217442 137.48147843570555 87.66509778555316 156.16382382004429 159.25939698531465\n",
      "150.92776690088394 114.46141189310747 290.6840245248269 124.66139860758044 225.37944371536395 108.42060925805545\n",
      "119.633196681562 151.1443629467382 259.48877672658966 92.61137274750062 161.69422574568395 71.54649262085901\n",
      "227.36044775964103 128.44353332759562 224.25352175382136 145.92796424011613 117.78244200458798 395.0001094961155\n",
      "168.2340805745817 149.16414054666714 207.68830359372342 105.98565978596159 313.74134504932033 102.40736026678019\n",
      "144.743750931914 107.79750241317576 303.9667461484331 179.60940100587496 161.39176453586475 106.01704836392807\n",
      "112.54324102444642 85.88256527655352 393.200998762607 68.88908432565678 116.85947714834087 105.73748612176132\n",
      "133.1426120646995 130.8348439177865 275.8770480512047 106.34215739883575 194.07083619595355 85.53540727347362\n",
      "108.61857811812686 119.96016942069885 239.4231748922115 142.22579370283734 126.49151972259563 53.101015111986\n",
      "147.64881414011265 140.74402728275365 35.574658569514504\n"
     ]
    },
    {
     "data": {
      "text/plain": [
       "[174.5401637116778,\n",
       " 136.7443036335933,\n",
       " 150.92776690088394,\n",
       " 119.633196681562,\n",
       " 227.36044775964103,\n",
       " 168.2340805745817,\n",
       " 144.743750931914,\n",
       " 112.54324102444642,\n",
       " 133.1426120646995,\n",
       " 108.61857811812686]"
      ]
     },
     "execution_count": 311,
     "metadata": {},
     "output_type": "execute_result"
    },
    {
     "data": {
      "image/png": "[encoded data removed]",
      "text/plain": [
       "<Figure size 432x288 with 1 Axes>"
      ]
     },
     "metadata": {
      "needs_background": "light"
     },
     "output_type": "display_data"
    }
   ],
   "source": [
    "calculate_score(df, grid_points)"
   ]
  },
  {
   "cell_type": "code",
   "execution_count": 252,
   "metadata": {},
   "outputs": [
    {
     "data": {
      "text/plain": [
       "(115700.0, 484300.0)"
      ]
     },
     "execution_count": 252,
     "metadata": {},
     "output_type": "execute_result"
    }
   ],
   "source": [
    "grid_points[0].coords[0]"
   ]
  },
  {
   "cell_type": "code",
   "execution_count": 296,
   "metadata": {},
   "outputs": [
    {
     "data": {
      "text/plain": [
       "(128.24990100571455, 124.17152268779357, 23.706171528048742)"
      ]
     },
     "execution_count": 296,
     "metadata": {},
     "output_type": "execute_result"
    }
   ],
   "source": [
    "scores_series.mean(), scores_series.median(), scores_series.std()"
   ]
  },
  {
   "cell_type": "markdown",
   "metadata": {},
   "source": [
    "### Random Algorithm"
   ]
  },
  {
   "cell_type": "code",
   "execution_count": 297,
   "metadata": {},
   "outputs": [],
   "source": [
    "# Make a copy for shuffling\n",
    "df_shuffled = df.copy()"
   ]
  },
  {
   "cell_type": "code",
   "execution_count": 316,
   "metadata": {},
   "outputs": [
    {
     "name": "stdout",
     "output_type": "stream",
     "text": [
      "132.09386512437706 135.187081577196 17.37402749369987\n",
      "139.88212236786654 132.2111164745225 32.500234797781275\n",
      "1\n",
      "135.24310732531697 126.12527453596991 16.695073158966668\n",
      "1\n",
      "144.31922557614234 132.36712675533752 26.588537744074472\n",
      "135.00104924857038 126.69188947996179 22.47695394237623\n",
      "1\n",
      "2\n",
      "125.74934851423444 131.07718258404725 17.430278980766037\n",
      "138.7997951931069 129.6567511485766 26.698164196222116\n",
      "135.37629980637473 136.57637365623847 17.191866706393792\n",
      "1\n",
      "132.05143465220596 133.11270811899078 19.23500562534172\n",
      "132.84963104524877 130.22310958206367 15.958023302959598\n"
     ]
    },
    {
     "data": {
      "image/png": "[encoded data removed]",
      "text/plain": [
       "<Figure size 432x288 with 1 Axes>"
      ]
     },
     "metadata": {
      "needs_background": "light"
     },
     "output_type": "display_data"
    }
   ],
   "source": [
    "for i in range(10):\n",
    "    fractions = list(df_shuffled['fractie'])\n",
    "    random.shuffle(fractions)\n",
    "    df_shuffled['fractie'] = fractions\n",
    "    calculate_score(df_shuffled, grid_points)"
   ]
  },
  {
   "cell_type": "code",
   "execution_count": null,
   "metadata": {},
   "outputs": [],
   "source": []
  }
 ],
 "metadata": {
  "kernelspec": {
   "display_name": "Python 3",
   "language": "python",
   "name": "python3"
  },
  "language_info": {
   "codemirror_mode": {
    "name": "ipython",
    "version": 3
   },
   "file_extension": ".py",
   "mimetype": "text/x-python",
   "name": "python",
   "nbconvert_exporter": "python",
   "pygments_lexer": "ipython3",
   "version": "3.8.2"
  }
 },
 "nbformat": 4,
 "nbformat_minor": 4
}
