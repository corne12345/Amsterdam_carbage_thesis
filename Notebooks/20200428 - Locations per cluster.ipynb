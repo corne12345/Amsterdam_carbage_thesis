{
 "cells": [
  {
   "cell_type": "code",
   "execution_count": 1,
   "metadata": {},
   "outputs": [
    {
     "name": "stdout",
     "output_type": "stream",
     "text": [
      "POSTGRES password?WelkomCorne!\n"
     ]
    }
   ],
   "source": [
    "import requests\n",
    "import pandas as pd\n",
    "import geopandas as gpd\n",
    "\n",
    "import sys\n",
    "\n",
    "sys.path.append(\"../\")\n",
    "\n",
    "# from helper_functions import *\n",
    "# from loading_data import *\n",
    "from Code.helper_functions import initial_loading\n",
    "from Code.algorithms import random_start_hillclimber\n",
    "from Code.algorithms import hillclimber2"
   ]
  },
  {
   "cell_type": "markdown",
   "metadata": {},
   "source": [
    "### Locations per cluster\n",
    "The first step is to slightly modify the loading of the clusters"
   ]
  },
  {
   "cell_type": "code",
   "execution_count": null,
   "metadata": {},
   "outputs": [],
   "source": [
    "def load_api_data(prnt=False):\n",
    "    \"\"\"\n",
    "    This function loads in information on the current composition of container\n",
    "    clusters in Amsterdam. It uses the API from data.amsterdam.nl (available at\n",
    "    'https://api.data.amsterdam.nl/vsd/afvalclusters'). It returns the coordinates,\n",
    "    amount and volume of different fractions and the address of the clusters. As\n",
    "    a check, it is determined whether or not the cluster is currently active.\n",
    "    Returns:\n",
    "    - df containing coordinates, dict-like amount and volume per fraction and\n",
    "    address.\n",
    "    \"\"\"\n",
    "    x_coordinates = []\n",
    "    y_coordinates = []\n",
    "    aantal = []\n",
    "    volumes = []\n",
    "    adresses = []\n",
    "    buurt = []\n",
    "\n",
    "    link = 'https://api.data.amsterdam.nl/vsd/afvalclusters'\n",
    "\n",
    "    while link != None: #This is the case on the last page of the API\n",
    "        if prnt: # Can be used for some kind of monitoring of progres\n",
    "            print(link)\n",
    "        response = requests.get(link)\n",
    "        output = response.json()\n",
    "        for result in output['results']:\n",
    "            if result['cluster_datum_einde_cluster'] == None: #Als het cluster nog actief is\n",
    "                x_coordinates.append(str(result['cluster_geometrie']['coordinates'][0]))\n",
    "                y_coordinates.append(str(result['cluster_geometrie']['coordinates'][1]))\n",
    "                aantal.append(result['cluster_fractie_aantal'])\n",
    "                volumes.append(result['cluster_fractie_volume'])\n",
    "                adresses.append(result['bag_adres_openbare_ruimte_naam'])\n",
    "                buurt.append(result['gbd_buurt_code'])\n",
    "        try:\n",
    "            link = output['_links']['next']['href'] #Retrieve link for next page\n",
    "        except:\n",
    "            link = None #True for last page of API\n",
    "\n",
    "    df_clusters = pd.DataFrame([x_coordinates, y_coordinates, aantal, volumes, adresses, buurt]).T\n",
    "    df_clusters = df_clusters.rename(columns={0: 'cluster_x', 1:'cluster_y', 2:'aantal_per_fractie', 3:'volume_per_fractie', 4: 'street_name', 5:'buurt'})\n",
    "    # Transform coordinates of clusters to ints, as this helps easing join\n",
    "    df_clusters['cluster_x'] = df_clusters['cluster_x'].astype('float').round(0).astype('int')\n",
    "    df_clusters['cluster_y'] = df_clusters['cluster_y'].astype('float').round(0).astype('int')\n",
    "    df_clusters['wijk'] = df_clusters['buurt'].str[:3]\n",
    "    df_clusters['stadsdeel'] = df_clusters['buurt'].str[0]\n",
    "    return df_clusters"
   ]
  },
  {
   "cell_type": "code",
   "execution_count": null,
   "metadata": {},
   "outputs": [],
   "source": [
    "def load_geodata_containers(subsectie=None):\n",
    "    \"\"\"\n",
    "    This function loads in all polygons representing areas in the city of Amsterdam\n",
    "    where general waste needs to be brought to a container. This is different\n",
    "    from the alternative where general waste is collected from the sidewalk. This\n",
    "    is needed to filter the address POI's to relevant POI's for optimization.\n",
    "    Subsectie is optional parameter to filter on specific stadsdelen. This can be used\n",
    "    for partial optimization.\n",
    "\n",
    "    Returns:\n",
    "    - List of polygons making up the area of centralized garbage collection\n",
    "    \"\"\"\n",
    "\n",
    "    source = gpd.read_file('../data/Inzameling_huisvuil_100220.shp')\n",
    "    source = source[source['aanbiedwij'] == 'Breng uw restafval  naar een container voor restafval.']\n",
    "    if subsectie:\n",
    "        source = source[source['sdcode'] == subsectie]\n",
    "    return list(source.geometry)"
   ]
  },
  {
   "cell_type": "code",
   "execution_count": null,
   "metadata": {},
   "outputs": [],
   "source": [
    "def get_db_afvalcluster_info():\n",
    "    \"\"\"\n",
    "    Function that modifies loads in data on the garbage clusters from the Postgres\n",
    "    database and modifies the resulting dataframe in a way that makes it usable\n",
    "    for future analysis\n",
    "    Returns:\n",
    "    - pandas DataFrame containing all information from the database and also the\n",
    "    added coordinates for the clusters and the type of POI\n",
    "    \"\"\"\n",
    "    polygon_list = load_geodata_containers()\n",
    "    db_df = get_dataframe(\"\"\"SELECT *\n",
    "                             FROM proj_afval_netwerk.afv_rel_nodes_poi\n",
    "                             \"\"\")\n",
    "    db_df['woning'] = db_df['bk_afv_rel_nodes_poi'].str.split('~')\n",
    "    db_df['cluster_x'] = db_df['woning'].apply(lambda x: x[0]).astype('float').round(0).astype('int')\n",
    "    db_df['cluster_y'] = db_df['woning'].apply(lambda x: x[1]).astype('float').round(0).astype('int')\n",
    "    db_df['type'] = db_df['woning'].apply(lambda x: x[2])\n",
    "    db_df['bag'] = db_df['woning'].apply(lambda x: x[3])\n",
    "    print('a')\n",
    "#     db_df['uses_container'] = db_df.apply(lambda row: address_in_service_area(row['cluster_x'], row['cluster_y'], polygon_list = polygon_list), axis=1)\n",
    "    db_df = db_df.drop('woning', axis=1)\n",
    "    return db_df"
   ]
  },
  {
   "cell_type": "code",
   "execution_count": null,
   "metadata": {},
   "outputs": [],
   "source": [
    "def create_all_households(rel_poi_df, subsectie=None):\n",
    "    \"\"\"\n",
    "    Function that creates a dataframe containing all households as rows\n",
    "    \"\"\"\n",
    "    polygon_list = load_geodata_containers(subsectie = subsectie)\n",
    "    all_households = rel_poi_df[rel_poi_df['type']!='afval_cluster']\n",
    "    all_households = all_households[['s1_afv_nodes', 'cluster_x', 'cluster_y']]\n",
    "    print('b')\n",
    "    all_households['uses_container'] = all_households.apply(lambda row: address_in_service_area(row['cluster_x'], row['cluster_y'], polygon_list=polygon_list), axis=1)\n",
    "    return all_households"
   ]
  },
  {
   "cell_type": "code",
   "execution_count": null,
   "metadata": {},
   "outputs": [],
   "source": [
    "df_clusters = load_api_data_neigborhood()"
   ]
  },
  {
   "cell_type": "code",
   "execution_count": null,
   "metadata": {},
   "outputs": [],
   "source": [
    "df_clusters['stadsdeel'].value_counts()\n",
    "# Stadsdeel Zuid-Oost (T) has 423 clusters. This is to be optimized"
   ]
  },
  {
   "cell_type": "code",
   "execution_count": null,
   "metadata": {},
   "outputs": [],
   "source": [
    "rel_poi_df = get_db_afvalcluster_info()"
   ]
  },
  {
   "cell_type": "code",
   "execution_count": null,
   "metadata": {},
   "outputs": [],
   "source": [
    "all_households = create_all_households(rel_poi_df, subsectie='T')"
   ]
  },
  {
   "cell_type": "code",
   "execution_count": null,
   "metadata": {},
   "outputs": [],
   "source": [
    "joined = join_api_db(rel_poi_df, df_clusters)"
   ]
  },
  {
   "cell_type": "code",
   "execution_count": null,
   "metadata": {},
   "outputs": [],
   "source": [
    "joined['rest'], joined['plastic'], joined['papier'], joined['glas'], joined['textiel'], joined['totaal'] = zip(*joined['aantal_per_fractie'].apply(lambda x: containers_per_cluster(x)))"
   ]
  },
  {
   "cell_type": "code",
   "execution_count": null,
   "metadata": {},
   "outputs": [],
   "source": [
    "df_afstandn2 = distance_matrix_with_counts()"
   ]
  },
  {
   "cell_type": "code",
   "execution_count": null,
   "metadata": {},
   "outputs": [],
   "source": [
    "for i in ['T', 'M', 'N', 'A', 'K', 'E', 'F', 'B']:\n",
    "    print(i)\n",
    "    all_households, rel_poi_df, joined, df_afstandn2 = initial_loading(use_count=True, subsectie=i)\n",
    "    joined_cluster_distance, good_result_rich, aansluitingen, avg_distance, penalties = \\\n",
    "    analyze_candidate_solution(joined, all_households, rel_poi_df, df_afstandn2, clean=True, use_count=True)"
   ]
  },
  {
   "cell_type": "code",
   "execution_count": null,
   "metadata": {},
   "outputs": [
    {
     "name": "stdout",
     "output_type": "stream",
     "text": [
      "Do you want to use addresses instead of clusters?True\n",
      "What stadsdeel do you want to make as a subsection (optional parameter)?T\n",
      "API data loaded\n",
      "DB relation POIs loaded\n",
      "Table all households created\n",
      "API and DB joined\n",
      "containers per cluster determined\n"
     ]
    },
    {
     "name": "stderr",
     "output_type": "stream",
     "text": [
      "..\\Code\\loading_data.py:239: SettingWithCopyWarning: \n",
      "A value is trying to be set on a copy of a slice from a DataFrame.\n",
      "Try using .loc[row_indexer,col_indexer] = value instead\n",
      "\n",
      "See the caveats in the documentation: https://pandas.pydata.org/pandas-docs/stable/user_guide/indexing.html#returning-a-view-versus-a-copy\n",
      "  verblijfsobjecten['bag'] = verblijfsobjecten['split'].apply(lambda x: x[3]).astype('int64')\n"
     ]
    }
   ],
   "source": [
    "all_households, rel_poi_df, joined, df_afstandn2 = initial_loading()\n",
    "hill_df, best_solution = random_start_hillclimber(joined, all_households, rel_poi_df, df_afstandn2)"
   ]
  },
  {
   "cell_type": "code",
   "execution_count": 6,
   "metadata": {},
   "outputs": [
    {
     "name": "stdout",
     "output_type": "stream",
     "text": [
      "How many random iterations?10\n",
      "How many iterations hillclimber?1000\n",
      "Do you want the results saved(True/False)?True\n",
      "Do you want to only use a subset of data?True\n",
      "Do you want to use addresses instead of clusters?True\n",
      "What parameter to optimize on (score/penalties)?penalties\n",
      "Average distance is : 175.11182704744022\n",
      "Penalties are: 294.72631401444244\n",
      "Average distance is : 178.22176501070143\n",
      "Penalties are: 293.4482469582898\n",
      "Average distance is : 177.75503530839097\n",
      "Penalties are: 288.65212749829027\n",
      "Average distance is : 179.5418828683096\n",
      "Penalties are: 294.78934074490326\n",
      "Average distance is : 179.14574524664988\n",
      "Penalties are: 292.73418774821886\n",
      "Average distance is : 178.3196919113457\n",
      "Penalties are: 291.19405647625115\n",
      "Average distance is : 177.13250040887098\n",
      "Penalties are: 293.3361423824229\n",
      "Average distance is : 178.11283266221102\n",
      "Penalties are: 291.1785414761423\n",
      "Average distance is : 177.53121722861735\n",
      "Penalties are: 292.00353396902216\n",
      "Average distance is : 177.86063243959728\n",
      "Penalties are: 294.27371926239084\n",
      "Average distance is : 179.96548822868843\n",
      "Penalties are: 294.9148980355691\n",
      "***************************************\n",
      "177.75503530839097 288.65212749829027 1\n",
      "Average distance is : 177.75503530839097\n",
      "Penalties are: 288.65212749829027\n",
      "Average distance is : 177.76310529343948\n",
      "Penalties are: 288.4312876456678\n",
      "288.4312876456678 288.65212749829027\n",
      "Average distance is : 177.78859341259874\n",
      "Penalties are: 288.45602273282816\n",
      "288.45602273282816 288.4312876456678\n",
      "Average distance is : 177.78349329496024\n",
      "Penalties are: 288.5990126723775\n",
      "288.5990126723775 288.4312876456678\n",
      "Average distance is : 177.88397884617422\n",
      "Penalties are: 288.37018776211966\n",
      "288.37018776211966 288.4312876456678\n",
      "Average distance is : 177.817383757094\n",
      "Penalties are: 288.31010349245673\n",
      "288.31010349245673 288.37018776211966\n",
      "Average distance is : 177.88766699127942\n",
      "Penalties are: 288.43283371692866\n",
      "288.43283371692866 288.31010349245673\n",
      "Average distance is : 177.92516284476366\n",
      "Penalties are: 288.35672651119614\n",
      "288.35672651119614 288.31010349245673\n",
      "Average distance is : 177.81679891348597\n",
      "Penalties are: 288.3350612580644\n",
      "288.3350612580644 288.31010349245673\n",
      "Average distance is : 177.83871617246757\n",
      "Penalties are: 288.49425235169554\n",
      "288.49425235169554 288.31010349245673\n",
      "Average distance is : 177.83571836243408\n",
      "Penalties are: 288.44148381621477\n",
      "288.44148381621477 288.31010349245673\n",
      "Average distance is : 177.85450308842005\n",
      "Penalties are: 288.270345818033\n",
      "288.270345818033 288.31010349245673\n",
      "Average distance is : 177.58653046385461\n",
      "Penalties are: 288.1296025929761\n",
      "288.1296025929761 288.270345818033\n",
      "Average distance is : 177.62377238182052\n",
      "Penalties are: 288.21086975657715\n",
      "288.21086975657715 288.1296025929761\n",
      "Average distance is : 177.59512163038934\n",
      "Penalties are: 288.0810891419641\n",
      "288.0810891419641 288.1296025929761\n",
      "Average distance is : 177.53895412299968\n",
      "Penalties are: 288.0812670070503\n",
      "288.0812670070503 288.0810891419641\n",
      "Average distance is : 177.60264505773208\n",
      "Penalties are: 288.1845955921329\n",
      "288.1845955921329 288.0810891419641\n",
      "Average distance is : 177.60848803653857\n",
      "Penalties are: 288.1688309841554\n",
      "288.1688309841554 288.0810891419641\n",
      "Average distance is : 177.5810520343126\n",
      "Penalties are: 288.2249358800766\n",
      "288.2249358800766 288.0810891419641\n",
      "Average distance is : 177.4371128067645\n",
      "Penalties are: 288.07511414615254\n",
      "288.07511414615254 288.0810891419641\n",
      "Average distance is : 177.51606399335822\n",
      "Penalties are: 288.0994365584635\n",
      "288.0994365584635 288.07511414615254\n",
      "Average distance is : 177.44266338604845\n",
      "Penalties are: 288.11330561468174\n",
      "288.11330561468174 288.07511414615254\n",
      "Average distance is : 177.45110382544897\n",
      "Penalties are: 288.17947988184534\n",
      "288.17947988184534 288.07511414615254\n",
      "Average distance is : 177.43489031682066\n",
      "Penalties are: 288.0530607980247\n",
      "288.0530607980247 288.07511414615254\n",
      "Average distance is : 177.45570027152414\n",
      "Penalties are: 288.0236133057218\n",
      "288.0236133057218 288.0530607980247\n",
      "Average distance is : 177.50410764189115\n",
      "Penalties are: 288.02563927530696\n",
      "288.02563927530696 288.0236133057218\n",
      "Average distance is : 177.41783504270794\n",
      "Penalties are: 287.95771174872766\n",
      "287.95771174872766 288.0236133057218\n",
      "Average distance is : 177.38070971995737\n",
      "Penalties are: 287.9267905130198\n",
      "287.9267905130198 287.95771174872766\n",
      "Average distance is : 177.36728102895043\n",
      "Penalties are: 288.00574991691815\n",
      "288.00574991691815 287.9267905130198\n",
      "Average distance is : 177.42017067837318\n",
      "Penalties are: 287.9850262868066\n",
      "287.9850262868066 287.9267905130198\n",
      "Average distance is : 177.40576834524308\n",
      "Penalties are: 288.04000780831586\n",
      "288.04000780831586 287.9267905130198\n",
      "Average distance is : 177.3486832004134\n",
      "Penalties are: 287.9416014943738\n",
      "287.9416014943738 287.9267905130198\n",
      "Average distance is : 177.44828398659365\n",
      "Penalties are: 287.9038728477694\n",
      "287.9038728477694 287.9267905130198\n",
      "Average distance is : 177.47213284656917\n",
      "Penalties are: 287.96909675939787\n",
      "287.96909675939787 287.9038728477694\n",
      "Average distance is : 177.44953618058875\n",
      "Penalties are: 287.75180492256226\n",
      "287.75180492256226 287.9038728477694\n",
      "Average distance is : 177.34107059288777\n",
      "Penalties are: 287.5827701737714\n",
      "287.5827701737714 287.75180492256226\n",
      "Average distance is : 177.34987179475894\n",
      "Penalties are: 287.5347995050796\n",
      "287.5347995050796 287.5827701737714\n",
      "Average distance is : 177.4267759482908\n",
      "Penalties are: 287.6754671545376\n",
      "287.6754671545376 287.5347995050796\n",
      "Average distance is : 177.34077716096326\n",
      "Penalties are: 287.3875009063469\n",
      "287.3875009063469 287.5347995050796\n",
      "Average distance is : 177.359133693408\n",
      "Penalties are: 287.46358853635957\n",
      "287.46358853635957 287.3875009063469\n",
      "Average distance is : 177.29873752872882\n",
      "Penalties are: 287.2437841699648\n",
      "287.2437841699648 287.3875009063469\n",
      "Average distance is : 177.29613213707853\n",
      "Penalties are: 287.25190409201895\n",
      "287.25190409201895 287.2437841699648\n",
      "Average distance is : 177.28662804613302\n",
      "Penalties are: 287.35727126825395\n",
      "287.35727126825395 287.2437841699648\n"
     ]
    },
    {
     "ename": "KeyboardInterrupt",
     "evalue": "",
     "output_type": "error",
     "traceback": [
      "\u001b[1;31m---------------------------------------------------------------------------\u001b[0m",
      "\u001b[1;31mKeyboardInterrupt\u001b[0m                         Traceback (most recent call last)",
      "\u001b[1;32m<ipython-input-6-894ad043463f>\u001b[0m in \u001b[0;36m<module>\u001b[1;34m\u001b[0m\n\u001b[1;32m----> 1\u001b[1;33m \u001b[0mhill_df\u001b[0m\u001b[1;33m,\u001b[0m \u001b[0mbest_solution\u001b[0m \u001b[1;33m=\u001b[0m \u001b[0mrandom_start_hillclimber\u001b[0m\u001b[1;33m(\u001b[0m\u001b[0mjoined\u001b[0m\u001b[1;33m,\u001b[0m \u001b[0mall_households\u001b[0m\u001b[1;33m,\u001b[0m \u001b[0mrel_poi_df\u001b[0m\u001b[1;33m,\u001b[0m \u001b[0mdf_afstandn2\u001b[0m\u001b[1;33m)\u001b[0m\u001b[1;33m\u001b[0m\u001b[1;33m\u001b[0m\u001b[0m\n\u001b[0m",
      "\u001b[1;32m~\\OneDrive\\Documenten\\ISDS\\Master_Thesis\\Amsterdam_carbage_thesis\\Code\\algorithms.py\u001b[0m in \u001b[0;36mrandom_start_hillclimber\u001b[1;34m(joined, all_households, rel_poi_df, df_afstandn2)\u001b[0m\n",
      "\u001b[1;32m~\\OneDrive\\Documenten\\ISDS\\Master_Thesis\\Amsterdam_carbage_thesis\\Code\\algorithms.py\u001b[0m in \u001b[0;36mhillclimber\u001b[1;34m(num_iterations, joined, all_households, rel_poi_df, df_afstandn2, mod_max, parameter, complicated, clean, use_count, save, prnt)\u001b[0m\n\u001b[0;32m    107\u001b[0m                     \u001b[0mvalid\u001b[0m \u001b[1;33m=\u001b[0m \u001b[1;32mTrue\u001b[0m\u001b[1;33m\u001b[0m\u001b[1;33m\u001b[0m\u001b[0m\n\u001b[0;32m    108\u001b[0m \u001b[1;33m\u001b[0m\u001b[0m\n\u001b[1;32m--> 109\u001b[1;33m         \u001b[0mjoined_cluster_distance2\u001b[0m\u001b[1;33m,\u001b[0m \u001b[0mgood_result_rich2\u001b[0m\u001b[1;33m,\u001b[0m \u001b[0maansluitingen2\u001b[0m\u001b[1;33m,\u001b[0m \u001b[0mavg_distance2\u001b[0m\u001b[1;33m,\u001b[0m \u001b[0mpenalties2\u001b[0m \u001b[1;33m=\u001b[0m \u001b[0manalyze_candidate_solution\u001b[0m\u001b[1;33m(\u001b[0m\u001b[0mr\u001b[0m\u001b[1;33m,\u001b[0m \u001b[0mall_households\u001b[0m\u001b[1;33m,\u001b[0m \u001b[0mrel_poi_df\u001b[0m\u001b[1;33m,\u001b[0m \u001b[0mdf_afstandn2\u001b[0m\u001b[1;33m,\u001b[0m \u001b[0mclean\u001b[0m\u001b[1;33m=\u001b[0m\u001b[0mclean\u001b[0m\u001b[1;33m,\u001b[0m \u001b[0muse_count\u001b[0m\u001b[1;33m=\u001b[0m\u001b[0muse_count\u001b[0m\u001b[1;33m)\u001b[0m\u001b[1;33m\u001b[0m\u001b[1;33m\u001b[0m\u001b[0m\n\u001b[0m\u001b[0;32m    110\u001b[0m         \u001b[0mhillclimber_dict\u001b[0m\u001b[1;33m[\u001b[0m\u001b[0mi\u001b[0m\u001b[1;33m]\u001b[0m \u001b[1;33m=\u001b[0m \u001b[1;33m[\u001b[0m\u001b[0mavg_distance2\u001b[0m\u001b[1;33m,\u001b[0m \u001b[0mpenalties2\u001b[0m\u001b[1;33m,\u001b[0m \u001b[0mbest\u001b[0m\u001b[1;33m,\u001b[0m \u001b[0mno_modifications\u001b[0m\u001b[1;33m]\u001b[0m\u001b[1;33m\u001b[0m\u001b[1;33m\u001b[0m\u001b[0m\n\u001b[0;32m    111\u001b[0m         \u001b[1;32mif\u001b[0m \u001b[0mparameter\u001b[0m \u001b[1;33m==\u001b[0m \u001b[1;34m'score'\u001b[0m\u001b[1;33m:\u001b[0m\u001b[1;33m\u001b[0m\u001b[1;33m\u001b[0m\u001b[0m\n",
      "\u001b[1;32m~\\OneDrive\\Documenten\\ISDS\\Master_Thesis\\Amsterdam_carbage_thesis\\Code\\helper_functions.py\u001b[0m in \u001b[0;36manalyze_candidate_solution\u001b[1;34m(joined, all_households, rel_poi_df, df_afstandn2, clean, use_count)\u001b[0m\n\u001b[0;32m    312\u001b[0m     \u001b[0mjoined_cluster_distance\u001b[0m \u001b[1;33m=\u001b[0m \u001b[0mjoined\u001b[0m\u001b[1;33m.\u001b[0m\u001b[0mset_index\u001b[0m\u001b[1;33m(\u001b[0m\u001b[1;34m's1_afv_nodes'\u001b[0m\u001b[1;33m)\u001b[0m\u001b[1;33m.\u001b[0m\u001b[0mjoin\u001b[0m\u001b[1;33m(\u001b[0m\u001b[0mdf_afstandn2\u001b[0m\u001b[1;33m.\u001b[0m\u001b[0mset_index\u001b[0m\u001b[1;33m(\u001b[0m\u001b[1;34m'van_s1_afv_nodes'\u001b[0m\u001b[1;33m)\u001b[0m\u001b[1;33m)\u001b[0m\u001b[1;33m.\u001b[0m\u001b[0mreset_index\u001b[0m\u001b[1;33m(\u001b[0m\u001b[1;33m)\u001b[0m\u001b[1;33m.\u001b[0m\u001b[0mrename\u001b[0m\u001b[1;33m(\u001b[0m\u001b[0mcolumns\u001b[0m\u001b[1;33m=\u001b[0m\u001b[1;33m{\u001b[0m\u001b[1;34m'index'\u001b[0m\u001b[1;33m:\u001b[0m \u001b[1;34m'van_s1_afv_nodes'\u001b[0m\u001b[1;33m}\u001b[0m\u001b[1;33m)\u001b[0m\u001b[1;33m\u001b[0m\u001b[1;33m\u001b[0m\u001b[0m\n\u001b[0;32m    313\u001b[0m     \u001b[1;31m# print('joined distance matrix with garbage cluster data')\u001b[0m\u001b[1;33m\u001b[0m\u001b[1;33m\u001b[0m\u001b[1;33m\u001b[0m\u001b[0m\n\u001b[1;32m--> 314\u001b[1;33m     \u001b[0mgood_result_rich\u001b[0m \u001b[1;33m=\u001b[0m \u001b[0madd_shortest_distances_to_all_households\u001b[0m\u001b[1;33m(\u001b[0m\u001b[0mall_households\u001b[0m\u001b[1;33m,\u001b[0m \u001b[0mjoined_cluster_distance\u001b[0m\u001b[1;33m,\u001b[0m \u001b[0muse_count\u001b[0m\u001b[1;33m)\u001b[0m\u001b[1;33m\u001b[0m\u001b[1;33m\u001b[0m\u001b[0m\n\u001b[0m\u001b[0;32m    315\u001b[0m     \u001b[1;32mif\u001b[0m \u001b[0mclean\u001b[0m\u001b[1;33m:\u001b[0m\u001b[1;33m\u001b[0m\u001b[1;33m\u001b[0m\u001b[0m\n\u001b[0;32m    316\u001b[0m         \u001b[0mgood_result_rich\u001b[0m \u001b[1;33m=\u001b[0m \u001b[0mgood_result_rich\u001b[0m\u001b[1;33m[\u001b[0m\u001b[0mgood_result_rich\u001b[0m\u001b[1;33m[\u001b[0m\u001b[1;34m'uses_container'\u001b[0m\u001b[1;33m]\u001b[0m\u001b[1;33m]\u001b[0m\u001b[1;33m\u001b[0m\u001b[1;33m\u001b[0m\u001b[0m\n",
      "\u001b[1;32m~\\OneDrive\\Documenten\\ISDS\\Master_Thesis\\Amsterdam_carbage_thesis\\Code\\helper_functions.py\u001b[0m in \u001b[0;36madd_shortest_distances_to_all_households\u001b[1;34m(all_households, cluster_distance_matrix, use_count)\u001b[0m\n\u001b[0;32m    263\u001b[0m             \u001b[0mrename\u001b[0m\u001b[1;33m(\u001b[0m\u001b[0mcolumns\u001b[0m\u001b[1;33m=\u001b[0m\u001b[1;33m{\u001b[0m\u001b[1;34m'van_s1_afv_nodes'\u001b[0m\u001b[1;33m:\u001b[0m \u001b[1;34m'poi_textiel'\u001b[0m\u001b[1;33m,\u001b[0m \u001b[1;34m'afstand'\u001b[0m\u001b[1;33m:\u001b[0m \u001b[1;34m'textiel_afstand'\u001b[0m\u001b[1;33m}\u001b[0m\u001b[1;33m)\u001b[0m\u001b[1;33m\u001b[0m\u001b[1;33m\u001b[0m\u001b[0m\n\u001b[0;32m    264\u001b[0m \u001b[1;33m\u001b[0m\u001b[0m\n\u001b[1;32m--> 265\u001b[1;33m     \u001b[0mall_households\u001b[0m \u001b[1;33m=\u001b[0m \u001b[0mall_households\u001b[0m\u001b[1;33m.\u001b[0m\u001b[0mset_index\u001b[0m\u001b[1;33m(\u001b[0m\u001b[1;34m'naar_s1_afv_nodes'\u001b[0m\u001b[1;33m)\u001b[0m\u001b[1;33m.\u001b[0m\u001b[0;31m\\\u001b[0m\u001b[1;33m\u001b[0m\u001b[1;33m\u001b[0m\u001b[0m\n\u001b[0m\u001b[0;32m    266\u001b[0m             join([shortest_rest, shortest_plastic, shortest_papier, shortest_glas, \\\n\u001b[0;32m    267\u001b[0m                   shortest_textiel], how='left')\n",
      "\u001b[1;32m~\\anaconda3\\envs\\geo_env\\lib\\site-packages\\pandas\\core\\frame.py\u001b[0m in \u001b[0;36mjoin\u001b[1;34m(self, other, on, how, lsuffix, rsuffix, sort)\u001b[0m\n\u001b[0;32m   7206\u001b[0m         \u001b[1;36m5\u001b[0m  \u001b[0mK5\u001b[0m  \u001b[0mA5\u001b[0m  \u001b[0mNaN\u001b[0m\u001b[1;33m\u001b[0m\u001b[1;33m\u001b[0m\u001b[0m\n\u001b[0;32m   7207\u001b[0m         \"\"\"\n\u001b[1;32m-> 7208\u001b[1;33m         return self._join_compat(\n\u001b[0m\u001b[0;32m   7209\u001b[0m             \u001b[0mother\u001b[0m\u001b[1;33m,\u001b[0m \u001b[0mon\u001b[0m\u001b[1;33m=\u001b[0m\u001b[0mon\u001b[0m\u001b[1;33m,\u001b[0m \u001b[0mhow\u001b[0m\u001b[1;33m=\u001b[0m\u001b[0mhow\u001b[0m\u001b[1;33m,\u001b[0m \u001b[0mlsuffix\u001b[0m\u001b[1;33m=\u001b[0m\u001b[0mlsuffix\u001b[0m\u001b[1;33m,\u001b[0m \u001b[0mrsuffix\u001b[0m\u001b[1;33m=\u001b[0m\u001b[0mrsuffix\u001b[0m\u001b[1;33m,\u001b[0m \u001b[0msort\u001b[0m\u001b[1;33m=\u001b[0m\u001b[0msort\u001b[0m\u001b[1;33m\u001b[0m\u001b[1;33m\u001b[0m\u001b[0m\n\u001b[0;32m   7210\u001b[0m         )\n",
      "\u001b[1;32m~\\anaconda3\\envs\\geo_env\\lib\\site-packages\\pandas\\core\\frame.py\u001b[0m in \u001b[0;36m_join_compat\u001b[1;34m(self, other, on, how, lsuffix, rsuffix, sort)\u001b[0m\n\u001b[0;32m   7257\u001b[0m \u001b[1;33m\u001b[0m\u001b[0m\n\u001b[0;32m   7258\u001b[0m             \u001b[1;32mfor\u001b[0m \u001b[0mframe\u001b[0m \u001b[1;32min\u001b[0m \u001b[0mframes\u001b[0m\u001b[1;33m[\u001b[0m\u001b[1;36m1\u001b[0m\u001b[1;33m:\u001b[0m\u001b[1;33m]\u001b[0m\u001b[1;33m:\u001b[0m\u001b[1;33m\u001b[0m\u001b[1;33m\u001b[0m\u001b[0m\n\u001b[1;32m-> 7259\u001b[1;33m                 joined = merge(\n\u001b[0m\u001b[0;32m   7260\u001b[0m                     \u001b[0mjoined\u001b[0m\u001b[1;33m,\u001b[0m \u001b[0mframe\u001b[0m\u001b[1;33m,\u001b[0m \u001b[0mhow\u001b[0m\u001b[1;33m=\u001b[0m\u001b[0mhow\u001b[0m\u001b[1;33m,\u001b[0m \u001b[0mleft_index\u001b[0m\u001b[1;33m=\u001b[0m\u001b[1;32mTrue\u001b[0m\u001b[1;33m,\u001b[0m \u001b[0mright_index\u001b[0m\u001b[1;33m=\u001b[0m\u001b[1;32mTrue\u001b[0m\u001b[1;33m\u001b[0m\u001b[1;33m\u001b[0m\u001b[0m\n\u001b[0;32m   7261\u001b[0m                 )\n",
      "\u001b[1;32m~\\anaconda3\\envs\\geo_env\\lib\\site-packages\\pandas\\core\\reshape\\merge.py\u001b[0m in \u001b[0;36mmerge\u001b[1;34m(left, right, how, on, left_on, right_on, left_index, right_index, sort, suffixes, copy, indicator, validate)\u001b[0m\n\u001b[0;32m     86\u001b[0m         \u001b[0mvalidate\u001b[0m\u001b[1;33m=\u001b[0m\u001b[0mvalidate\u001b[0m\u001b[1;33m,\u001b[0m\u001b[1;33m\u001b[0m\u001b[1;33m\u001b[0m\u001b[0m\n\u001b[0;32m     87\u001b[0m     )\n\u001b[1;32m---> 88\u001b[1;33m     \u001b[1;32mreturn\u001b[0m \u001b[0mop\u001b[0m\u001b[1;33m.\u001b[0m\u001b[0mget_result\u001b[0m\u001b[1;33m(\u001b[0m\u001b[1;33m)\u001b[0m\u001b[1;33m\u001b[0m\u001b[1;33m\u001b[0m\u001b[0m\n\u001b[0m\u001b[0;32m     89\u001b[0m \u001b[1;33m\u001b[0m\u001b[0m\n\u001b[0;32m     90\u001b[0m \u001b[1;33m\u001b[0m\u001b[0m\n",
      "\u001b[1;32m~\\anaconda3\\envs\\geo_env\\lib\\site-packages\\pandas\\core\\reshape\\merge.py\u001b[0m in \u001b[0;36mget_result\u001b[1;34m(self)\u001b[0m\n\u001b[0;32m    641\u001b[0m             \u001b[0mself\u001b[0m\u001b[1;33m.\u001b[0m\u001b[0mleft\u001b[0m\u001b[1;33m,\u001b[0m \u001b[0mself\u001b[0m\u001b[1;33m.\u001b[0m\u001b[0mright\u001b[0m \u001b[1;33m=\u001b[0m \u001b[0mself\u001b[0m\u001b[1;33m.\u001b[0m\u001b[0m_indicator_pre_merge\u001b[0m\u001b[1;33m(\u001b[0m\u001b[0mself\u001b[0m\u001b[1;33m.\u001b[0m\u001b[0mleft\u001b[0m\u001b[1;33m,\u001b[0m \u001b[0mself\u001b[0m\u001b[1;33m.\u001b[0m\u001b[0mright\u001b[0m\u001b[1;33m)\u001b[0m\u001b[1;33m\u001b[0m\u001b[1;33m\u001b[0m\u001b[0m\n\u001b[0;32m    642\u001b[0m \u001b[1;33m\u001b[0m\u001b[0m\n\u001b[1;32m--> 643\u001b[1;33m         \u001b[0mjoin_index\u001b[0m\u001b[1;33m,\u001b[0m \u001b[0mleft_indexer\u001b[0m\u001b[1;33m,\u001b[0m \u001b[0mright_indexer\u001b[0m \u001b[1;33m=\u001b[0m \u001b[0mself\u001b[0m\u001b[1;33m.\u001b[0m\u001b[0m_get_join_info\u001b[0m\u001b[1;33m(\u001b[0m\u001b[1;33m)\u001b[0m\u001b[1;33m\u001b[0m\u001b[1;33m\u001b[0m\u001b[0m\n\u001b[0m\u001b[0;32m    644\u001b[0m \u001b[1;33m\u001b[0m\u001b[0m\n\u001b[0;32m    645\u001b[0m         \u001b[0mldata\u001b[0m\u001b[1;33m,\u001b[0m \u001b[0mrdata\u001b[0m \u001b[1;33m=\u001b[0m \u001b[0mself\u001b[0m\u001b[1;33m.\u001b[0m\u001b[0mleft\u001b[0m\u001b[1;33m.\u001b[0m\u001b[0m_data\u001b[0m\u001b[1;33m,\u001b[0m \u001b[0mself\u001b[0m\u001b[1;33m.\u001b[0m\u001b[0mright\u001b[0m\u001b[1;33m.\u001b[0m\u001b[0m_data\u001b[0m\u001b[1;33m\u001b[0m\u001b[1;33m\u001b[0m\u001b[0m\n",
      "\u001b[1;32m~\\anaconda3\\envs\\geo_env\\lib\\site-packages\\pandas\\core\\reshape\\merge.py\u001b[0m in \u001b[0;36m_get_join_info\u001b[1;34m(self)\u001b[0m\n\u001b[0;32m    847\u001b[0m \u001b[1;33m\u001b[0m\u001b[0m\n\u001b[0;32m    848\u001b[0m         \u001b[1;32mif\u001b[0m \u001b[0mself\u001b[0m\u001b[1;33m.\u001b[0m\u001b[0mleft_index\u001b[0m \u001b[1;32mand\u001b[0m \u001b[0mself\u001b[0m\u001b[1;33m.\u001b[0m\u001b[0mright_index\u001b[0m \u001b[1;32mand\u001b[0m \u001b[0mself\u001b[0m\u001b[1;33m.\u001b[0m\u001b[0mhow\u001b[0m \u001b[1;33m!=\u001b[0m \u001b[1;34m\"asof\"\u001b[0m\u001b[1;33m:\u001b[0m\u001b[1;33m\u001b[0m\u001b[1;33m\u001b[0m\u001b[0m\n\u001b[1;32m--> 849\u001b[1;33m             join_index, left_indexer, right_indexer = left_ax.join(\n\u001b[0m\u001b[0;32m    850\u001b[0m                 \u001b[0mright_ax\u001b[0m\u001b[1;33m,\u001b[0m \u001b[0mhow\u001b[0m\u001b[1;33m=\u001b[0m\u001b[0mself\u001b[0m\u001b[1;33m.\u001b[0m\u001b[0mhow\u001b[0m\u001b[1;33m,\u001b[0m \u001b[0mreturn_indexers\u001b[0m\u001b[1;33m=\u001b[0m\u001b[1;32mTrue\u001b[0m\u001b[1;33m,\u001b[0m \u001b[0msort\u001b[0m\u001b[1;33m=\u001b[0m\u001b[0mself\u001b[0m\u001b[1;33m.\u001b[0m\u001b[0msort\u001b[0m\u001b[1;33m\u001b[0m\u001b[1;33m\u001b[0m\u001b[0m\n\u001b[0;32m    851\u001b[0m             )\n",
      "\u001b[1;32m~\\anaconda3\\envs\\geo_env\\lib\\site-packages\\pandas\\core\\indexes\\base.py\u001b[0m in \u001b[0;36mjoin\u001b[1;34m(self, other, how, level, return_indexers, sort)\u001b[0m\n\u001b[0;32m   3293\u001b[0m             \u001b[0mthis\u001b[0m \u001b[1;33m=\u001b[0m \u001b[0mself\u001b[0m\u001b[1;33m.\u001b[0m\u001b[0mastype\u001b[0m\u001b[1;33m(\u001b[0m\u001b[1;34m\"O\"\u001b[0m\u001b[1;33m)\u001b[0m\u001b[1;33m\u001b[0m\u001b[1;33m\u001b[0m\u001b[0m\n\u001b[0;32m   3294\u001b[0m             \u001b[0mother\u001b[0m \u001b[1;33m=\u001b[0m \u001b[0mother\u001b[0m\u001b[1;33m.\u001b[0m\u001b[0mastype\u001b[0m\u001b[1;33m(\u001b[0m\u001b[1;34m\"O\"\u001b[0m\u001b[1;33m)\u001b[0m\u001b[1;33m\u001b[0m\u001b[1;33m\u001b[0m\u001b[0m\n\u001b[1;32m-> 3295\u001b[1;33m             \u001b[1;32mreturn\u001b[0m \u001b[0mthis\u001b[0m\u001b[1;33m.\u001b[0m\u001b[0mjoin\u001b[0m\u001b[1;33m(\u001b[0m\u001b[0mother\u001b[0m\u001b[1;33m,\u001b[0m \u001b[0mhow\u001b[0m\u001b[1;33m=\u001b[0m\u001b[0mhow\u001b[0m\u001b[1;33m,\u001b[0m \u001b[0mreturn_indexers\u001b[0m\u001b[1;33m=\u001b[0m\u001b[0mreturn_indexers\u001b[0m\u001b[1;33m)\u001b[0m\u001b[1;33m\u001b[0m\u001b[1;33m\u001b[0m\u001b[0m\n\u001b[0m\u001b[0;32m   3296\u001b[0m \u001b[1;33m\u001b[0m\u001b[0m\n\u001b[0;32m   3297\u001b[0m         \u001b[0m_validate_join_method\u001b[0m\u001b[1;33m(\u001b[0m\u001b[0mhow\u001b[0m\u001b[1;33m)\u001b[0m\u001b[1;33m\u001b[0m\u001b[1;33m\u001b[0m\u001b[0m\n",
      "\u001b[1;32m~\\anaconda3\\envs\\geo_env\\lib\\site-packages\\pandas\\core\\indexes\\base.py\u001b[0m in \u001b[0;36mjoin\u001b[1;34m(self, other, how, level, return_indexers, sort)\u001b[0m\n\u001b[0;32m   3307\u001b[0m                 )\n\u001b[0;32m   3308\u001b[0m             \u001b[1;32melse\u001b[0m\u001b[1;33m:\u001b[0m\u001b[1;33m\u001b[0m\u001b[1;33m\u001b[0m\u001b[0m\n\u001b[1;32m-> 3309\u001b[1;33m                 return self._join_non_unique(\n\u001b[0m\u001b[0;32m   3310\u001b[0m                     \u001b[0mother\u001b[0m\u001b[1;33m,\u001b[0m \u001b[0mhow\u001b[0m\u001b[1;33m=\u001b[0m\u001b[0mhow\u001b[0m\u001b[1;33m,\u001b[0m \u001b[0mreturn_indexers\u001b[0m\u001b[1;33m=\u001b[0m\u001b[0mreturn_indexers\u001b[0m\u001b[1;33m\u001b[0m\u001b[1;33m\u001b[0m\u001b[0m\n\u001b[0;32m   3311\u001b[0m                 )\n",
      "\u001b[1;32m~\\anaconda3\\envs\\geo_env\\lib\\site-packages\\pandas\\core\\indexes\\base.py\u001b[0m in \u001b[0;36m_join_non_unique\u001b[1;34m(self, other, how, return_indexers)\u001b[0m\n\u001b[0;32m   3425\u001b[0m         \u001b[1;32mfrom\u001b[0m \u001b[0mpandas\u001b[0m\u001b[1;33m.\u001b[0m\u001b[0mcore\u001b[0m\u001b[1;33m.\u001b[0m\u001b[0mreshape\u001b[0m\u001b[1;33m.\u001b[0m\u001b[0mmerge\u001b[0m \u001b[1;32mimport\u001b[0m \u001b[0m_get_join_indexers\u001b[0m\u001b[1;33m\u001b[0m\u001b[1;33m\u001b[0m\u001b[0m\n\u001b[0;32m   3426\u001b[0m \u001b[1;33m\u001b[0m\u001b[0m\n\u001b[1;32m-> 3427\u001b[1;33m         left_idx, right_idx = _get_join_indexers(\n\u001b[0m\u001b[0;32m   3428\u001b[0m             \u001b[1;33m[\u001b[0m\u001b[0mself\u001b[0m\u001b[1;33m.\u001b[0m\u001b[0m_ndarray_values\u001b[0m\u001b[1;33m]\u001b[0m\u001b[1;33m,\u001b[0m \u001b[1;33m[\u001b[0m\u001b[0mother\u001b[0m\u001b[1;33m.\u001b[0m\u001b[0m_ndarray_values\u001b[0m\u001b[1;33m]\u001b[0m\u001b[1;33m,\u001b[0m \u001b[0mhow\u001b[0m\u001b[1;33m=\u001b[0m\u001b[0mhow\u001b[0m\u001b[1;33m,\u001b[0m \u001b[0msort\u001b[0m\u001b[1;33m=\u001b[0m\u001b[1;32mTrue\u001b[0m\u001b[1;33m\u001b[0m\u001b[1;33m\u001b[0m\u001b[0m\n\u001b[0;32m   3429\u001b[0m         )\n",
      "\u001b[1;32m~\\anaconda3\\envs\\geo_env\\lib\\site-packages\\pandas\\core\\reshape\\merge.py\u001b[0m in \u001b[0;36m_get_join_indexers\u001b[1;34m(left_keys, right_keys, sort, how, **kwargs)\u001b[0m\n\u001b[0;32m   1309\u001b[0m         \u001b[1;32mfor\u001b[0m \u001b[0mn\u001b[0m \u001b[1;32min\u001b[0m \u001b[0mrange\u001b[0m\u001b[1;33m(\u001b[0m\u001b[0mlen\u001b[0m\u001b[1;33m(\u001b[0m\u001b[0mleft_keys\u001b[0m\u001b[1;33m)\u001b[0m\u001b[1;33m)\u001b[0m\u001b[1;33m\u001b[0m\u001b[1;33m\u001b[0m\u001b[0m\n\u001b[0;32m   1310\u001b[0m     )\n\u001b[1;32m-> 1311\u001b[1;33m     \u001b[0mzipped\u001b[0m \u001b[1;33m=\u001b[0m \u001b[0mzip\u001b[0m\u001b[1;33m(\u001b[0m\u001b[1;33m*\u001b[0m\u001b[0mmapped\u001b[0m\u001b[1;33m)\u001b[0m\u001b[1;33m\u001b[0m\u001b[1;33m\u001b[0m\u001b[0m\n\u001b[0m\u001b[0;32m   1312\u001b[0m     \u001b[0mllab\u001b[0m\u001b[1;33m,\u001b[0m \u001b[0mrlab\u001b[0m\u001b[1;33m,\u001b[0m \u001b[0mshape\u001b[0m \u001b[1;33m=\u001b[0m \u001b[1;33m[\u001b[0m\u001b[0mlist\u001b[0m\u001b[1;33m(\u001b[0m\u001b[0mx\u001b[0m\u001b[1;33m)\u001b[0m \u001b[1;32mfor\u001b[0m \u001b[0mx\u001b[0m \u001b[1;32min\u001b[0m \u001b[0mzipped\u001b[0m\u001b[1;33m]\u001b[0m\u001b[1;33m\u001b[0m\u001b[1;33m\u001b[0m\u001b[0m\n\u001b[0;32m   1313\u001b[0m \u001b[1;33m\u001b[0m\u001b[0m\n",
      "\u001b[1;32m~\\anaconda3\\envs\\geo_env\\lib\\site-packages\\pandas\\core\\reshape\\merge.py\u001b[0m in \u001b[0;36m<genexpr>\u001b[1;34m(.0)\u001b[0m\n\u001b[0;32m   1306\u001b[0m     \u001b[1;31m# get left & right join labels and num. of levels at each location\u001b[0m\u001b[1;33m\u001b[0m\u001b[1;33m\u001b[0m\u001b[1;33m\u001b[0m\u001b[0m\n\u001b[0;32m   1307\u001b[0m     mapped = (\n\u001b[1;32m-> 1308\u001b[1;33m         \u001b[0m_factorize_keys\u001b[0m\u001b[1;33m(\u001b[0m\u001b[0mleft_keys\u001b[0m\u001b[1;33m[\u001b[0m\u001b[0mn\u001b[0m\u001b[1;33m]\u001b[0m\u001b[1;33m,\u001b[0m \u001b[0mright_keys\u001b[0m\u001b[1;33m[\u001b[0m\u001b[0mn\u001b[0m\u001b[1;33m]\u001b[0m\u001b[1;33m,\u001b[0m \u001b[0msort\u001b[0m\u001b[1;33m=\u001b[0m\u001b[0msort\u001b[0m\u001b[1;33m)\u001b[0m\u001b[1;33m\u001b[0m\u001b[1;33m\u001b[0m\u001b[0m\n\u001b[0m\u001b[0;32m   1309\u001b[0m         \u001b[1;32mfor\u001b[0m \u001b[0mn\u001b[0m \u001b[1;32min\u001b[0m \u001b[0mrange\u001b[0m\u001b[1;33m(\u001b[0m\u001b[0mlen\u001b[0m\u001b[1;33m(\u001b[0m\u001b[0mleft_keys\u001b[0m\u001b[1;33m)\u001b[0m\u001b[1;33m)\u001b[0m\u001b[1;33m\u001b[0m\u001b[1;33m\u001b[0m\u001b[0m\n\u001b[0;32m   1310\u001b[0m     )\n",
      "\u001b[1;32m~\\anaconda3\\envs\\geo_env\\lib\\site-packages\\pandas\\core\\reshape\\merge.py\u001b[0m in \u001b[0;36m_factorize_keys\u001b[1;34m(lk, rk, sort)\u001b[0m\n\u001b[0;32m   1922\u001b[0m     \u001b[1;32mif\u001b[0m \u001b[0msort\u001b[0m\u001b[1;33m:\u001b[0m\u001b[1;33m\u001b[0m\u001b[1;33m\u001b[0m\u001b[0m\n\u001b[0;32m   1923\u001b[0m         \u001b[0muniques\u001b[0m \u001b[1;33m=\u001b[0m \u001b[0mrizer\u001b[0m\u001b[1;33m.\u001b[0m\u001b[0muniques\u001b[0m\u001b[1;33m.\u001b[0m\u001b[0mto_array\u001b[0m\u001b[1;33m(\u001b[0m\u001b[1;33m)\u001b[0m\u001b[1;33m\u001b[0m\u001b[1;33m\u001b[0m\u001b[0m\n\u001b[1;32m-> 1924\u001b[1;33m         \u001b[0mllab\u001b[0m\u001b[1;33m,\u001b[0m \u001b[0mrlab\u001b[0m \u001b[1;33m=\u001b[0m \u001b[0m_sort_labels\u001b[0m\u001b[1;33m(\u001b[0m\u001b[0muniques\u001b[0m\u001b[1;33m,\u001b[0m \u001b[0mllab\u001b[0m\u001b[1;33m,\u001b[0m \u001b[0mrlab\u001b[0m\u001b[1;33m)\u001b[0m\u001b[1;33m\u001b[0m\u001b[1;33m\u001b[0m\u001b[0m\n\u001b[0m\u001b[0;32m   1925\u001b[0m \u001b[1;33m\u001b[0m\u001b[0m\n\u001b[0;32m   1926\u001b[0m     \u001b[1;31m# NA group\u001b[0m\u001b[1;33m\u001b[0m\u001b[1;33m\u001b[0m\u001b[1;33m\u001b[0m\u001b[0m\n",
      "\u001b[1;32m~\\anaconda3\\envs\\geo_env\\lib\\site-packages\\pandas\\core\\reshape\\merge.py\u001b[0m in \u001b[0;36m_sort_labels\u001b[1;34m(uniques, left, right)\u001b[0m\n\u001b[0;32m   1948\u001b[0m     \u001b[0mlabels\u001b[0m \u001b[1;33m=\u001b[0m \u001b[0mnp\u001b[0m\u001b[1;33m.\u001b[0m\u001b[0mconcatenate\u001b[0m\u001b[1;33m(\u001b[0m\u001b[1;33m[\u001b[0m\u001b[0mleft\u001b[0m\u001b[1;33m,\u001b[0m \u001b[0mright\u001b[0m\u001b[1;33m]\u001b[0m\u001b[1;33m)\u001b[0m\u001b[1;33m\u001b[0m\u001b[1;33m\u001b[0m\u001b[0m\n\u001b[0;32m   1949\u001b[0m \u001b[1;33m\u001b[0m\u001b[0m\n\u001b[1;32m-> 1950\u001b[1;33m     \u001b[0m_\u001b[0m\u001b[1;33m,\u001b[0m \u001b[0mnew_labels\u001b[0m \u001b[1;33m=\u001b[0m \u001b[0malgos\u001b[0m\u001b[1;33m.\u001b[0m\u001b[0msafe_sort\u001b[0m\u001b[1;33m(\u001b[0m\u001b[0muniques\u001b[0m\u001b[1;33m,\u001b[0m \u001b[0mlabels\u001b[0m\u001b[1;33m,\u001b[0m \u001b[0mna_sentinel\u001b[0m\u001b[1;33m=\u001b[0m\u001b[1;33m-\u001b[0m\u001b[1;36m1\u001b[0m\u001b[1;33m)\u001b[0m\u001b[1;33m\u001b[0m\u001b[1;33m\u001b[0m\u001b[0m\n\u001b[0m\u001b[0;32m   1951\u001b[0m     \u001b[0mnew_labels\u001b[0m \u001b[1;33m=\u001b[0m \u001b[0mensure_int64\u001b[0m\u001b[1;33m(\u001b[0m\u001b[0mnew_labels\u001b[0m\u001b[1;33m)\u001b[0m\u001b[1;33m\u001b[0m\u001b[1;33m\u001b[0m\u001b[0m\n\u001b[0;32m   1952\u001b[0m     \u001b[0mnew_left\u001b[0m\u001b[1;33m,\u001b[0m \u001b[0mnew_right\u001b[0m \u001b[1;33m=\u001b[0m \u001b[0mnew_labels\u001b[0m\u001b[1;33m[\u001b[0m\u001b[1;33m:\u001b[0m\u001b[0mllength\u001b[0m\u001b[1;33m]\u001b[0m\u001b[1;33m,\u001b[0m \u001b[0mnew_labels\u001b[0m\u001b[1;33m[\u001b[0m\u001b[0mllength\u001b[0m\u001b[1;33m:\u001b[0m\u001b[1;33m]\u001b[0m\u001b[1;33m\u001b[0m\u001b[1;33m\u001b[0m\u001b[0m\n",
      "\u001b[1;32m~\\anaconda3\\envs\\geo_env\\lib\\site-packages\\pandas\\core\\algorithms.py\u001b[0m in \u001b[0;36msafe_sort\u001b[1;34m(values, codes, na_sentinel, assume_unique, verify)\u001b[0m\n\u001b[0;32m   2033\u001b[0m     \u001b[1;32mfrom\u001b[0m \u001b[0mpandas\u001b[0m \u001b[1;32mimport\u001b[0m \u001b[0mIndex\u001b[0m\u001b[1;33m\u001b[0m\u001b[1;33m\u001b[0m\u001b[0m\n\u001b[0;32m   2034\u001b[0m \u001b[1;33m\u001b[0m\u001b[0m\n\u001b[1;32m-> 2035\u001b[1;33m     \u001b[1;32mif\u001b[0m \u001b[1;32mnot\u001b[0m \u001b[0massume_unique\u001b[0m \u001b[1;32mand\u001b[0m \u001b[1;32mnot\u001b[0m \u001b[0mIndex\u001b[0m\u001b[1;33m(\u001b[0m\u001b[0mvalues\u001b[0m\u001b[1;33m)\u001b[0m\u001b[1;33m.\u001b[0m\u001b[0mis_unique\u001b[0m\u001b[1;33m:\u001b[0m\u001b[1;33m\u001b[0m\u001b[1;33m\u001b[0m\u001b[0m\n\u001b[0m\u001b[0;32m   2036\u001b[0m         \u001b[1;32mraise\u001b[0m \u001b[0mValueError\u001b[0m\u001b[1;33m(\u001b[0m\u001b[1;34m\"values should be unique if codes is not None\"\u001b[0m\u001b[1;33m)\u001b[0m\u001b[1;33m\u001b[0m\u001b[1;33m\u001b[0m\u001b[0m\n\u001b[0;32m   2037\u001b[0m \u001b[1;33m\u001b[0m\u001b[0m\n",
      "\u001b[1;32m~\\anaconda3\\envs\\geo_env\\lib\\site-packages\\pandas\\core\\indexes\\base.py\u001b[0m in \u001b[0;36m__new__\u001b[1;34m(cls, data, dtype, copy, name, tupleize_cols, **kwargs)\u001b[0m\n\u001b[0;32m    404\u001b[0m \u001b[1;33m\u001b[0m\u001b[0m\n\u001b[0;32m    405\u001b[0m             \u001b[1;32mif\u001b[0m \u001b[0mdtype\u001b[0m \u001b[1;32mis\u001b[0m \u001b[1;32mNone\u001b[0m\u001b[1;33m:\u001b[0m\u001b[1;33m\u001b[0m\u001b[1;33m\u001b[0m\u001b[0m\n\u001b[1;32m--> 406\u001b[1;33m                 \u001b[0mnew_data\u001b[0m\u001b[1;33m,\u001b[0m \u001b[0mnew_dtype\u001b[0m \u001b[1;33m=\u001b[0m \u001b[0m_maybe_cast_data_without_dtype\u001b[0m\u001b[1;33m(\u001b[0m\u001b[0msubarr\u001b[0m\u001b[1;33m)\u001b[0m\u001b[1;33m\u001b[0m\u001b[1;33m\u001b[0m\u001b[0m\n\u001b[0m\u001b[0;32m    407\u001b[0m                 \u001b[1;32mif\u001b[0m \u001b[0mnew_dtype\u001b[0m \u001b[1;32mis\u001b[0m \u001b[1;32mnot\u001b[0m \u001b[1;32mNone\u001b[0m\u001b[1;33m:\u001b[0m\u001b[1;33m\u001b[0m\u001b[1;33m\u001b[0m\u001b[0m\n\u001b[0;32m    408\u001b[0m                     return cls(\n",
      "\u001b[1;32m~\\anaconda3\\envs\\geo_env\\lib\\site-packages\\pandas\\core\\indexes\\base.py\u001b[0m in \u001b[0;36m_maybe_cast_data_without_dtype\u001b[1;34m(subarr)\u001b[0m\n\u001b[0;32m   5487\u001b[0m     \u001b[1;32mif\u001b[0m \u001b[0minferred\u001b[0m \u001b[1;33m==\u001b[0m \u001b[1;34m\"integer\"\u001b[0m\u001b[1;33m:\u001b[0m\u001b[1;33m\u001b[0m\u001b[1;33m\u001b[0m\u001b[0m\n\u001b[0;32m   5488\u001b[0m         \u001b[1;32mtry\u001b[0m\u001b[1;33m:\u001b[0m\u001b[1;33m\u001b[0m\u001b[1;33m\u001b[0m\u001b[0m\n\u001b[1;32m-> 5489\u001b[1;33m             \u001b[0mdata\u001b[0m \u001b[1;33m=\u001b[0m \u001b[0m_try_convert_to_int_array\u001b[0m\u001b[1;33m(\u001b[0m\u001b[0msubarr\u001b[0m\u001b[1;33m,\u001b[0m \u001b[1;32mFalse\u001b[0m\u001b[1;33m,\u001b[0m \u001b[1;32mNone\u001b[0m\u001b[1;33m)\u001b[0m\u001b[1;33m\u001b[0m\u001b[1;33m\u001b[0m\u001b[0m\n\u001b[0m\u001b[0;32m   5490\u001b[0m             \u001b[1;32mreturn\u001b[0m \u001b[0mdata\u001b[0m\u001b[1;33m,\u001b[0m \u001b[0mdata\u001b[0m\u001b[1;33m.\u001b[0m\u001b[0mdtype\u001b[0m\u001b[1;33m\u001b[0m\u001b[1;33m\u001b[0m\u001b[0m\n\u001b[0;32m   5491\u001b[0m         \u001b[1;32mexcept\u001b[0m \u001b[0mValueError\u001b[0m\u001b[1;33m:\u001b[0m\u001b[1;33m\u001b[0m\u001b[1;33m\u001b[0m\u001b[0m\n",
      "\u001b[1;32m~\\anaconda3\\envs\\geo_env\\lib\\site-packages\\pandas\\core\\indexes\\base.py\u001b[0m in \u001b[0;36m_try_convert_to_int_array\u001b[1;34m(data, copy, dtype)\u001b[0m\n\u001b[0;32m   5559\u001b[0m         \u001b[1;32mtry\u001b[0m\u001b[1;33m:\u001b[0m\u001b[1;33m\u001b[0m\u001b[1;33m\u001b[0m\u001b[0m\n\u001b[0;32m   5560\u001b[0m             \u001b[0mres\u001b[0m \u001b[1;33m=\u001b[0m \u001b[0mdata\u001b[0m\u001b[1;33m.\u001b[0m\u001b[0mastype\u001b[0m\u001b[1;33m(\u001b[0m\u001b[1;34m\"i8\"\u001b[0m\u001b[1;33m,\u001b[0m \u001b[0mcopy\u001b[0m\u001b[1;33m=\u001b[0m\u001b[1;32mFalse\u001b[0m\u001b[1;33m)\u001b[0m\u001b[1;33m\u001b[0m\u001b[1;33m\u001b[0m\u001b[0m\n\u001b[1;32m-> 5561\u001b[1;33m             \u001b[1;32mif\u001b[0m \u001b[1;33m(\u001b[0m\u001b[0mres\u001b[0m \u001b[1;33m==\u001b[0m \u001b[0mdata\u001b[0m\u001b[1;33m)\u001b[0m\u001b[1;33m.\u001b[0m\u001b[0mall\u001b[0m\u001b[1;33m(\u001b[0m\u001b[1;33m)\u001b[0m\u001b[1;33m:\u001b[0m\u001b[1;33m\u001b[0m\u001b[1;33m\u001b[0m\u001b[0m\n\u001b[0m\u001b[0;32m   5562\u001b[0m                 \u001b[1;32mreturn\u001b[0m \u001b[0mres\u001b[0m  \u001b[1;31m# TODO: might still need to copy\u001b[0m\u001b[1;33m\u001b[0m\u001b[1;33m\u001b[0m\u001b[0m\n\u001b[0;32m   5563\u001b[0m         \u001b[1;32mexcept\u001b[0m \u001b[1;33m(\u001b[0m\u001b[0mOverflowError\u001b[0m\u001b[1;33m,\u001b[0m \u001b[0mTypeError\u001b[0m\u001b[1;33m,\u001b[0m \u001b[0mValueError\u001b[0m\u001b[1;33m)\u001b[0m\u001b[1;33m:\u001b[0m\u001b[1;33m\u001b[0m\u001b[1;33m\u001b[0m\u001b[0m\n",
      "\u001b[1;31mKeyboardInterrupt\u001b[0m: "
     ]
    }
   ],
   "source": [
    "hill_df, best_solution = random_start_hillclimber(best_solution, all_households, rel_poi_df, df_afstandn2)"
   ]
  },
  {
   "cell_type": "code",
   "execution_count": null,
   "metadata": {},
   "outputs": [],
   "source": []
  }
 ],
 "metadata": {
  "kernelspec": {
   "display_name": "Python 3",
   "language": "python",
   "name": "python3"
  },
  "language_info": {
   "codemirror_mode": {
    "name": "ipython",
    "version": 3
   },
   "file_extension": ".py",
   "mimetype": "text/x-python",
   "name": "python",
   "nbconvert_exporter": "python",
   "pygments_lexer": "ipython3",
   "version": "3.8.2"
  }
 },
 "nbformat": 4,
 "nbformat_minor": 4
}
