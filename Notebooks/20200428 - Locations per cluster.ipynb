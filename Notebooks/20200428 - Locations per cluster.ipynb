{
 "cells": [
  {
   "cell_type": "code",
   "execution_count": 3,
   "metadata": {},
   "outputs": [
    {
     "name": "stdout",
     "output_type": "stream",
     "text": [
      "POSTGRES password?WelkomCorne!\n"
     ]
    }
   ],
   "source": [
    "import requests\n",
    "import pandas as pd\n",
    "import geopandas as gpd\n",
    "\n",
    "import sys\n",
    "\n",
    "sys.path.append(\"../\")\n",
    "\n",
    "# from helper_functions import *\n",
    "# from loading_data import *\n",
    "from Code.helper_functions import initial_loading\n",
    "from Code.algorithms import random_start_hillclimber"
   ]
  },
  {
   "cell_type": "markdown",
   "metadata": {},
   "source": [
    "### Locations per cluster\n",
    "The first step is to slightly modify the loading of the clusters"
   ]
  },
  {
   "cell_type": "code",
   "execution_count": null,
   "metadata": {},
   "outputs": [],
   "source": [
    "def load_api_data(prnt=False):\n",
    "    \"\"\"\n",
    "    This function loads in information on the current composition of container\n",
    "    clusters in Amsterdam. It uses the API from data.amsterdam.nl (available at\n",
    "    'https://api.data.amsterdam.nl/vsd/afvalclusters'). It returns the coordinates,\n",
    "    amount and volume of different fractions and the address of the clusters. As\n",
    "    a check, it is determined whether or not the cluster is currently active.\n",
    "    Returns:\n",
    "    - df containing coordinates, dict-like amount and volume per fraction and\n",
    "    address.\n",
    "    \"\"\"\n",
    "    x_coordinates = []\n",
    "    y_coordinates = []\n",
    "    aantal = []\n",
    "    volumes = []\n",
    "    adresses = []\n",
    "    buurt = []\n",
    "\n",
    "    link = 'https://api.data.amsterdam.nl/vsd/afvalclusters'\n",
    "\n",
    "    while link != None: #This is the case on the last page of the API\n",
    "        if prnt: # Can be used for some kind of monitoring of progres\n",
    "            print(link)\n",
    "        response = requests.get(link)\n",
    "        output = response.json()\n",
    "        for result in output['results']:\n",
    "            if result['cluster_datum_einde_cluster'] == None: #Als het cluster nog actief is\n",
    "                x_coordinates.append(str(result['cluster_geometrie']['coordinates'][0]))\n",
    "                y_coordinates.append(str(result['cluster_geometrie']['coordinates'][1]))\n",
    "                aantal.append(result['cluster_fractie_aantal'])\n",
    "                volumes.append(result['cluster_fractie_volume'])\n",
    "                adresses.append(result['bag_adres_openbare_ruimte_naam'])\n",
    "                buurt.append(result['gbd_buurt_code'])\n",
    "        try:\n",
    "            link = output['_links']['next']['href'] #Retrieve link for next page\n",
    "        except:\n",
    "            link = None #True for last page of API\n",
    "\n",
    "    df_clusters = pd.DataFrame([x_coordinates, y_coordinates, aantal, volumes, adresses, buurt]).T\n",
    "    df_clusters = df_clusters.rename(columns={0: 'cluster_x', 1:'cluster_y', 2:'aantal_per_fractie', 3:'volume_per_fractie', 4: 'street_name', 5:'buurt'})\n",
    "    # Transform coordinates of clusters to ints, as this helps easing join\n",
    "    df_clusters['cluster_x'] = df_clusters['cluster_x'].astype('float').round(0).astype('int')\n",
    "    df_clusters['cluster_y'] = df_clusters['cluster_y'].astype('float').round(0).astype('int')\n",
    "    df_clusters['wijk'] = df_clusters['buurt'].str[:3]\n",
    "    df_clusters['stadsdeel'] = df_clusters['buurt'].str[0]\n",
    "    return df_clusters"
   ]
  },
  {
   "cell_type": "code",
   "execution_count": null,
   "metadata": {},
   "outputs": [],
   "source": [
    "def load_geodata_containers(subsectie=None):\n",
    "    \"\"\"\n",
    "    This function loads in all polygons representing areas in the city of Amsterdam\n",
    "    where general waste needs to be brought to a container. This is different\n",
    "    from the alternative where general waste is collected from the sidewalk. This\n",
    "    is needed to filter the address POI's to relevant POI's for optimization.\n",
    "    Subsectie is optional parameter to filter on specific stadsdelen. This can be used\n",
    "    for partial optimization.\n",
    "\n",
    "    Returns:\n",
    "    - List of polygons making up the area of centralized garbage collection\n",
    "    \"\"\"\n",
    "\n",
    "    source = gpd.read_file('../data/Inzameling_huisvuil_100220.shp')\n",
    "    source = source[source['aanbiedwij'] == 'Breng uw restafval  naar een container voor restafval.']\n",
    "    if subsectie:\n",
    "        source = source[source['sdcode'] == subsectie]\n",
    "    return list(source.geometry)"
   ]
  },
  {
   "cell_type": "code",
   "execution_count": null,
   "metadata": {},
   "outputs": [],
   "source": [
    "def get_db_afvalcluster_info():\n",
    "    \"\"\"\n",
    "    Function that modifies loads in data on the garbage clusters from the Postgres\n",
    "    database and modifies the resulting dataframe in a way that makes it usable\n",
    "    for future analysis\n",
    "    Returns:\n",
    "    - pandas DataFrame containing all information from the database and also the\n",
    "    added coordinates for the clusters and the type of POI\n",
    "    \"\"\"\n",
    "    polygon_list = load_geodata_containers()\n",
    "    db_df = get_dataframe(\"\"\"SELECT *\n",
    "                             FROM proj_afval_netwerk.afv_rel_nodes_poi\n",
    "                             \"\"\")\n",
    "    db_df['woning'] = db_df['bk_afv_rel_nodes_poi'].str.split('~')\n",
    "    db_df['cluster_x'] = db_df['woning'].apply(lambda x: x[0]).astype('float').round(0).astype('int')\n",
    "    db_df['cluster_y'] = db_df['woning'].apply(lambda x: x[1]).astype('float').round(0).astype('int')\n",
    "    db_df['type'] = db_df['woning'].apply(lambda x: x[2])\n",
    "    db_df['bag'] = db_df['woning'].apply(lambda x: x[3])\n",
    "    print('a')\n",
    "#     db_df['uses_container'] = db_df.apply(lambda row: address_in_service_area(row['cluster_x'], row['cluster_y'], polygon_list = polygon_list), axis=1)\n",
    "    db_df = db_df.drop('woning', axis=1)\n",
    "    return db_df"
   ]
  },
  {
   "cell_type": "code",
   "execution_count": null,
   "metadata": {},
   "outputs": [],
   "source": [
    "def create_all_households(rel_poi_df, subsectie=None):\n",
    "    \"\"\"\n",
    "    Function that creates a dataframe containing all households as rows\n",
    "    \"\"\"\n",
    "    polygon_list = load_geodata_containers(subsectie = subsectie)\n",
    "    all_households = rel_poi_df[rel_poi_df['type']!='afval_cluster']\n",
    "    all_households = all_households[['s1_afv_nodes', 'cluster_x', 'cluster_y']]\n",
    "    print('b')\n",
    "    all_households['uses_container'] = all_households.apply(lambda row: address_in_service_area(row['cluster_x'], row['cluster_y'], polygon_list=polygon_list), axis=1)\n",
    "    return all_households"
   ]
  },
  {
   "cell_type": "code",
   "execution_count": null,
   "metadata": {},
   "outputs": [],
   "source": [
    "df_clusters = load_api_data_neigborhood()"
   ]
  },
  {
   "cell_type": "code",
   "execution_count": null,
   "metadata": {},
   "outputs": [],
   "source": [
    "df_clusters['stadsdeel'].value_counts()\n",
    "# Stadsdeel Zuid-Oost (T) has 423 clusters. This is to be optimized"
   ]
  },
  {
   "cell_type": "code",
   "execution_count": null,
   "metadata": {},
   "outputs": [],
   "source": [
    "rel_poi_df = get_db_afvalcluster_info()"
   ]
  },
  {
   "cell_type": "code",
   "execution_count": null,
   "metadata": {},
   "outputs": [],
   "source": [
    "all_households = create_all_households(rel_poi_df, subsectie='T')"
   ]
  },
  {
   "cell_type": "code",
   "execution_count": null,
   "metadata": {},
   "outputs": [],
   "source": [
    "joined = join_api_db(rel_poi_df, df_clusters)"
   ]
  },
  {
   "cell_type": "code",
   "execution_count": null,
   "metadata": {},
   "outputs": [],
   "source": [
    "joined['rest'], joined['plastic'], joined['papier'], joined['glas'], joined['textiel'], joined['totaal'] = zip(*joined['aantal_per_fractie'].apply(lambda x: containers_per_cluster(x)))"
   ]
  },
  {
   "cell_type": "code",
   "execution_count": null,
   "metadata": {},
   "outputs": [],
   "source": [
    "df_afstandn2 = distance_matrix_with_counts()"
   ]
  },
  {
   "cell_type": "code",
   "execution_count": null,
   "metadata": {},
   "outputs": [],
   "source": [
    "for i in ['T', 'M', 'N', 'A', 'K', 'E', 'F', 'B']:\n",
    "    print(i)\n",
    "    all_households, rel_poi_df, joined, df_afstandn2 = initial_loading(use_count=True, subsectie=i)\n",
    "    joined_cluster_distance, good_result_rich, aansluitingen, avg_distance, penalties = \\\n",
    "    analyze_candidate_solution(joined, all_households, rel_poi_df, df_afstandn2, clean=True, use_count=True)"
   ]
  },
  {
   "cell_type": "code",
   "execution_count": 4,
   "metadata": {},
   "outputs": [
    {
     "name": "stdout",
     "output_type": "stream",
     "text": [
      "Do you want to use addresses instead of clusters?True\n",
      "What stadsdeel do you want to make as a subsection?T\n",
      "API data loaded\n",
      "DB relation POIs loaded\n",
      "Table all households created\n",
      "API and DB joined\n",
      "containers per cluster determined\n"
     ]
    },
    {
     "name": "stderr",
     "output_type": "stream",
     "text": [
      "..\\Code\\loading_data.py:239: SettingWithCopyWarning: \n",
      "A value is trying to be set on a copy of a slice from a DataFrame.\n",
      "Try using .loc[row_indexer,col_indexer] = value instead\n",
      "\n",
      "See the caveats in the documentation: https://pandas.pydata.org/pandas-docs/stable/user_guide/indexing.html#returning-a-view-versus-a-copy\n",
      "  verblijfsobjecten['bag'] = verblijfsobjecten['split'].apply(lambda x: x[3]).astype('int64')\n"
     ]
    },
    {
     "name": "stdout",
     "output_type": "stream",
     "text": [
      "distance matrix loaded\n",
      "How many random iterations?10\n",
      "How many iterations hillclimber?20\n",
      "Do you want the results saved(True/False)?True\n",
      "Do you want to only use a subset of data?Ture\n",
      "Do you want to use addresses instead of clusters?True\n",
      "What parameter to optimize on (score/penalties)?penalties\n",
      "Average distance is : 249.6004611676881\n",
      "Penalties are: 308.1859662117452\n",
      "Average distance is : 254.02442956940632\n",
      "Penalties are: 319.9085892115329\n",
      "Average distance is : 251.95626616743436\n",
      "Penalties are: 320.9413878810317\n",
      "Average distance is : 254.4581740794967\n",
      "Penalties are: 335.33427856672427\n",
      "Average distance is : 258.37575446499943\n",
      "Penalties are: 325.6733294122486\n",
      "Average distance is : 257.2809305525734\n",
      "Penalties are: 340.44575707527764\n",
      "Average distance is : 256.8267005819576\n",
      "Penalties are: 334.76564096816645\n",
      "Average distance is : 263.8342913062763\n",
      "Penalties are: 336.82620506334325\n",
      "Average distance is : 260.2847936184146\n",
      "Penalties are: 324.4653209068839\n",
      "Average distance is : 250.34930114917154\n",
      "Penalties are: 337.39324302813424\n",
      "Average distance is : 266.928903566857\n",
      "Penalties are: 316.7476668654629\n",
      "***************************************\n",
      "249.6004611676881 308.1859662117452 0\n",
      "Average distance is : 249.6004611676881\n",
      "Penalties are: 308.1859662117452\n",
      "Average distance is : 249.6838165615526\n",
      "Penalties are: 310.87252133906793\n",
      "310.87252133906793 308.1859662117452\n",
      "Average distance is : 251.2628538202553\n",
      "Penalties are: 309.86524802481904\n",
      "309.86524802481904 308.1859662117452\n",
      "Average distance is : 249.6004611676881\n",
      "Penalties are: 308.1859662117452\n",
      "308.1859662117452 308.1859662117452\n",
      "Average distance is : 250.02315879221862\n",
      "Penalties are: 308.49028285773363\n",
      "308.49028285773363 308.1859662117452\n",
      "Average distance is : 250.15030313520222\n",
      "Penalties are: 310.9996357526881\n",
      "310.9996357526881 308.1859662117452\n",
      "Average distance is : 250.22257637792157\n",
      "Penalties are: 308.1886290529363\n",
      "308.1886290529363 308.1859662117452\n",
      "Average distance is : 250.68606104945943\n",
      "Penalties are: 308.2737136889991\n",
      "308.2737136889991 308.1859662117452\n",
      "Average distance is : 249.71525706754295\n",
      "Penalties are: 307.50663205128205\n",
      "307.50663205128205 308.1859662117452\n",
      "Average distance is : 250.53919743092294\n",
      "Penalties are: 311.5806243719628\n",
      "311.5806243719628 307.50663205128205\n",
      "Average distance is : 247.90196188525093\n",
      "Penalties are: 307.91385529363106\n",
      "307.91385529363106 307.50663205128205\n",
      "Average distance is : 251.36166155242114\n",
      "Penalties are: 310.22555330851947\n",
      "310.22555330851947 307.50663205128205\n",
      "Average distance is : 253.6817900059155\n",
      "Penalties are: 302.14897404880065\n",
      "302.14897404880065 307.50663205128205\n",
      "Average distance is : 254.02487237615688\n",
      "Penalties are: 305.8914590363937\n",
      "305.8914590363937 302.14897404880065\n",
      "Average distance is : 253.7899394572693\n",
      "Penalties are: 301.162870802316\n",
      "301.162870802316 302.14897404880065\n",
      "Average distance is : 254.30413794805537\n",
      "Penalties are: 303.64889559553353\n",
      "303.64889559553353 301.162870802316\n",
      "Average distance is : 254.04767076121672\n",
      "Penalties are: 302.0575567411084\n",
      "302.0575567411084 301.162870802316\n",
      "Average distance is : 253.7881136364261\n",
      "Penalties are: 299.4290261373036\n",
      "299.4290261373036 301.162870802316\n",
      "Average distance is : 254.3592990233971\n",
      "Penalties are: 302.17494971050456\n",
      "302.17494971050456 299.4290261373036\n",
      "Average distance is : 254.34766365492692\n",
      "Penalties are: 299.47092062605964\n",
      "299.47092062605964 299.4290261373036\n",
      "Average distance is : 253.94842622038107\n",
      "Penalties are: 301.34857888751037\n",
      "301.34857888751037 299.4290261373036\n"
     ]
    },
    {
     "name": "stderr",
     "output_type": "stream",
     "text": [
      "..\\Code\\algorithms.py:123: FutureWarning: The pandas.datetime class is deprecated and will be removed from pandas in a future version. Import from datetime module instead.\n",
      "  today = str(pd.datetime.now().date()) + '-' + str(pd.datetime.now().hour)\n"
     ]
    },
    {
     "data": {
      "image/png": "[encoded data removed]",
      "text/plain": [
       "<Figure size 432x288 with 1 Axes>"
      ]
     },
     "metadata": {
      "needs_background": "light"
     },
     "output_type": "display_data"
    }
   ],
   "source": [
    "all_households, rel_poi_df, joined, df_afstandn2 = initial_loading()\n",
    "hill_df, best_solution = random_start_hillclimber(joined, all_households, rel_poi_df, df_afstandn2)"
   ]
  },
  {
   "cell_type": "code",
   "execution_count": null,
   "metadata": {},
   "outputs": [],
   "source": []
  }
 ],
 "metadata": {
  "kernelspec": {
   "display_name": "Python 3",
   "language": "python",
   "name": "python3"
  },
  "language_info": {
   "codemirror_mode": {
    "name": "ipython",
    "version": 3
   },
   "file_extension": ".py",
   "mimetype": "text/x-python",
   "name": "python",
   "nbconvert_exporter": "python",
   "pygments_lexer": "ipython3",
   "version": "3.8.2"
  }
 },
 "nbformat": 4,
 "nbformat_minor": 4
}
