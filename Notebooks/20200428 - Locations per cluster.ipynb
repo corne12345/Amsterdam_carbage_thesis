{
 "cells": [
  {
   "cell_type": "code",
   "execution_count": 1,
   "metadata": {},
   "outputs": [
    {
     "name": "stdout",
     "output_type": "stream",
     "text": [
      "POSTGRES password?WelkomCorne!\n"
     ]
    }
   ],
   "source": [
    "import requests\n",
    "import pandas as pd\n",
    "import geopandas as gpd\n",
    "\n",
    "import sys\n",
    "\n",
    "sys.path.append(\"../\")\n",
    "\n",
    "# from helper_functions import *\n",
    "# from loading_data import *\n",
    "from Code.helper_functions import initial_loading\n",
    "from Code.algorithms import random_start_hillclimber\n",
    "from Code.algorithms import hillclimber2"
   ]
  },
  {
   "cell_type": "markdown",
   "metadata": {},
   "source": [
    "### Locations per cluster\n",
    "The first step is to slightly modify the loading of the clusters"
   ]
  },
  {
   "cell_type": "code",
   "execution_count": null,
   "metadata": {},
   "outputs": [],
   "source": [
    "def load_api_data(prnt=False):\n",
    "    \"\"\"\n",
    "    This function loads in information on the current composition of container\n",
    "    clusters in Amsterdam. It uses the API from data.amsterdam.nl (available at\n",
    "    'https://api.data.amsterdam.nl/vsd/afvalclusters'). It returns the coordinates,\n",
    "    amount and volume of different fractions and the address of the clusters. As\n",
    "    a check, it is determined whether or not the cluster is currently active.\n",
    "    Returns:\n",
    "    - df containing coordinates, dict-like amount and volume per fraction and\n",
    "    address.\n",
    "    \"\"\"\n",
    "    x_coordinates = []\n",
    "    y_coordinates = []\n",
    "    aantal = []\n",
    "    volumes = []\n",
    "    adresses = []\n",
    "    buurt = []\n",
    "\n",
    "    link = 'https://api.data.amsterdam.nl/vsd/afvalclusters'\n",
    "\n",
    "    while link != None: #This is the case on the last page of the API\n",
    "        if prnt: # Can be used for some kind of monitoring of progres\n",
    "            print(link)\n",
    "        response = requests.get(link)\n",
    "        output = response.json()\n",
    "        for result in output['results']:\n",
    "            if result['cluster_datum_einde_cluster'] == None: #Als het cluster nog actief is\n",
    "                x_coordinates.append(str(result['cluster_geometrie']['coordinates'][0]))\n",
    "                y_coordinates.append(str(result['cluster_geometrie']['coordinates'][1]))\n",
    "                aantal.append(result['cluster_fractie_aantal'])\n",
    "                volumes.append(result['cluster_fractie_volume'])\n",
    "                adresses.append(result['bag_adres_openbare_ruimte_naam'])\n",
    "                buurt.append(result['gbd_buurt_code'])\n",
    "        try:\n",
    "            link = output['_links']['next']['href'] #Retrieve link for next page\n",
    "        except:\n",
    "            link = None #True for last page of API\n",
    "\n",
    "    df_clusters = pd.DataFrame([x_coordinates, y_coordinates, aantal, volumes, adresses, buurt]).T\n",
    "    df_clusters = df_clusters.rename(columns={0: 'cluster_x', 1:'cluster_y', 2:'aantal_per_fractie', 3:'volume_per_fractie', 4: 'street_name', 5:'buurt'})\n",
    "    # Transform coordinates of clusters to ints, as this helps easing join\n",
    "    df_clusters['cluster_x'] = df_clusters['cluster_x'].astype('float').round(0).astype('int')\n",
    "    df_clusters['cluster_y'] = df_clusters['cluster_y'].astype('float').round(0).astype('int')\n",
    "    df_clusters['wijk'] = df_clusters['buurt'].str[:3]\n",
    "    df_clusters['stadsdeel'] = df_clusters['buurt'].str[0]\n",
    "    return df_clusters"
   ]
  },
  {
   "cell_type": "code",
   "execution_count": null,
   "metadata": {},
   "outputs": [],
   "source": [
    "def load_geodata_containers(subsectie=None):\n",
    "    \"\"\"\n",
    "    This function loads in all polygons representing areas in the city of Amsterdam\n",
    "    where general waste needs to be brought to a container. This is different\n",
    "    from the alternative where general waste is collected from the sidewalk. This\n",
    "    is needed to filter the address POI's to relevant POI's for optimization.\n",
    "    Subsectie is optional parameter to filter on specific stadsdelen. This can be used\n",
    "    for partial optimization.\n",
    "\n",
    "    Returns:\n",
    "    - List of polygons making up the area of centralized garbage collection\n",
    "    \"\"\"\n",
    "\n",
    "    source = gpd.read_file('../data/Inzameling_huisvuil_100220.shp')\n",
    "    source = source[source['aanbiedwij'] == 'Breng uw restafval  naar een container voor restafval.']\n",
    "    if subsectie:\n",
    "        source = source[source['sdcode'] == subsectie]\n",
    "    return list(source.geometry)"
   ]
  },
  {
   "cell_type": "code",
   "execution_count": null,
   "metadata": {},
   "outputs": [],
   "source": [
    "def get_db_afvalcluster_info():\n",
    "    \"\"\"\n",
    "    Function that modifies loads in data on the garbage clusters from the Postgres\n",
    "    database and modifies the resulting dataframe in a way that makes it usable\n",
    "    for future analysis\n",
    "    Returns:\n",
    "    - pandas DataFrame containing all information from the database and also the\n",
    "    added coordinates for the clusters and the type of POI\n",
    "    \"\"\"\n",
    "    polygon_list = load_geodata_containers()\n",
    "    db_df = get_dataframe(\"\"\"SELECT *\n",
    "                             FROM proj_afval_netwerk.afv_rel_nodes_poi\n",
    "                             \"\"\")\n",
    "    db_df['woning'] = db_df['bk_afv_rel_nodes_poi'].str.split('~')\n",
    "    db_df['cluster_x'] = db_df['woning'].apply(lambda x: x[0]).astype('float').round(0).astype('int')\n",
    "    db_df['cluster_y'] = db_df['woning'].apply(lambda x: x[1]).astype('float').round(0).astype('int')\n",
    "    db_df['type'] = db_df['woning'].apply(lambda x: x[2])\n",
    "    db_df['bag'] = db_df['woning'].apply(lambda x: x[3])\n",
    "    print('a')\n",
    "#     db_df['uses_container'] = db_df.apply(lambda row: address_in_service_area(row['cluster_x'], row['cluster_y'], polygon_list = polygon_list), axis=1)\n",
    "    db_df = db_df.drop('woning', axis=1)\n",
    "    return db_df"
   ]
  },
  {
   "cell_type": "code",
   "execution_count": null,
   "metadata": {},
   "outputs": [],
   "source": [
    "def create_all_households(rel_poi_df, subsectie=None):\n",
    "    \"\"\"\n",
    "    Function that creates a dataframe containing all households as rows\n",
    "    \"\"\"\n",
    "    polygon_list = load_geodata_containers(subsectie = subsectie)\n",
    "    all_households = rel_poi_df[rel_poi_df['type']!='afval_cluster']\n",
    "    all_households = all_households[['s1_afv_nodes', 'cluster_x', 'cluster_y']]\n",
    "    print('b')\n",
    "    all_households['uses_container'] = all_households.apply(lambda row: address_in_service_area(row['cluster_x'], row['cluster_y'], polygon_list=polygon_list), axis=1)\n",
    "    return all_households"
   ]
  },
  {
   "cell_type": "code",
   "execution_count": null,
   "metadata": {},
   "outputs": [],
   "source": [
    "df_clusters = load_api_data_neigborhood()"
   ]
  },
  {
   "cell_type": "code",
   "execution_count": null,
   "metadata": {},
   "outputs": [],
   "source": [
    "df_clusters['stadsdeel'].value_counts()\n",
    "# Stadsdeel Zuid-Oost (T) has 423 clusters. This is to be optimized"
   ]
  },
  {
   "cell_type": "code",
   "execution_count": null,
   "metadata": {},
   "outputs": [],
   "source": [
    "rel_poi_df = get_db_afvalcluster_info()"
   ]
  },
  {
   "cell_type": "code",
   "execution_count": null,
   "metadata": {},
   "outputs": [],
   "source": [
    "all_households = create_all_households(rel_poi_df, subsectie='T')"
   ]
  },
  {
   "cell_type": "code",
   "execution_count": null,
   "metadata": {},
   "outputs": [],
   "source": [
    "joined = join_api_db(rel_poi_df, df_clusters)"
   ]
  },
  {
   "cell_type": "code",
   "execution_count": null,
   "metadata": {},
   "outputs": [],
   "source": [
    "joined['rest'], joined['plastic'], joined['papier'], joined['glas'], joined['textiel'], joined['totaal'] = zip(*joined['aantal_per_fractie'].apply(lambda x: containers_per_cluster(x)))"
   ]
  },
  {
   "cell_type": "code",
   "execution_count": null,
   "metadata": {},
   "outputs": [],
   "source": [
    "df_afstandn2 = distance_matrix_with_counts()"
   ]
  },
  {
   "cell_type": "code",
   "execution_count": null,
   "metadata": {},
   "outputs": [],
   "source": [
    "for i in ['T', 'M', 'N', 'A', 'K', 'E', 'F', 'B']:\n",
    "    print(i)\n",
    "    all_households, rel_poi_df, joined, df_afstandn2 = initial_loading(use_count=True, subsectie=i)\n",
    "    joined_cluster_distance, good_result_rich, aansluitingen, avg_distance, penalties = \\\n",
    "    analyze_candidate_solution(joined, all_households, rel_poi_df, df_afstandn2, clean=True, use_count=True)"
   ]
  },
  {
   "cell_type": "code",
   "execution_count": 2,
   "metadata": {},
   "outputs": [
    {
     "name": "stdout",
     "output_type": "stream",
     "text": [
      "Do you want to use addresses instead of clusters?True\n",
      "What stadsdeel do you want to make as a subsection (optional parameter)?True\n",
      "API data loaded\n",
      "DB relation POIs loaded\n",
      "Table all households created\n",
      "API and DB joined\n",
      "containers per cluster determined\n"
     ]
    },
    {
     "name": "stderr",
     "output_type": "stream",
     "text": [
      "..\\Code\\loading_data.py:239: SettingWithCopyWarning: \n",
      "A value is trying to be set on a copy of a slice from a DataFrame.\n",
      "Try using .loc[row_indexer,col_indexer] = value instead\n",
      "\n",
      "See the caveats in the documentation: https://pandas.pydata.org/pandas-docs/stable/user_guide/indexing.html#returning-a-view-versus-a-copy\n",
      "  verblijfsobjecten['bag'] = verblijfsobjecten['split'].apply(lambda x: x[3]).astype('int64')\n"
     ]
    },
    {
     "name": "stdout",
     "output_type": "stream",
     "text": [
      "distance matrix loaded\n"
     ]
    }
   ],
   "source": [
    "all_households, rel_poi_df, joined, df_afstandn2 = initial_loading()\n",
    "# hill_df, best_solution = random_start_hillclimber(joined, all_households, rel_poi_df, df_afstandn2)"
   ]
  },
  {
   "cell_type": "code",
   "execution_count": null,
   "metadata": {},
   "outputs": [
    {
     "name": "stdout",
     "output_type": "stream",
     "text": [
      "How many random iterations?10\n",
      "How many iterations hillclimber?1000\n",
      "Do you want the results saved(True/False)?True\n",
      "Do you want to only use a subset of data?True\n",
      "Do you want to use addresses instead of clusters?True\n",
      "What parameter to optimize on (score/penalties)?penalties\n",
      "Average distance is : 175.11182704744022\n",
      "Penalties are: 294.72631401444244\n",
      "Average distance is : 178.22176501070143\n",
      "Penalties are: 293.4482469582898\n",
      "Average distance is : 177.75503530839097\n",
      "Penalties are: 288.65212749829027\n",
      "Average distance is : 179.5418828683096\n",
      "Penalties are: 294.78934074490326\n",
      "Average distance is : 179.14574524664988\n",
      "Penalties are: 292.73418774821886\n",
      "Average distance is : 178.3196919113457\n",
      "Penalties are: 291.19405647625115\n",
      "Average distance is : 177.13250040887098\n",
      "Penalties are: 293.3361423824229\n",
      "Average distance is : 178.11283266221102\n",
      "Penalties are: 291.1785414761423\n",
      "Average distance is : 177.53121722861735\n",
      "Penalties are: 292.00353396902216\n",
      "Average distance is : 177.86063243959728\n",
      "Penalties are: 294.27371926239084\n",
      "Average distance is : 179.96548822868843\n",
      "Penalties are: 294.9148980355691\n",
      "***************************************\n",
      "177.75503530839097 288.65212749829027 1\n",
      "Average distance is : 177.75503530839097\n",
      "Penalties are: 288.65212749829027\n",
      "Average distance is : 177.76310529343948\n",
      "Penalties are: 288.4312876456678\n",
      "288.4312876456678 288.65212749829027\n",
      "Average distance is : 177.78859341259874\n",
      "Penalties are: 288.45602273282816\n",
      "288.45602273282816 288.4312876456678\n",
      "Average distance is : 177.78349329496024\n",
      "Penalties are: 288.5990126723775\n",
      "288.5990126723775 288.4312876456678\n",
      "Average distance is : 177.88397884617422\n",
      "Penalties are: 288.37018776211966\n",
      "288.37018776211966 288.4312876456678\n",
      "Average distance is : 177.817383757094\n",
      "Penalties are: 288.31010349245673\n",
      "288.31010349245673 288.37018776211966\n",
      "Average distance is : 177.88766699127942\n",
      "Penalties are: 288.43283371692866\n",
      "288.43283371692866 288.31010349245673\n",
      "Average distance is : 177.92516284476366\n",
      "Penalties are: 288.35672651119614\n",
      "288.35672651119614 288.31010349245673\n",
      "Average distance is : 177.81679891348597\n",
      "Penalties are: 288.3350612580644\n",
      "288.3350612580644 288.31010349245673\n",
      "Average distance is : 177.83871617246757\n",
      "Penalties are: 288.49425235169554\n",
      "288.49425235169554 288.31010349245673\n",
      "Average distance is : 177.83571836243408\n",
      "Penalties are: 288.44148381621477\n",
      "288.44148381621477 288.31010349245673\n",
      "Average distance is : 177.85450308842005\n",
      "Penalties are: 288.270345818033\n",
      "288.270345818033 288.31010349245673\n",
      "Average distance is : 177.58653046385461\n",
      "Penalties are: 288.1296025929761\n",
      "288.1296025929761 288.270345818033\n",
      "Average distance is : 177.62377238182052\n",
      "Penalties are: 288.21086975657715\n",
      "288.21086975657715 288.1296025929761\n",
      "Average distance is : 177.59512163038934\n",
      "Penalties are: 288.0810891419641\n",
      "288.0810891419641 288.1296025929761\n",
      "Average distance is : 177.53895412299968\n",
      "Penalties are: 288.0812670070503\n",
      "288.0812670070503 288.0810891419641\n",
      "Average distance is : 177.60264505773208\n",
      "Penalties are: 288.1845955921329\n",
      "288.1845955921329 288.0810891419641\n",
      "Average distance is : 177.60848803653857\n",
      "Penalties are: 288.1688309841554\n",
      "288.1688309841554 288.0810891419641\n",
      "Average distance is : 177.5810520343126\n",
      "Penalties are: 288.2249358800766\n",
      "288.2249358800766 288.0810891419641\n",
      "Average distance is : 177.4371128067645\n",
      "Penalties are: 288.07511414615254\n",
      "288.07511414615254 288.0810891419641\n",
      "Average distance is : 177.51606399335822\n",
      "Penalties are: 288.0994365584635\n",
      "288.0994365584635 288.07511414615254\n",
      "Average distance is : 177.44266338604845\n",
      "Penalties are: 288.11330561468174\n",
      "288.11330561468174 288.07511414615254\n"
     ]
    }
   ],
   "source": [
    "hill_df, best_solution = random_start_hillclimber(joined, all_households, rel_poi_df, df_afstandn2)"
   ]
  },
  {
   "cell_type": "code",
   "execution_count": null,
   "metadata": {},
   "outputs": [],
   "source": []
  }
 ],
 "metadata": {
  "kernelspec": {
   "display_name": "Python 3",
   "language": "python",
   "name": "python3"
  },
  "language_info": {
   "codemirror_mode": {
    "name": "ipython",
    "version": 3
   },
   "file_extension": ".py",
   "mimetype": "text/x-python",
   "name": "python",
   "nbconvert_exporter": "python",
   "pygments_lexer": "ipython3",
   "version": "3.8.2"
  }
 },
 "nbformat": 4,
 "nbformat_minor": 4
}
