{
 "cells": [
  {
   "cell_type": "markdown",
   "metadata": {},
   "source": [
    "### Errors in garbage data"
   ]
  },
  {
   "cell_type": "code",
   "execution_count": null,
   "metadata": {},
   "outputs": [],
   "source": [
    "import requests\n",
    "import pandas as pd\n",
    "import numpy as np"
   ]
  },
  {
   "cell_type": "code",
   "execution_count": null,
   "metadata": {},
   "outputs": [],
   "source": [
    "def load_api_data(prnt=False):\n",
    "    x_coordinates = []\n",
    "    y_coordinates = []\n",
    "    aantal = []\n",
    "    volumes = []\n",
    "    adresses = []\n",
    "    links = []\n",
    "\n",
    "    link = 'https://api.data.amsterdam.nl/vsd/afvalclusters'\n",
    "\n",
    "    while link != None:\n",
    "        if prnt:\n",
    "            print(link)\n",
    "        response = requests.get(link)\n",
    "        output = response.json()\n",
    "        for result in output['results']:\n",
    "            if result['cluster_datum_einde_cluster'] == None: #Als het cluster nog actief is\n",
    "                x_coordinates.append(str(result['cluster_geometrie']['coordinates'][0]))\n",
    "                y_coordinates.append(str(result['cluster_geometrie']['coordinates'][1]))\n",
    "                aantal.append(result['cluster_fractie_aantal'])\n",
    "                volumes.append(result['cluster_fractie_volume'])\n",
    "                adresses.append(result['bag_adres_openbare_ruimte_naam'])\n",
    "                links.append(result['_links']['self']['href'])\n",
    "        try:\n",
    "            link = output['_links']['next']['href']\n",
    "        except:\n",
    "            link = None\n",
    "\n",
    "    df_clusters = pd.DataFrame([x_coordinates, y_coordinates, aantal, volumes, adresses, links]).T\n",
    "    df_clusters = df_clusters.rename(columns={0: 'cluster_x', 1:'cluster_y', 2:'aantal_per_fractie', 3:'volume_per_fractie', 4: 'street_name', 5:'links'})\n",
    "    df_clusters['cluster_x'] = df_clusters['cluster_x'].astype('float').round(0).astype('int')\n",
    "    df_clusters['cluster_y'] = df_clusters['cluster_y'].astype('float').round(0).astype('int')\n",
    "    return df_clusters\n",
    "\n",
    "def containers_per_cluster(cluster_list):\n",
    "    rest = 0\n",
    "    plastic = 0\n",
    "    papier = 0\n",
    "    glas = 0\n",
    "    textiel = 0\n",
    "    try:\n",
    "        for i in cluster_list:\n",
    "            if i.startswith(\"Rest:\"):\n",
    "                rest = int((i.split(':')[1]))\n",
    "            if i.startswith(\"Plastic:\"):\n",
    "                plastic = int((i.split(':')[1]))\n",
    "            if i.startswith(\"Papier:\"):\n",
    "                papier = int((i.split(':')[1]))\n",
    "            if i.startswith(\"Glas:\"):\n",
    "                glas = int((i.split(':')[1]))\n",
    "            if i.startswith(\"Textiel:\"):\n",
    "                textiel = int(i.split(':')[1])\n",
    "    except:\n",
    "        pass\n",
    "    return rest, plastic, papier, glas, textiel, sum([rest, plastic, papier, glas, textiel])\n",
    "        "
   ]
  },
  {
   "cell_type": "code",
   "execution_count": null,
   "metadata": {},
   "outputs": [],
   "source": [
    "api_data = load_api_data()"
   ]
  },
  {
   "cell_type": "code",
   "execution_count": null,
   "metadata": {},
   "outputs": [],
   "source": [
    "api_data['rest'], api_data['plastic'], api_data['papier'], api_data['glas'], api_data['textiel'], api_data['totaal'] = zip(*api_data['aantal_per_fractie'].apply(lambda x: containers_per_cluster(x)))"
   ]
  },
  {
   "cell_type": "code",
   "execution_count": null,
   "metadata": {},
   "outputs": [],
   "source": [
    "list(api_data[api_data['totaal'] > 10]['links'])"
   ]
  },
  {
   "cell_type": "code",
   "execution_count": null,
   "metadata": {},
   "outputs": [],
   "source": []
  }
 ],
 "metadata": {
  "kernelspec": {
   "display_name": "Python 3",
   "language": "python",
   "name": "python3"
  },
  "language_info": {
   "codemirror_mode": {
    "name": "ipython",
    "version": 3
   },
   "file_extension": ".py",
   "mimetype": "text/x-python",
   "name": "python",
   "nbconvert_exporter": "python",
   "pygments_lexer": "ipython3",
   "version": "3.8.2"
  }
 },
 "nbformat": 4,
 "nbformat_minor": 4
}
