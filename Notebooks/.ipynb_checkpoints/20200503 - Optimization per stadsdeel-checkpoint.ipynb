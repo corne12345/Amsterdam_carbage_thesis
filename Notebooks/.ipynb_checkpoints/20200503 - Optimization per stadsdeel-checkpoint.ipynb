{
 "cells": [
  {
   "cell_type": "markdown",
   "metadata": {},
   "source": [
    "## Optimization per Stadsdeel\n",
    "The aim of this Notebook is to explore the possibiliy to optimize certain subsets of the problem and to reassamble these results to see whether or not this actually helps in obtaining a valid, improved solution. "
   ]
  },
  {
   "cell_type": "markdown",
   "metadata": {},
   "source": [
    "### Current situation\n",
    "The process starts with the normal loading of the data, followed by a calculation of the average distance and penalties as a way to set a baseline. "
   ]
  },
  {
   "cell_type": "code",
   "execution_count": 12,
   "metadata": {},
   "outputs": [],
   "source": [
    "import requests\n",
    "import pandas as pd\n",
    "import geopandas as gpd\n",
    "\n",
    "import sys\n",
    "\n",
    "sys.path.append(\"../\")\n",
    "\n",
    "from Code.helper_functions import initial_loading, analyze_candidate_solution\n",
    "from Code.algorithms import random_start_hillclimber\n",
    "from Code.loading_data import create_all_households"
   ]
  },
  {
   "cell_type": "code",
   "execution_count": 2,
   "metadata": {},
   "outputs": [
    {
     "name": "stdout",
     "output_type": "stream",
     "text": [
      "Do you want to use addresses instead of clusters?True\n",
      "What stadsdeel do you want to make as a subsection (optional parameter)?\n",
      "API data loaded\n",
      "DB relation POIs loaded\n",
      "Table all households created\n",
      "API and DB joined\n",
      "containers per cluster determined\n"
     ]
    },
    {
     "name": "stderr",
     "output_type": "stream",
     "text": [
      "..\\Code\\loading_data.py:239: SettingWithCopyWarning: \n",
      "A value is trying to be set on a copy of a slice from a DataFrame.\n",
      "Try using .loc[row_indexer,col_indexer] = value instead\n",
      "\n",
      "See the caveats in the documentation: https://pandas.pydata.org/pandas-docs/stable/user_guide/indexing.html#returning-a-view-versus-a-copy\n",
      "  verblijfsobjecten['bag'] = verblijfsobjecten['split'].apply(lambda x: x[3]).astype('int64')\n"
     ]
    },
    {
     "name": "stdout",
     "output_type": "stream",
     "text": [
      "distance matrix loaded\n"
     ]
    }
   ],
   "source": [
    "all_households, rel_poi_df, joined, df_afstandn2 = initial_loading()"
   ]
  },
  {
   "cell_type": "code",
   "execution_count": 5,
   "metadata": {},
   "outputs": [
    {
     "name": "stdout",
     "output_type": "stream",
     "text": [
      "Average distance is : 175.2455230515281\n",
      "Penalties are: 295.1202834747615\n"
     ]
    }
   ],
   "source": [
    "joined_cluster_distance, good_result_rich, aansluitingen, avg_distance, penalties = analyze_candidate_solution(joined, all_households, rel_poi_df, df_afstandn2, clean=True, use_count=True)"
   ]
  },
  {
   "cell_type": "markdown",
   "metadata": {},
   "source": [
    "### Modification\n",
    "This step consists of remvoving all information regarding the configuration of the containers in a certain stadsdeel, optimizing a copy of this and resetting it back into the initial solution to see its impact. The first optimization is done in stadsdeel Zuidoost (T), as it contains the least amount of garbage clusters"
   ]
  },
  {
   "cell_type": "code",
   "execution_count": 10,
   "metadata": {},
   "outputs": [],
   "source": [
    "joined_T = joined[joined['stadsdeel'] == 'T']"
   ]
  },
  {
   "cell_type": "code",
   "execution_count": 16,
   "metadata": {},
   "outputs": [],
   "source": [
    "all_households_T  = create_all_households(rel_poi_df, subsectie='T')\n",
    "all_households_T = all_households_T.rename(columns={'s1_afv_nodes': 'naar_s1_afv_nodes'})"
   ]
  },
  {
   "cell_type": "code",
   "execution_count": 18,
   "metadata": {},
   "outputs": [
    {
     "name": "stdout",
     "output_type": "stream",
     "text": [
      "How many random iterations?10\n",
      "How many iterations hillclimber?40\n",
      "Do you want the results saved(True/False)?False\n",
      "Do you want to only use a subset of data?True\n",
      "Do you want to use addresses instead of clusters?True\n",
      "What parameter to optimize on (score/penalties)?penalties\n",
      "What method hillclimber(2-opt or Gaussian)?Gaussian\n",
      "Average distance is : 249.6004611676881\n",
      "Penalties are: 308.1859662117452\n",
      "Average distance is : 264.4533339690634\n",
      "Penalties are: 334.32452427084615\n",
      "Average distance is : 254.15523466700455\n",
      "Penalties are: 330.2826112482515\n",
      "Average distance is : 256.2517056565103\n",
      "Penalties are: 323.8848858018344\n",
      "Average distance is : 249.6624711037542\n",
      "Penalties are: 310.130744702821\n",
      "Average distance is : 254.76075284702094\n",
      "Penalties are: 334.2527869452557\n",
      "Average distance is : 262.4957823686156\n",
      "Penalties are: 331.65967533108494\n",
      "Average distance is : 254.54634775662223\n",
      "Penalties are: 326.0819908439982\n",
      "Average distance is : 258.6571971058715\n",
      "Penalties are: 320.3305503043764\n",
      "Average distance is : 259.92474802857754\n",
      "Penalties are: 338.96386906581824\n",
      "Average distance is : 252.06280355985496\n",
      "Penalties are: 335.2088551890091\n",
      "***************************************\n",
      "249.6004611676881 308.1859662117452 0\n",
      "Average distance is : 249.6004611676881\n",
      "Penalties are: 308.1859662117452\n",
      "Amount of clusters to change: 14\n",
      "419\n",
      "Average distance is : 253.10754373593545\n",
      "Penalties are: 309.2015355252274\n",
      "309.2015355252274 308.1859662117452\n",
      "Amount of clusters to change: 12\n",
      "419\n",
      "Average distance is : 249.22014441826965\n",
      "Penalties are: 305.75752247725393\n",
      "305.75752247725393 308.1859662117452\n",
      "Amount of clusters to change: 17\n",
      "419\n",
      "Average distance is : 250.89363232268653\n",
      "Penalties are: 306.2579944375517\n",
      "306.2579944375517 305.75752247725393\n",
      "Amount of clusters to change: 13\n",
      "419\n",
      "Average distance is : 248.56884718721213\n",
      "Penalties are: 307.37420014474776\n",
      "307.37420014474776 305.75752247725393\n",
      "Amount of clusters to change: 12\n",
      "419\n",
      "Average distance is : 249.22041958223173\n",
      "Penalties are: 304.62089838709676\n",
      "304.62089838709676 305.75752247725393\n",
      "Amount of clusters to change: 13\n",
      "419\n",
      "Average distance is : 249.51366848807848\n",
      "Penalties are: 308.41356326758466\n",
      "308.41356326758466 304.62089838709676\n",
      "Amount of clusters to change: 16\n",
      "419\n",
      "Average distance is : 249.48434080081623\n",
      "Penalties are: 304.35263316790736\n",
      "304.35263316790736 304.62089838709676\n",
      "Amount of clusters to change: 12\n",
      "419\n",
      "Average distance is : 250.97712620005277\n",
      "Penalties are: 305.11247468982634\n",
      "305.11247468982634 304.35263316790736\n",
      "Amount of clusters to change: 8\n",
      "419\n",
      "Average distance is : 249.6421887199791\n",
      "Penalties are: 304.7096511993383\n",
      "304.7096511993383 304.35263316790736\n",
      "Amount of clusters to change: 9\n",
      "419\n",
      "Average distance is : 251.1584041048894\n",
      "Penalties are: 304.845462325793\n",
      "304.845462325793 304.35263316790736\n",
      "Amount of clusters to change: 14\n",
      "419\n",
      "Average distance is : 251.58930572681268\n",
      "Penalties are: 302.7790762820513\n",
      "302.7790762820513 304.35263316790736\n",
      "Amount of clusters to change: 7\n",
      "419\n",
      "Average distance is : 252.11604248950604\n",
      "Penalties are: 306.4833951199338\n",
      "306.4833951199338 302.7790762820513\n",
      "Amount of clusters to change: 16\n",
      "419\n",
      "Average distance is : 254.82105775354037\n",
      "Penalties are: 301.592037923904\n",
      "301.592037923904 302.7790762820513\n",
      "Amount of clusters to change: 14\n",
      "419\n",
      "Average distance is : 255.82824688411964\n",
      "Penalties are: 305.61797434254055\n",
      "305.61797434254055 301.592037923904\n",
      "Amount of clusters to change: 10\n",
      "419\n",
      "Average distance is : 256.036681829295\n",
      "Penalties are: 302.8126443548387\n",
      "302.8126443548387 301.592037923904\n",
      "Amount of clusters to change: 15\n",
      "419\n",
      "Average distance is : 254.66435367120548\n",
      "Penalties are: 299.75886030932094\n",
      "299.75886030932094 301.592037923904\n",
      "Amount of clusters to change: 3\n",
      "419\n",
      "Average distance is : 254.69205677274982\n",
      "Penalties are: 295.8738927227621\n",
      "295.8738927227621 299.75886030932094\n",
      "Amount of clusters to change: 14\n",
      "419\n",
      "Average distance is : 255.32503310575044\n",
      "Penalties are: 302.36779944180273\n",
      "302.36779944180273 295.8738927227621\n",
      "Amount of clusters to change: 12\n",
      "419\n",
      "Average distance is : 255.56790931654905\n",
      "Penalties are: 297.585528984908\n",
      "297.585528984908 295.8738927227621\n",
      "Amount of clusters to change: 11\n",
      "419\n",
      "Average distance is : 249.70834500308573\n",
      "Penalties are: 294.63195859003514\n",
      "294.63195859003514 295.8738927227621\n",
      "Amount of clusters to change: 10\n",
      "419\n",
      "Average distance is : 251.0617691701949\n",
      "Penalties are: 294.32788525945836\n",
      "294.32788525945836 294.63195859003514\n",
      "Amount of clusters to change: 16\n",
      "419\n",
      "Average distance is : 251.5868507051776\n",
      "Penalties are: 291.1979571711913\n",
      "291.1979571711913 294.32788525945836\n",
      "Amount of clusters to change: 11\n",
      "419\n",
      "Average distance is : 251.95560704543058\n",
      "Penalties are: 291.28855472914347\n",
      "291.28855472914347 291.1979571711913\n",
      "Amount of clusters to change: 13\n",
      "419\n",
      "Average distance is : 250.5021419560569\n",
      "Penalties are: 293.06583922151975\n",
      "293.06583922151975 291.1979571711913\n",
      "Amount of clusters to change: 11\n",
      "419\n",
      "Average distance is : 251.9037762899619\n",
      "Penalties are: 294.1182578405851\n",
      "294.1182578405851 291.1979571711913\n",
      "Amount of clusters to change: 16\n",
      "419\n",
      "Average distance is : 251.84805668908984\n",
      "Penalties are: 295.3557567869097\n",
      "295.3557567869097 291.1979571711913\n",
      "Amount of clusters to change: 9\n",
      "419\n",
      "Average distance is : 252.34976956462896\n",
      "Penalties are: 292.81200595016736\n",
      "292.81200595016736 291.1979571711913\n",
      "Amount of clusters to change: 15\n",
      "419\n",
      "Average distance is : 252.38116245118908\n",
      "Penalties are: 289.62992944506425\n",
      "289.62992944506425 291.1979571711913\n",
      "Amount of clusters to change: 10\n",
      "419\n",
      "Average distance is : 252.34746456223854\n",
      "Penalties are: 289.2185741291682\n",
      "289.2185741291682 289.62992944506425\n",
      "Amount of clusters to change: 15\n",
      "419\n",
      "Average distance is : 253.59704854542207\n",
      "Penalties are: 289.6528373001115\n",
      "289.6528373001115 289.2185741291682\n",
      "Amount of clusters to change: 9\n",
      "419\n",
      "Average distance is : 254.1101984336104\n",
      "Penalties are: 291.79396823437435\n",
      "291.79396823437435 289.2185741291682\n",
      "Amount of clusters to change: 18\n",
      "419\n",
      "Average distance is : 253.1091005030799\n",
      "Penalties are: 293.3445894554169\n",
      "293.3445894554169 289.2185741291682\n",
      "Amount of clusters to change: 9\n",
      "419\n",
      "Average distance is : 252.92905538490817\n",
      "Penalties are: 288.90963867195563\n",
      "288.90963867195563 289.2185741291682\n",
      "Amount of clusters to change: 12\n",
      "419\n",
      "Average distance is : 252.86856249925117\n",
      "Penalties are: 288.1221105808957\n",
      "288.1221105808957 288.90963867195563\n",
      "Amount of clusters to change: 11\n",
      "419\n",
      "Average distance is : 255.20251876936786\n",
      "Penalties are: 293.3313421128739\n",
      "293.3313421128739 288.1221105808957\n",
      "Amount of clusters to change: 11\n",
      "419\n",
      "Average distance is : 252.69380193977742\n",
      "Penalties are: 289.83009378615105\n",
      "289.83009378615105 288.1221105808957\n",
      "Amount of clusters to change: 16\n",
      "419\n",
      "Average distance is : 253.16060908121642\n",
      "Penalties are: 286.0728891712114\n",
      "286.0728891712114 288.1221105808957\n",
      "Amount of clusters to change: 10\n",
      "419\n",
      "Average distance is : 253.04058295214844\n",
      "Penalties are: 285.28906980251196\n",
      "285.28906980251196 286.0728891712114\n",
      "Amount of clusters to change: 13\n",
      "419\n",
      "Average distance is : 257.71676632735756\n",
      "Penalties are: 286.82497099652943\n",
      "286.82497099652943 285.28906980251196\n",
      "Amount of clusters to change: 8\n",
      "419\n",
      "Average distance is : 253.0956046053641\n",
      "Penalties are: 284.6861129358783\n",
      "284.6861129358783 285.28906980251196\n"
     ]
    },
    {
     "data": {
      "image/png": "[encoded data removed]",
      "text/plain": [
       "<Figure size 432x288 with 1 Axes>"
      ]
     },
     "metadata": {
      "needs_background": "light"
     },
     "output_type": "display_data"
    }
   ],
   "source": [
    "hillclimber_df_T, best_solution_T = random_start_hillclimber(joined_T, all_households_T, rel_poi_df, df_afstandn2)"
   ]
  },
  {
   "cell_type": "code",
   "execution_count": 28,
   "metadata": {},
   "outputs": [
    {
     "name": "stdout",
     "output_type": "stream",
     "text": [
      "Average distance is : 175.3424005968981\n",
      "Penalties are: 293.5577310857501\n"
     ]
    }
   ],
   "source": [
    "# Join improved solution back with the rest and calculate score\n",
    "joined_new = joined[joined['stadsdeel'] != 'T']\n",
    "joined_new = joined_new.append(best_solution, ignore_index=True)\n",
    "joined_cluster_distance, good_result_rich, aansluitingen, avg_distance, penalties = analyze_candidate_solution(joined_new, all_households, rel_poi_df, df_afstandn2, clean=True, use_count=True)"
   ]
  },
  {
   "cell_type": "markdown",
   "metadata": {},
   "source": [
    "### Conclusion\n",
    "This system of isolating certain stadsdelen appears to be working just fine and can be applied further to be used for multiple (clusters of) stadsdelen. The obvious places for optimization include Zuidoost (T), Noord (N), Nieuw-West(F) and the remaining cluster of Oost (M), Zuidoost(T), West(E) and Centrum(A). This is applied next"
   ]
  },
  {
   "cell_type": "markdown",
   "metadata": {},
   "source": [
    "### Optimization of Zuid-Oost (T)"
   ]
  },
  {
   "cell_type": "code",
   "execution_count": 29,
   "metadata": {},
   "outputs": [],
   "source": [
    "joined_T = joined[joined['stadsdeel'] == 'T']\n",
    "all_households_T  = create_all_households(rel_poi_df, subsectie='T')\n",
    "all_households_T = all_households_T.rename(columns={'s1_afv_nodes': 'naar_s1_afv_nodes'})"
   ]
  },
  {
   "cell_type": "code",
   "execution_count": null,
   "metadata": {},
   "outputs": [],
   "source": [
    "hillclimber_df_T, best_solution_T = random_start_hillclimber(joined_T, all_households_T, rel_poi_df, df_afstandn2)"
   ]
  },
  {
   "cell_type": "code",
   "execution_count": null,
   "metadata": {},
   "outputs": [],
   "source": [
    "# Join improved solution back with the rest and calculate score\n",
    "joined = joined[joined['stadsdeel'] != 'T']\n",
    "joined = joined.append(best_solution_T, ignore_index=True)\n",
    "joined_cluster_distance, good_result_rich, aansluitingen, avg_distance, penalties = analyze_candidate_solution(joined_new, all_households, rel_poi_df, df_afstandn2, clean=True, use_count=True)"
   ]
  },
  {
   "cell_type": "markdown",
   "metadata": {},
   "source": [
    "### Optimization of Noord (N)"
   ]
  },
  {
   "cell_type": "code",
   "execution_count": null,
   "metadata": {},
   "outputs": [],
   "source": [
    "joined_N = joined[joined['stadsdeel'] == 'N']\n",
    "all_households_N  = create_all_households(rel_poi_df, subsectie='N')\n",
    "all_households_N = all_households_N.rename(columns={'s1_afv_nodes': 'naar_s1_afv_nodes'})"
   ]
  },
  {
   "cell_type": "code",
   "execution_count": null,
   "metadata": {},
   "outputs": [],
   "source": [
    "hillclimber_df_N, best_solution_N = random_start_hillclimber(joined_N, all_households_N, rel_poi_df, df_afstandn2)"
   ]
  },
  {
   "cell_type": "code",
   "execution_count": null,
   "metadata": {},
   "outputs": [],
   "source": [
    "# Join improved solution back with the rest and calculate score\n",
    "joined = joined[joined['stadsdeel'] != 'N']\n",
    "joined = joined.append(best_solution_N, ignore_index=True)\n",
    "joined_cluster_distance, good_result_rich, aansluitingen, avg_distance, penalties = analyze_candidate_solution(joined_new, all_households, rel_poi_df, df_afstandn2, clean=True, use_count=True)"
   ]
  },
  {
   "cell_type": "markdown",
   "metadata": {},
   "source": [
    "### Optimization of Nieuw-West (F)"
   ]
  },
  {
   "cell_type": "code",
   "execution_count": null,
   "metadata": {},
   "outputs": [],
   "source": [
    "joined_F = joined[joined['stadsdeel'] == 'F']\n",
    "all_households_F  = create_all_households(rel_poi_df, subsectie='F')\n",
    "all_households_F = all_households_F.rename(columns={'s1_afv_nodes': 'naar_s1_afv_nodes'})"
   ]
  },
  {
   "cell_type": "code",
   "execution_count": null,
   "metadata": {},
   "outputs": [],
   "source": [
    "hillclimber_df_N, best_solution_N = random_start_hillclimber(joined_F, all_households_F, rel_poi_df, df_afstandn2)"
   ]
  },
  {
   "cell_type": "code",
   "execution_count": null,
   "metadata": {},
   "outputs": [],
   "source": [
    "# Join improved solution back with the rest and calculate score\n",
    "joined = joined[joined['stadsdeel'] != 'F']\n",
    "joined = joined.append(best_solution_F, ignore_index=True)\n",
    "joined_cluster_distance, good_result_rich, aansluitingen, avg_distance, penalties = analyze_candidate_solution(joined_new, all_households, rel_poi_df, df_afstandn2, clean=True, use_count=True)"
   ]
  },
  {
   "cell_type": "markdown",
   "metadata": {},
   "source": [
    "### Optimization of \"Centrum\""
   ]
  },
  {
   "cell_type": "code",
   "execution_count": 34,
   "metadata": {},
   "outputs": [],
   "source": [
    "joined_C = joined[joined['stadsdeel'].isin(['M', 'A', 'K', 'E', 'F'])]"
   ]
  },
  {
   "cell_type": "code",
   "execution_count": null,
   "metadata": {},
   "outputs": [],
   "source": []
  }
 ],
 "metadata": {
  "kernelspec": {
   "display_name": "Python 3",
   "language": "python",
   "name": "python3"
  },
  "language_info": {
   "codemirror_mode": {
    "name": "ipython",
    "version": 3
   },
   "file_extension": ".py",
   "mimetype": "text/x-python",
   "name": "python",
   "nbconvert_exporter": "python",
   "pygments_lexer": "ipython3",
   "version": "3.8.2"
  }
 },
 "nbformat": 4,
 "nbformat_minor": 4
}
