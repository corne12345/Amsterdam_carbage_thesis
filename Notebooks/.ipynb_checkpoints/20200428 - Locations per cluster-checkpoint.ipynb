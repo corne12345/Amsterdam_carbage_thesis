{
 "cells": [
  {
   "cell_type": "code",
   "execution_count": 25,
   "metadata": {},
   "outputs": [],
   "source": [
    "import requests\n",
    "import pandas as pd\n",
    "import geopandas as gpd"
   ]
  },
  {
   "cell_type": "markdown",
   "metadata": {},
   "source": [
    "### Locations per cluster\n",
    "The first step is to slightly modify the loading of the clusters"
   ]
  },
  {
   "cell_type": "code",
   "execution_count": 8,
   "metadata": {},
   "outputs": [],
   "source": [
    "def load_api_data(prnt=False):\n",
    "    \"\"\"\n",
    "    This function loads in information on the current composition of container\n",
    "    clusters in Amsterdam. It uses the API from data.amsterdam.nl (available at\n",
    "    'https://api.data.amsterdam.nl/vsd/afvalclusters'). It returns the coordinates,\n",
    "    amount and volume of different fractions and the address of the clusters. As\n",
    "    a check, it is determined whether or not the cluster is currently active.\n",
    "    Returns:\n",
    "    - df containing coordinates, dict-like amount and volume per fraction and\n",
    "    address.\n",
    "    \"\"\"\n",
    "    x_coordinates = []\n",
    "    y_coordinates = []\n",
    "    aantal = []\n",
    "    volumes = []\n",
    "    adresses = []\n",
    "    buurt = []\n",
    "\n",
    "    link = 'https://api.data.amsterdam.nl/vsd/afvalclusters'\n",
    "\n",
    "    while link != None: #This is the case on the last page of the API\n",
    "        if prnt: # Can be used for some kind of monitoring of progres\n",
    "            print(link)\n",
    "        response = requests.get(link)\n",
    "        output = response.json()\n",
    "        for result in output['results']:\n",
    "            if result['cluster_datum_einde_cluster'] == None: #Als het cluster nog actief is\n",
    "                x_coordinates.append(str(result['cluster_geometrie']['coordinates'][0]))\n",
    "                y_coordinates.append(str(result['cluster_geometrie']['coordinates'][1]))\n",
    "                aantal.append(result['cluster_fractie_aantal'])\n",
    "                volumes.append(result['cluster_fractie_volume'])\n",
    "                adresses.append(result['bag_adres_openbare_ruimte_naam'])\n",
    "                buurt.append(result['gbd_buurt_code'])\n",
    "        try:\n",
    "            link = output['_links']['next']['href'] #Retrieve link for next page\n",
    "        except:\n",
    "            link = None #True for last page of API\n",
    "\n",
    "    df_clusters = pd.DataFrame([x_coordinates, y_coordinates, aantal, volumes, adresses, buurt]).T\n",
    "    df_clusters = df_clusters.rename(columns={0: 'cluster_x', 1:'cluster_y', 2:'aantal_per_fractie', 3:'volume_per_fractie', 4: 'street_name', 5:'buurt'})\n",
    "    # Transform coordinates of clusters to ints, as this helps easing join\n",
    "    df_clusters['cluster_x'] = df_clusters['cluster_x'].astype('float').round(0).astype('int')\n",
    "    df_clusters['cluster_y'] = df_clusters['cluster_y'].astype('float').round(0).astype('int')\n",
    "    df_clusters['wijk'] = df_clusters['buurt'].str[:3]\n",
    "    df_clusters['stadsdeel'] = df_clusters['buurt'].str[0]\n",
    "    return df_clusters"
   ]
  },
  {
   "cell_type": "code",
   "execution_count": 9,
   "metadata": {},
   "outputs": [],
   "source": [
    "df_clusters = load_api_data_neigborhood()"
   ]
  },
  {
   "cell_type": "code",
   "execution_count": 21,
   "metadata": {},
   "outputs": [
    {
     "data": {
      "text/plain": [
       "F    1183\n",
       "M    1110\n",
       "E    1094\n",
       "K    1007\n",
       "N     732\n",
       "T     423\n",
       "A     143\n",
       "B       3\n",
       "Name: stadsdeel, dtype: int64"
      ]
     },
     "execution_count": 21,
     "metadata": {},
     "output_type": "execute_result"
    }
   ],
   "source": [
    "df_clusters['stadsdeel'].value_counts()"
   ]
  },
  {
   "cell_type": "code",
   "execution_count": 27,
   "metadata": {},
   "outputs": [],
   "source": [
    "def load_geodata_containers(subsectie=None):\n",
    "    \"\"\"\n",
    "    This function loads in all polygons representing areas in the city of Amsterdam\n",
    "    where general waste needs to be brought to a container. This is different\n",
    "    from the alternative where general waste is collected from the sidewalk. This\n",
    "    is needed to filter the address POI's to relevant POI's for optimization.\n",
    "    Subsectie is optional parameter to filter on specific stadsdelen. This can be used\n",
    "    for partial optimization.\n",
    "\n",
    "    Returns:\n",
    "    - List of polygons making up the area of centralized garbage collection\n",
    "    \"\"\"\n",
    "\n",
    "    source = gpd.read_file('../data/Inzameling_huisvuil_100220.shp')\n",
    "    source = source[source['aanbiedwij'] == 'Breng uw restafval  naar een container voor restafval.']\n",
    "    if subsectie:\n",
    "        source = source[source['sdcode'] == subsectie]\n",
    "    return list(source.geometry)"
   ]
  },
  {
   "cell_type": "code",
   "execution_count": 28,
   "metadata": {},
   "outputs": [
    {
     "data": {
      "text/plain": [
       "[<shapely.geometry.polygon.Polygon at 0x150cd749670>,\n",
       " <shapely.geometry.polygon.Polygon at 0x150cd8c1220>,\n",
       " <shapely.geometry.polygon.Polygon at 0x150cd8c1520>,\n",
       " <shapely.geometry.polygon.Polygon at 0x150cd8c18e0>,\n",
       " <shapely.geometry.polygon.Polygon at 0x150cd8c1730>]"
      ]
     },
     "execution_count": 28,
     "metadata": {},
     "output_type": "execute_result"
    }
   ],
   "source": [
    "load_geodata_containers(subsectie = 'T')"
   ]
  },
  {
   "cell_type": "code",
   "execution_count": null,
   "metadata": {},
   "outputs": [],
   "source": []
  }
 ],
 "metadata": {
  "kernelspec": {
   "display_name": "Python 3",
   "language": "python",
   "name": "python3"
  },
  "language_info": {
   "codemirror_mode": {
    "name": "ipython",
    "version": 3
   },
   "file_extension": ".py",
   "mimetype": "text/x-python",
   "name": "python",
   "nbconvert_exporter": "python",
   "pygments_lexer": "ipython3",
   "version": "3.8.2"
  }
 },
 "nbformat": 4,
 "nbformat_minor": 4
}
