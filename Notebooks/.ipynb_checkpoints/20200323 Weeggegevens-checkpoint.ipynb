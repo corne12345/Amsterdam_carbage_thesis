{
 "cells": [
  {
   "cell_type": "code",
   "execution_count": null,
   "metadata": {},
   "outputs": [],
   "source": [
    "import requests\n",
    "import json\n",
    "import pandas as pd\n",
    "import numpy as np\n",
    "import seaborn as sns"
   ]
  },
  {
   "cell_type": "code",
   "execution_count": null,
   "metadata": {},
   "outputs": [],
   "source": [
    "def filling_per_cubic_meter(weight, list_space, fraction, aantal):\n",
    "    \"\"\"\n",
    "    Function to use in pd.apply(). \n",
    "    Used to transform the weight of a session to a filling level of that container\n",
    "    \n",
    "    Inputs:\n",
    "    'weight': the weight of garbage in the container\n",
    "    'list_space': a dict-like object containing all volumes in that cluster. example: {'Rest': 14.97m3, 'Glas': 5m3}\n",
    "    'fraction': a string containing the fraction of garbage currently being emptied/weighted\n",
    "    'aantal': dict-like object showing the amount of containers per cluster, example: {'Rest': 3, 'Glas': 1}\n",
    "    \n",
    "    Returns:\n",
    "    float value of the weight of the nett container divided by its volume and multiplied by the amount of containers\n",
    "    \"\"\"\n",
    "    \n",
    "    # Initialization\n",
    "    volume = 9999\n",
    "    aantal_containers = 999\n",
    "    \n",
    "    # All try-except statements to deal with NaN\n",
    "    try:\n",
    "        list_space = list_space.split(',')\n",
    "        aantal = aantal.split(',')\n",
    "    except:\n",
    "        volume = 9999\n",
    "        aantal_containers = 999\n",
    "    \n",
    "    \n",
    "    try:\n",
    "        for i in list_space:\n",
    "#             i = ''.join(e for e in i if e.isalnum())\n",
    "            if fraction in i:\n",
    "                volume = i.split(':')[1]\n",
    "                volume = volume.split(' ')[0]\n",
    "    except:\n",
    "        volume = 9999\n",
    "         \n",
    "            \n",
    "    try:\n",
    "        for j in aantal:\n",
    "            if fraction in j:\n",
    "                aantal_containers = int(j.split(':')[1].rstrip('}'))\n",
    "    except:\n",
    "        aantal_containers = 999\n",
    "        \n",
    "    if volume == 9999 or aantal_containers == 999:\n",
    "        print (weight, list_space, fraction, aantal)\n",
    "        return np.nan\n",
    "    return float(weight)/float(volume) * aantal_containers\n",
    "    "
   ]
  },
  {
   "cell_type": "code",
   "execution_count": null,
   "metadata": {},
   "outputs": [],
   "source": [
    "link = 'https://api.data.amsterdam.nl/vsd/afvalwegingen/'\n",
    "counter = 0\n",
    "dct = dict()\n",
    "\n",
    "\n",
    "while link != None and counter < 1000:\n",
    "    counter += 1\n",
    "    print(counter)\n",
    "    response = requests.get(link).json()\n",
    "\n",
    "    for result in response['results']:\n",
    "    #     print(result)\n",
    "        try:\n",
    "            dct[result['weging_id']] = [result['weging_datum_weging'], result['weging_fractie_omschrijving'], \\\n",
    "                                        result['weging_netto_gewicht'], result['weging_geometrie']['coordinates'][0], \\\n",
    "                                        result['weging_geometrie']['coordinates'][1], result['cluster_id'], \\\n",
    "                                        result['cluster_fractie_aantal'], result['cluster_fractie_volume']]\n",
    "        except:\n",
    "            print('error')\n",
    "            pass\n",
    "        \n",
    "    try:\n",
    "        link = response['_links']['next']['href']\n",
    "    except:\n",
    "        link = None\n",
    "    \n",
    "\n",
    "df = pd.DataFrame.from_dict(dct, orient='index')\n",
    "df = df.rename(columns={0: 'date', 1: 'fraction', 2: 'weight', 3: 'lon', 4: 'lat', 5: 'cluster_id', 6: 'aantal containers', 7: 'aantal m3'})"
   ]
  },
  {
   "cell_type": "code",
   "execution_count": null,
   "metadata": {},
   "outputs": [],
   "source": [
    "df.sort_values(by='date')"
   ]
  },
  {
   "cell_type": "code",
   "execution_count": null,
   "metadata": {},
   "outputs": [],
   "source": [
    "df['filling'] = df.apply(lambda x : filling_per_cubic_meter(x['weight'], x['aantal m3'], x['fraction']),axis=1)"
   ]
  },
  {
   "cell_type": "code",
   "execution_count": null,
   "metadata": {},
   "outputs": [],
   "source": [
    "df = df.dropna()\n",
    "df = df[df['filling'] >= 0]\n",
    "df = df.sort_values(by='filling', ascending=False)"
   ]
  },
  {
   "cell_type": "code",
   "execution_count": null,
   "metadata": {},
   "outputs": [],
   "source": [
    "rest = df[df['fraction'] == 'Rest'] # Hoogste vulgraag is 870 kg/m3. Grens op 600 kg/m3?\n",
    "glas = df[df['fraction'] == 'Glas'] # Grens op 550 kg/m3?\n",
    "papier = df[df['fraction'] == 'Papier'] # Grens op 400 kg/m3?\n",
    "plastic = df[df['fraction'] == 'Plastic'] # Grens op 100kg/m3?\n",
    "# textiel = df[df['fraction'] == 'Textiel'] # Wordt niet gewogen\n",
    "sns.distplot(plastic['filling'])"
   ]
  },
  {
   "cell_type": "markdown",
   "metadata": {},
   "source": [
    "### Op basis van .csv bestand"
   ]
  },
  {
   "cell_type": "code",
   "execution_count": null,
   "metadata": {},
   "outputs": [],
   "source": [
    "df_new = pd.read_csv('../Data/afval_weging.csv', delimiter = ';')\n",
    "df_new = df_new"
   ]
  },
  {
   "cell_type": "code",
   "execution_count": null,
   "metadata": {},
   "outputs": [],
   "source": [
    "df_new['filling'] = df_new.apply(lambda x : filling_per_cubic_meter(x['weging_netto_gewicht'], x['cluster_fractie_volume'], \\\n",
    "                                                                    x['weging_fractie_omschrijving'], x['cluster_fractie_aantal']),axis=1)"
   ]
  },
  {
   "cell_type": "code",
   "execution_count": null,
   "metadata": {
    "scrolled": true
   },
   "outputs": [],
   "source": [
    "# df_new = df_new[df_new['filling'] >= 0]\n",
    "print(df_new.shape)\n",
    "df_new = df_new[df_new['filling']>= 0]\n",
    "print(df_new.shape)\n",
    "rest = df_new[df_new['weging_fractie_omschrijving'] == 'Rest'] # Hoogste vulgraag is 870 kg/m3. Grens op 600 kg/m3?\n",
    "rest2 = rest[rest['filling'] < 700]\n",
    "glas = df_new[df_new['weging_fractie_omschrijving'] == 'Glas'] # Grens op 550 kg/m3?\n",
    "glas2 = glas[glas['filling'] < 700]\n",
    "papier = df_new[df_new['weging_fractie_omschrijving'] == 'Papier'] # Grens op 400 kg/m3?\n",
    "papier2 = papier[papier['filling'] < 500]\n",
    "plastic = df_new[df_new['weging_fractie_omschrijving'] == 'Plastic'] # Grens op 100kg/m3?\n",
    "plastic2 = plastic[plastic['filling'] < 400] # Er is namelijk 1 duidelijke outlier\n",
    "# textiel = df[df['fraction'] == 'Textiel'] # Wordt niet gewogen\n",
    "sns.distplot(rest2['filling']).set(title='distribution of filling of general waste containers', xlabel='kg/m3')"
   ]
  },
  {
   "cell_type": "code",
   "execution_count": null,
   "metadata": {},
   "outputs": [],
   "source": [
    "anniek = df_new[(df_new['bag_adres_openbare_ruimte_naam'] == 'Postjesweg') & (df_new['bag_adres_nummeraanduiding_huisnummer'] == 185.0)]\n",
    "anniek2 = df_new[(df_new['bag_adres_openbare_ruimte_naam'] == 'Postjesweg')]\n",
    "anniek[anniek['weging_fractie_omschrijving'] == 'Rest'].plot(x='weging_datum_weging', y='filling', rot=90)\n",
    "anniek.sort_values(by='weging_datum_weging')\n",
    "anniek['weging_netto_gewicht']"
   ]
  },
  {
   "cell_type": "code",
   "execution_count": null,
   "metadata": {},
   "outputs": [],
   "source": [
    "# Average filling fraction per container on map\n",
    "# Average filling fraction per container on barplot\n",
    "# Distances betweeen same frac"
   ]
  },
  {
   "cell_type": "markdown",
   "metadata": {},
   "source": [
    "### Plotten van resultaten van weeggegevens"
   ]
  },
  {
   "cell_type": "code",
   "execution_count": null,
   "metadata": {},
   "outputs": [],
   "source": [
    "from bokeh.models import GeoJSONDataSource\n",
    "from bokeh.plotting import figure, output_file, show, save\n",
    "from bokeh.io import export_png\n",
    "from bokeh.transform import linear_cmap\n",
    "from bokeh.palettes import Spectral6\n",
    "from bokeh.models import ColumnDataSource, LinearColorMapper\n",
    "from bokeh.palettes import brewer\n",
    "\n",
    "from matplotlib import colors\n",
    "import matplotlib.pyplot as plt\n",
    "\n",
    "import pyproj # For converting WGS84 to lat long\n",
    "import geopandas as gpd #for drawing shapefiles\n",
    "import descartes"
   ]
  },
  {
   "cell_type": "code",
   "execution_count": null,
   "metadata": {},
   "outputs": [],
   "source": [
    "def to_bokeh_interactive(df):\n",
    "    street_map = gpd.read_file('../data/woonbc12_region.shp')\n",
    "    street_map3 = gpd.read_file('../data/Inzameling_huisvuil_100220.shp')\n",
    "\n",
    "    geosource = GeoJSONDataSource(geojson = street_map.to_json())\n",
    "    geosource3 = GeoJSONDataSource(geojson = street_map3.to_json())\n",
    "    \n",
    "    TOOLS=\"crosshair,pan,wheel_zoom,zoom_in,zoom_out,box_zoom,undo,redo,reset,tap,save,box_select,poly_select,lasso_select,\"\n",
    "    color_map = plt.get_cmap('RdBu')\n",
    "    lst=[]\n",
    "    for i in range(df.shape[0]):\n",
    "        try:\n",
    "            temp = colors.to_hex(color_map(df['filling_part'].iloc[i] **0.5))\n",
    "        except:\n",
    "            temp = '000000'\n",
    "        lst.append(temp)\n",
    "\n",
    "    df['color'] = lst\n",
    "    print(df.color.head())\n",
    "    \n",
    "    # Configuring hover over tooltip\n",
    "    TOOLTIPS = [\n",
    "    (\"index\", \"$index\"),\n",
    "    (\"(x,y)\", \"($x, $y)\"),\n",
    "    (\"radius\", \"@radius\"),\n",
    "    (\"fill color\", \"$color[hex, swatch]:fill_color\"),\n",
    "    (\"foo\", \"@fractie\"),\n",
    "    (\"Fractie\", \"$name\"),\n",
    "]\n",
    "    p = figure(tools=TOOLS,tooltips = TOOLTIPS, title=\"Garbage Filling levels in Amsterdam\")\n",
    "    p.circle(x = df['x'], y = df['y'], fill_color=df['color'], line_color=None, radius=25)\n",
    "    p.patches('xs', 'ys', source=geosource, fill_color='grey', alpha=0.2, line_color='green')\n",
    "    p.patches('xs', 'ys', source=geosource3, fill_color='grey', alpha=0.2, line_color='green')\n",
    "    output_file(\"full_containers.html\")\n",
    "    show(p)\n",
    "    return p"
   ]
  },
  {
   "cell_type": "code",
   "execution_count": null,
   "metadata": {
    "scrolled": true
   },
   "outputs": [],
   "source": [
    "papier['filling_part'] = papier['filling'] / 300\n",
    "plastic['filling_part'] = plastic['filling'] / 140\n",
    "glas['filling_part'] = glas['filling'] / 300\n",
    "rest['filling_part'] = rest['filling'] / 500\n",
    "total = papier.append([plastic, glas, rest])"
   ]
  },
  {
   "cell_type": "code",
   "execution_count": null,
   "metadata": {},
   "outputs": [],
   "source": [
    "total_pivot = total[['filling_part', 'cluster_id', 'weging_fractie_omschrijving']]\n",
    "total_pivot = total_pivot.groupby(['cluster_id', 'weging_fractie_omschrijving']).mean().reset_index()\n",
    "total_pivot['x'] = total_pivot['cluster_id'].apply(lambda x: x.split('|')[0]).astype('float')\n",
    "total_pivot['y'] = total_pivot['cluster_id'].apply(lambda x: x.split('|')[1]).astype('float')\n",
    "total_pivot = total_pivot.drop('cluster_id', axis=1)\n",
    "\n",
    "to_bokeh_interactive(total_pivot)"
   ]
  },
  {
   "cell_type": "code",
   "execution_count": null,
   "metadata": {},
   "outputs": [],
   "source": []
  },
  {
   "cell_type": "code",
   "execution_count": null,
   "metadata": {},
   "outputs": [],
   "source": []
  }
 ],
 "metadata": {
  "kernelspec": {
   "display_name": "Python 3",
   "language": "python",
   "name": "python3"
  },
  "language_info": {
   "codemirror_mode": {
    "name": "ipython",
    "version": 3
   },
   "file_extension": ".py",
   "mimetype": "text/x-python",
   "name": "python",
   "nbconvert_exporter": "python",
   "pygments_lexer": "ipython3",
   "version": "3.8.2"
  }
 },
 "nbformat": 4,
 "nbformat_minor": 4
}
