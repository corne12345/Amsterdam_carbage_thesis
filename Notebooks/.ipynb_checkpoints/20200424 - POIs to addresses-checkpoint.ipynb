{
 "cells": [
  {
   "cell_type": "code",
   "execution_count": null,
   "metadata": {},
   "outputs": [],
   "source": [
    "import geopandas as gpd\n",
    "import shapely\n",
    "from getpass import getpass\n",
    "\n",
    "import sys\n",
    "import copy\n",
    "sys.path.append(\"../Code\")\n",
    "\n",
    "from helper_functions import *\n",
    "from loading_data import *\n",
    "from algorithms import *"
   ]
  },
  {
   "cell_type": "code",
   "execution_count": null,
   "metadata": {},
   "outputs": [],
   "source": [
    "dfob= get_dataframe(\"\"\"\n",
    "                    SELECT bk_votpand_cluster, COUNT(*)\n",
    "                    FROM proj_afval_netwerk.rel_votpand_cluster_verblijfsobject\n",
    "                    GROUP BY bk_votpand_cluster\n",
    "                    \"\"\")"
   ]
  },
  {
   "cell_type": "code",
   "execution_count": null,
   "metadata": {},
   "outputs": [],
   "source": [
    "dfob['split'] = dfob['bk_votpand_cluster'].str.split('~')\n",
    "dfob['bag'] = dfob['split'].apply(lambda x: x[0]).astype('int64')\n",
    "dfob['x'] = dfob['split'].apply(lambda x: x[1]).astype('float').round().astype('int')\n",
    "dfob['y'] = dfob['split'].apply(lambda x: x[2]).astype('float').round().astype('int')\n",
    "dfob = dfob.drop(['split'], axis=1)"
   ]
  },
  {
   "cell_type": "code",
   "execution_count": null,
   "metadata": {},
   "outputs": [],
   "source": [
    "df_afstandn2 = get_dataframe(\"\"\"\n",
    "                                SELECT *\n",
    "                                FROM proj_afval_netwerk.afv_rel_nodes_poi\n",
    "                                \"\"\")"
   ]
  },
  {
   "cell_type": "code",
   "execution_count": null,
   "metadata": {},
   "outputs": [],
   "source": [
    "df_afstandn2['split'] = df_afstandn2['bk_afv_rel_nodes_poi'].str.split('~')\n",
    "df_afstandn2['x'] = df_afstandn2['split'].apply(lambda x: x[0]).astype('float').round().astype('int')\n",
    "df_afstandn2['y'] = df_afstandn2['split'].apply(lambda x: x[1]).astype('float').round().astype('int')\n",
    "df_afstandn2['type'] = df_afstandn2['split'].apply(lambda x: x[2])\n",
    "verblijfsobjecten = df_afstandn2[df_afstandn2['type'] != 'afval_cluster']\n",
    "verblijfsobjecten['bag'] = verblijfsobjecten['split'].apply(lambda x: x[3]).astype('int64')\n"
   ]
  },
  {
   "cell_type": "code",
   "execution_count": null,
   "metadata": {},
   "outputs": [],
   "source": [
    "temp = dfob.set_index(['bag', 'x', 'y']).join(verblijfsobjecten.set_index(['bag', 'x', 'y']), how='outer').reset_index()"
   ]
  },
  {
   "cell_type": "code",
   "execution_count": null,
   "metadata": {},
   "outputs": [],
   "source": [
    "df_afstandn = get_distance_matrix()"
   ]
  },
  {
   "cell_type": "code",
   "execution_count": null,
   "metadata": {},
   "outputs": [],
   "source": [
    "joined= temp.set_index('s1_afv_nodes').join(df_afstandn.set_index('naar_s1_afv_nodes'), how='outer')\n",
    "joined = joined.reset_index()[['van_s1_afv_nodes', 'index', 'afstand', 'count']].\\\n",
    "         rename(columns={'index':'naar_s1_afv_nodes'}).sort_values(by='afstand').\\\n",
    "         reset_index().drop(['index'],axis=1).dropna()"
   ]
  },
  {
   "cell_type": "code",
   "execution_count": null,
   "metadata": {},
   "outputs": [],
   "source": [
    "joined"
   ]
  },
  {
   "cell_type": "code",
   "execution_count": null,
   "metadata": {},
   "outputs": [],
   "source": [
    "def distance_matrix_with_counts():\n",
    "    \"\"\"\n",
    "    Function that tries to match table with addresses per poi with \n",
    "    information and subsequently with distance matrix to give back\n",
    "    a distance matrix with the amount of households per addres poi.\n",
    "    \"\"\"\n",
    "    \n",
    "    dfob= get_dataframe(\"\"\"\n",
    "                    SELECT bk_votpand_cluster, COUNT(*)\n",
    "                    FROM proj_afval_netwerk.rel_votpand_cluster_verblijfsobject\n",
    "                    GROUP BY bk_votpand_cluster\n",
    "                    \"\"\")\n",
    "    \n",
    "    dfob['split'] = dfob['bk_votpand_cluster'].str.split('~')\n",
    "    dfob['bag'] = dfob['split'].apply(lambda x: x[0]).astype('int64')\n",
    "    dfob['x'] = dfob['split'].apply(lambda x: x[1]).astype('float').round().astype('int')\n",
    "    dfob['y'] = dfob['split'].apply(lambda x: x[2]).astype('float').round().astype('int')\n",
    "    dfob = dfob.drop(['split'], axis=1)\n",
    "    \n",
    "    df_afstandn2 = get_dataframe(\"\"\"\n",
    "                                SELECT *\n",
    "                                FROM proj_afval_netwerk.afv_rel_nodes_poi\n",
    "                                \"\"\")\n",
    "    \n",
    "    df_afstandn2['split'] = df_afstandn2['bk_afv_rel_nodes_poi'].str.split('~')\n",
    "    df_afstandn2['x'] = df_afstandn2['split'].apply(lambda x: x[0]).astype('float').round().astype('int')\n",
    "    df_afstandn2['y'] = df_afstandn2['split'].apply(lambda x: x[1]).astype('float').round().astype('int')\n",
    "    df_afstandn2['type'] = df_afstandn2['split'].apply(lambda x: x[2])\n",
    "    verblijfsobjecten = df_afstandn2[df_afstandn2['type'] != 'afval_cluster']\n",
    "    verblijfsobjecten['bag'] = verblijfsobjecten['split'].apply(lambda x: x[3]).astype('int64')\n",
    "    \n",
    "    temp = dfob.set_index(['bag', 'x', 'y']).join(verblijfsobjecten.set_index(['bag', 'x', 'y']), how='outer').reset_index()\n",
    "    df_afstandn = get_distance_matrix()\n",
    "    joined= temp.set_index('s1_afv_nodes').join(df_afstandn.set_index('naar_s1_afv_nodes'), how='outer')\n",
    "    joined = joined.reset_index()[['van_s1_afv_nodes', 'index', 'afstand', 'count']].\\\n",
    "             rename(columns={'index':'naar_s1_afv_nodes'}).sort_values(by='afstand').\\\n",
    "             reset_index().drop(['index'],axis=1).dropna()\n",
    "    \n",
    "    return joined"
   ]
  },
  {
   "cell_type": "code",
   "execution_count": null,
   "metadata": {},
   "outputs": [],
   "source": [
    "joined = distance_matrix_with_counts()"
   ]
  },
  {
   "cell_type": "markdown",
   "metadata": {},
   "source": [
    "### Try out"
   ]
  },
  {
   "cell_type": "code",
   "execution_count": 2,
   "metadata": {},
   "outputs": [
    {
     "ename": "NameError",
     "evalue": "name 'initial_loading' is not defined",
     "output_type": "error",
     "traceback": [
      "\u001b[1;31m---------------------------------------------------------------------------\u001b[0m",
      "\u001b[1;31mNameError\u001b[0m                                 Traceback (most recent call last)",
      "\u001b[1;32m<ipython-input-2-71a1e19533be>\u001b[0m in \u001b[0;36m<module>\u001b[1;34m\u001b[0m\n\u001b[1;32m----> 1\u001b[1;33m \u001b[0mall_households\u001b[0m\u001b[1;33m,\u001b[0m \u001b[0mrel_poi_df\u001b[0m\u001b[1;33m,\u001b[0m \u001b[0mjoined\u001b[0m\u001b[1;33m,\u001b[0m \u001b[0mdf_afstandn2\u001b[0m \u001b[1;33m=\u001b[0m \u001b[0minitial_loading\u001b[0m\u001b[1;33m(\u001b[0m\u001b[0muse_count\u001b[0m\u001b[1;33m=\u001b[0m\u001b[1;32mTrue\u001b[0m\u001b[1;33m)\u001b[0m\u001b[1;33m\u001b[0m\u001b[1;33m\u001b[0m\u001b[0m\n\u001b[0m",
      "\u001b[1;31mNameError\u001b[0m: name 'initial_loading' is not defined"
     ]
    }
   ],
   "source": [
    "all_households, rel_poi_df, joined, df_afstandn2 = initial_loading(use_count=True)"
   ]
  },
  {
   "cell_type": "code",
   "execution_count": null,
   "metadata": {},
   "outputs": [],
   "source": []
  }
 ],
 "metadata": {
  "kernelspec": {
   "display_name": "Python 3",
   "language": "python",
   "name": "python3"
  },
  "language_info": {
   "codemirror_mode": {
    "name": "ipython",
    "version": 3
   },
   "file_extension": ".py",
   "mimetype": "text/x-python",
   "name": "python",
   "nbconvert_exporter": "python",
   "pygments_lexer": "ipython3",
   "version": "3.8.2"
  }
 },
 "nbformat": 4,
 "nbformat_minor": 4
}
