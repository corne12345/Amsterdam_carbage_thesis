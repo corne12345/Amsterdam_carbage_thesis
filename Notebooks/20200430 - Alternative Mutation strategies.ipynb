{
 "cells": [
  {
   "cell_type": "markdown",
   "metadata": {},
   "source": [
    "## Alternative Mutation Strategies\n",
    "As was discovered in other implementations of the hillclimber research, it appears as if the mutation rate is too slow; for 1000 iterations hillclimber (which equal about 10 hours or computation), the simple hillclimber algorithm with 2-opt seems te be too simple "
   ]
  },
  {
   "cell_type": "code",
   "execution_count": 165,
   "metadata": {},
   "outputs": [],
   "source": [
    "from collections import Counter\n",
    "import requests\n",
    "import pandas as pd\n",
    "import geopandas as gpd\n",
    "\n",
    "import sys\n",
    "\n",
    "sys.path.append(\"../\")\n",
    "\n",
    "# from helper_functions import *\n",
    "# from loading_data import *\n",
    "from Code.helper_functions import initial_loading, analyze_candidate_solution\n",
    "from Code.algorithms import random_start_hillclimber, hillclimber"
   ]
  },
  {
   "cell_type": "code",
   "execution_count": 87,
   "metadata": {},
   "outputs": [
    {
     "name": "stdout",
     "output_type": "stream",
     "text": [
      "Do you want to use addresses instead of clusters?True\n",
      "What stadsdeel do you want to make as a subsection (optional parameter)?T\n",
      "API data loaded\n",
      "DB relation POIs loaded\n",
      "Table all households created\n",
      "API and DB joined\n",
      "containers per cluster determined\n"
     ]
    },
    {
     "name": "stderr",
     "output_type": "stream",
     "text": [
      "..\\Code\\loading_data.py:239: SettingWithCopyWarning: \n",
      "A value is trying to be set on a copy of a slice from a DataFrame.\n",
      "Try using .loc[row_indexer,col_indexer] = value instead\n",
      "\n",
      "See the caveats in the documentation: https://pandas.pydata.org/pandas-docs/stable/user_guide/indexing.html#returning-a-view-versus-a-copy\n",
      "  verblijfsobjecten['bag'] = verblijfsobjecten['split'].apply(lambda x: x[3]).astype('int64')\n"
     ]
    },
    {
     "name": "stdout",
     "output_type": "stream",
     "text": [
      "distance matrix loaded\n"
     ]
    }
   ],
   "source": [
    "all_households, rel_poi_df, joined, df_afstandn2 = initial_loading()"
   ]
  },
  {
   "cell_type": "markdown",
   "metadata": {},
   "source": [
    "### Guassian distribution change\n",
    "This function is a variant of the hillclimber/random algorithm. It randomly selects an amount of containers to swap. This way it balances more or less the exploitation and exploration and makes a more progressive hillclimber. The approach is to set a threshold; the higher the threshold, the less mutation happens to the solution. "
   ]
  },
  {
   "cell_type": "code",
   "execution_count": 197,
   "metadata": {},
   "outputs": [],
   "source": [
    "def hillclimber_variable_mutations(df, x=1.9):\n",
    "    \n",
    "    df['p'] = np.random.normal(0, 1, size=df.shape[0])\n",
    "    df_to_change = df[df['p'] > x]\n",
    "    df = df[df['p'] < x]\n",
    "    \n",
    "    rest = df_to_change['rest'].sum() * ['rest']\n",
    "    plastic = df_to_change['plastic'].sum() * ['plastic']\n",
    "    papier = df_to_change['papier'].sum() * ['papier']\n",
    "    glas = df_to_change['glas'].sum() * ['glas']\n",
    "    textiel = df_to_change['textiel'].sum() * ['textiel']\n",
    "    fracties = rest + plastic + papier + glas + textiel\n",
    "    random.shuffle(fracties)\n",
    "\n",
    "    df_to_change = df_to_change.drop(['rest', 'plastic', 'papier', 'glas', 'textiel'], axis=1)\n",
    "    print(\"Amount of clusters to change: \" + str(df_to_change.shape[0]))\n",
    "\n",
    "    fractions_per_cluster = []\n",
    "    start_point = 0\n",
    "    for i in range(df_to_change.shape[0]):\n",
    "        length = df_to_change['totaal'].iloc[i]\n",
    "        fractions_per_cluster.append(fracties[start_point:start_point +length])\n",
    "        start_point += length\n",
    "    df_to_change['new_containers'] = fractions_per_cluster\n",
    "\n",
    "    df_to_change['rest'], df_to_change['plastic'], df_to_change['papier'], df_to_change['glas'], df_to_change['textiel'] = zip(*df_to_change['new_containers'].apply(lambda x: count(x)))\n",
    "\n",
    "    df = df.append(df_to_change)\n",
    "    df = df.drop(['p', 'new_containers'], axis=1)\n",
    "    return df, df_to_change.shape[0]\n",
    "\n",
    "def count(lst):\n",
    "    cnt = Counter()\n",
    "    for word in lst:\n",
    "        cnt[word] += 1\n",
    "    return cnt['rest'], cnt['plastic'], cnt['papier'], cnt['glas'], cnt['textiel']"
   ]
  },
  {
   "cell_type": "code",
   "execution_count": 184,
   "metadata": {},
   "outputs": [
    {
     "name": "stdout",
     "output_type": "stream",
     "text": [
      "Amount of clusters to change: 13\n",
      "Amount of clusters to change: 14\n"
     ]
    }
   ],
   "source": [
    "joined2 = hillclimber_variable_mutations(joined)\n",
    "joined3 = hillclimber_variable_mutations(joined2)"
   ]
  },
  {
   "cell_type": "code",
   "execution_count": 179,
   "metadata": {},
   "outputs": [
    {
     "name": "stdout",
     "output_type": "stream",
     "text": [
      "Average distance is : 249.6004611676881\n",
      "Penalties are: 308.1859662117452\n",
      "Average distance is : 245.76487054832378\n",
      "Penalties are: 311.91809758572134\n",
      "Average distance is : 245.18055745386818\n",
      "Penalties are: 317.10618413433696\n"
     ]
    }
   ],
   "source": [
    "joined_cluster_distance, good_result_rich, aansluitingen, avg_distance, penalties = analyze_candidate_solution(joined, all_households, rel_poi_df, df_afstandn2, clean=True, use_count=True)\n",
    "joined_cluster_distance, good_result_rich, aansluitingen, avg_distance, penalties = analyze_candidate_solution(joined2, all_households, rel_poi_df, df_afstandn2, clean=True, use_count=True)\n",
    "joined_cluster_distance, good_result_rich, aansluitingen, avg_distance, penalties = analyze_candidate_solution(joined3, all_households, rel_poi_df, df_afstandn2, clean=True, use_count=True)"
   ]
  },
  {
   "cell_type": "code",
   "execution_count": 199,
   "metadata": {},
   "outputs": [],
   "source": [
    "def hillclimber2(num_iterations, joined, all_households, rel_poi_df, df_afstandn2, mod_max = 5, parameter='score', complicated=True, clean=True, use_count=False, save=True, prnt=False):\n",
    "    \"\"\"\n",
    "    Function to perform repeated hillclimber. This can be added as a building block\n",
    "    directly to the standard solution, but also after for example a random algorithm.\n",
    "    The results are to be seen.\n",
    "    \"\"\"\n",
    "    joined_cluster_distance, good_result_rich, aansluitingen, avg_distance, penalties = analyze_candidate_solution(joined, all_households, rel_poi_df, df_afstandn2, clean=clean, use_count=use_count)\n",
    "    method = \"Gaussian\"\n",
    "\n",
    "    if parameter == 'score':\n",
    "        best = avg_distance + penalties\n",
    "    if parameter == 'penalties':\n",
    "        best = penalties\n",
    "\n",
    "    hillclimber_dict = {}\n",
    "    hillclimber_dict[0] = [avg_distance, penalties, best]\n",
    "\n",
    "    fractions = ['rest', 'plastic', 'papier', 'glas', 'textiel']\n",
    "    r = copy.deepcopy(joined)\n",
    "    for i in range(1, num_iterations+1):\n",
    "        last = copy.deepcopy(r)\n",
    "\n",
    "        if method == \"2-opt\":\n",
    "            no_modifications = random.randint(1, mod_max)\n",
    "    #         print(no_modifications)\n",
    "            for j in range(no_modifications):\n",
    "                valid = False\n",
    "                while not valid:\n",
    "                    location_a = random.randint(0, r.shape[0]-1)\n",
    "                    fraction_a = random.choice(fractions)\n",
    "                    location_b = random.randint(0, r.shape[0]-1)\n",
    "                    fraction_b = random.choice(fractions)\n",
    "\n",
    "                    if int(r.at[location_a, fraction_b]) > 0 and int(r.at[location_b, fraction_a]) > 0\\\n",
    "                                                        and fraction_a != fraction_b:\n",
    "                        if prnt:\n",
    "                            print(r.at[location_a, fraction_a], r.at[location_a, fraction_b], r.at[location_b, fraction_a], r.at[location_b, fraction_b])\n",
    "                        r.at[location_a, fraction_a] = int(r.at[location_a, fraction_a]) + 1\n",
    "                        r.at[location_a, fraction_b] = int(r.at[location_a, fraction_b]) - 1\n",
    "                        r.at[location_b, fraction_a] = int(r.at[location_b, fraction_a]) - 1\n",
    "                        r.at[location_b, fraction_b] = int(r.at[location_b, fraction_b]) + 1\n",
    "                        if prnt:\n",
    "                            print(r.at[location_a, fraction_a], r.at[location_a, fraction_b], r.at[location_b, fraction_a], r.at[location_b, fraction_b])\n",
    "\n",
    "                        valid = True\n",
    "\n",
    "        elif method == \"Gaussian\":\n",
    "            r, no_modifications = hillclimber_variable_mutations(joined)\n",
    "\n",
    "        joined_cluster_distance2, good_result_rich2, aansluitingen2, avg_distance2, penalties2 = analyze_candidate_solution(r, all_households, rel_poi_df, df_afstandn2, clean=clean, use_count=use_count)\n",
    "        hillclimber_dict[i] = [avg_distance2, penalties2, best, no_modifications]\n",
    "        if parameter == 'score':\n",
    "            print(avg_distance2+penalties2, best)\n",
    "            if avg_distance2+penalties2 < best:\n",
    "                best = avg_distance2+penalties2\n",
    "            else:\n",
    "                r = copy.deepcopy(last) # Undo modification\n",
    "        if parameter == 'penalties':\n",
    "            print(penalties2, best)\n",
    "            if penalties2 < best:\n",
    "                best = penalties2\n",
    "            else:\n",
    "                r = copy.deepcopy(last) # Undo modification\n",
    "\n",
    "    hill_df = pd.DataFrame.from_dict(hillclimber_dict, orient='index')\n",
    "    hill_df = hill_df.rename(columns={0:'avg_distance', 1:'penalties', 2:'best', 3:'amount of modifications'})\n",
    "\n",
    "    if save:\n",
    "        today = str(pd.datetime.now().date()) + '-' + str(pd.datetime.now().hour)\n",
    "        hill_df.to_csv('hillclimber' + today + '.csv')\n",
    "        r.to_csv('hillclimber_best_config' + today + '.csv')\n",
    "\n",
    "    return hill_df, r\n"
   ]
  },
  {
   "cell_type": "code",
   "execution_count": 201,
   "metadata": {},
   "outputs": [
    {
     "name": "stdout",
     "output_type": "stream",
     "text": [
      "Average distance is : 249.6004611676881\n",
      "Penalties are: 308.1859662117452\n",
      "Amount of clusters to change: 13\n",
      "Average distance is : 250.7009830805045\n",
      "Penalties are: 310.2849942519229\n",
      "310.2849942519229 308.1859662117452\n",
      "Amount of clusters to change: 9\n",
      "Average distance is : 250.42328986197202\n",
      "Penalties are: 309.2238427212572\n",
      "309.2238427212572 308.1859662117452\n",
      "Amount of clusters to change: 17\n",
      "Average distance is : 249.80738107249454\n",
      "Penalties are: 309.35898686931347\n",
      "309.35898686931347 308.1859662117452\n"
     ]
    },
    {
     "name": "stderr",
     "output_type": "stream",
     "text": [
      "<ipython-input-199-77392ae14401>:69: FutureWarning: The pandas.datetime class is deprecated and will be removed from pandas in a future version. Import from datetime module instead.\n",
      "  today = str(pd.datetime.now().date()) + '-' + str(pd.datetime.now().hour)\n"
     ]
    },
    {
     "data": {
      "text/plain": [
       "(   avg_distance   penalties        best  amount of modifications\n",
       " 0    249.600461  308.185966  308.185966                      NaN\n",
       " 1    250.700983  310.284994  308.185966                     13.0\n",
       " 2    250.423290  309.223843  308.185966                      9.0\n",
       " 3    249.807381  309.358987  308.185966                     17.0,\n",
       "      cluster_x  cluster_y  s1_afv_rel_nodes_poi  \\\n",
       " 0       124549     481681              379997.0   \n",
       " 1       124562     481606              111134.0   \n",
       " 2       124599     481768              142027.0   \n",
       " 3       124610     481531               93235.0   \n",
       " 4       124614     481406               68169.0   \n",
       " ..         ...        ...                   ...   \n",
       " 414     128399     479319              249683.0   \n",
       " 415     129621     479867              271956.0   \n",
       " 416     129755     479991               15018.0   \n",
       " 417     129798     479676              412206.0   \n",
       " 418     129898     479851              160794.0   \n",
       " \n",
       "                                   bk_afv_rel_nodes_poi  s1_afv_nodes  \\\n",
       " 0    124549.098~481681.498~afval_cluster~124549.098...      863418.0   \n",
       " 1    124562.398~481605.919~afval_cluster~124562.398...      594399.0   \n",
       " 2    124599.009~481768.428~afval_cluster~124599.009...      625308.0   \n",
       " 3    124610.194~481531.108~afval_cluster~124610.194...      576491.0   \n",
       " 4    124614.479~481405.698~afval_cluster~124614.479...      551412.0   \n",
       " ..                                                 ...           ...   \n",
       " 414  128398.947~479319.086~afval_cluster~128398.947...      733018.0   \n",
       " 415  129620.723~479866.800~afval_cluster~129620.723...      755306.0   \n",
       " 416  129754.839~479990.691~afval_cluster~129754.839...      498227.0   \n",
       " 417  129798.472~479676.098~afval_cluster~129798.472...      895643.0   \n",
       " 418  129898.295~479850.951~afval_cluster~129898.295...      644085.0   \n",
       " \n",
       "      s1_afv_poi  mf_insert_datetime  mf_update_datetime  \\\n",
       " 0      156928.0 2020-04-01 13:57:12 2020-04-01 13:57:12   \n",
       " 1       24108.0 2020-04-01 13:57:12 2020-04-01 13:57:12   \n",
       " 2      150701.0 2020-04-01 13:57:12 2020-04-01 13:57:12   \n",
       " 3       86904.0 2020-04-01 13:57:12 2020-04-01 13:57:12   \n",
       " 4       35258.0 2020-04-01 13:57:12 2020-04-01 13:57:12   \n",
       " ..          ...                 ...                 ...   \n",
       " 414    155457.0 2020-04-01 13:57:12 2020-04-01 13:57:12   \n",
       " 415     55484.0 2020-04-01 13:57:12 2020-04-01 13:57:12   \n",
       " 416       252.0 2020-04-01 13:57:12 2020-04-01 13:57:12   \n",
       " 417     89247.0 2020-04-01 13:57:12 2020-04-01 13:57:12   \n",
       " 418    120365.0 2020-04-01 13:57:12 2020-04-01 13:57:12   \n",
       " \n",
       "                               mf_row_hash mf_deleted_ind  ...  buurt wijk  \\\n",
       " 0    d9931a77-e662-edc7-6162-61417468c6c3          False  ...   T93a  T93   \n",
       " 1    9d7cb9a4-7162-7e0c-3134-af6af4d02d94          False  ...   T93a  T93   \n",
       " 2    76122c18-ca79-cd24-7673-9ca14c239511          False  ...   T93a  T93   \n",
       " 3    d2c70997-4c38-7017-8f4d-979db56864cb          False  ...   T93a  T93   \n",
       " 4    7fee9359-e64e-8707-1015-0c69c9f0f49e          False  ...   T93a  T93   \n",
       " ..                                    ...            ...  ...    ...  ...   \n",
       " 414  b8ffb242-6b96-5e80-ba9d-a902b3bd95cb          False  ...   T97c  T97   \n",
       " 415  cc430177-0415-98b3-8362-2f1d2a7205d3          False  ...   T98a  T98   \n",
       " 416  f05ceb3e-4071-c0a2-b54f-9e4bc29c2021          False  ...   T98a  T98   \n",
       " 417  5b1a3b4d-d0b0-1485-6693-682f0b8717ff          False  ...   T98a  T98   \n",
       " 418  ad65d182-0480-55dc-df85-6da7dc7e0d95          False  ...   T98a  T98   \n",
       " \n",
       "     stadsdeel rest plastic papier glas textiel totaal         p  \n",
       " 0           T    1       0      0    0       0      1 -0.231704  \n",
       " 1           T    0       0      1    1       0      2 -0.925971  \n",
       " 2           T    1       0      0    0       0      1  1.844962  \n",
       " 3           T    1       0      0    0       0      1 -0.732162  \n",
       " 4           T    1       0      0    0       0      1 -0.738233  \n",
       " ..        ...  ...     ...    ...  ...     ...    ...       ...  \n",
       " 414         T    0       1      1    1       1      4  0.174237  \n",
       " 415         T    0       0      0    1       0      1 -0.031332  \n",
       " 416         T    0       1      1    1       1      4  0.276834  \n",
       " 417         T    0       1      1    1       0      3 -1.414905  \n",
       " 418         T    1       0      0    0       0      1  1.129135  \n",
       " \n",
       " [419 rows x 26 columns])"
      ]
     },
     "execution_count": 201,
     "metadata": {},
     "output_type": "execute_result"
    }
   ],
   "source": []
  },
  {
   "cell_type": "code",
   "execution_count": null,
   "metadata": {},
   "outputs": [],
   "source": []
  }
 ],
 "metadata": {
  "kernelspec": {
   "display_name": "Python 3",
   "language": "python",
   "name": "python3"
  },
  "language_info": {
   "codemirror_mode": {
    "name": "ipython",
    "version": 3
   },
   "file_extension": ".py",
   "mimetype": "text/x-python",
   "name": "python",
   "nbconvert_exporter": "python",
   "pygments_lexer": "ipython3",
   "version": "3.8.2"
  }
 },
 "nbformat": 4,
 "nbformat_minor": 4
}
