{
 "cells": [
  {
   "cell_type": "code",
   "execution_count": 1,
   "metadata": {},
   "outputs": [
    {
     "name": "stdout",
     "output_type": "stream",
     "text": [
      "POSTGRES password?WelkomCorne!\n"
     ]
    }
   ],
   "source": [
    "import pandas as pd\n",
    "import geopandas as gpd\n",
    "from bokeh.plotting import figure, show\n",
    "from bokeh.models import GeoJSONDataSource, ColumnDataSource, HoverTool\n",
    "\n",
    "import sys\n",
    "sys.path.append(\"../\")\n",
    "from Code.visualisation import visualise_configuration, use_cases\n",
    "from Code.helper_functions import initial_loading, analyze_candidate_solution, add_shortest_distances_to_all_households"
   ]
  },
  {
   "cell_type": "code",
   "execution_count": null,
   "metadata": {},
   "outputs": [],
   "source": [
    "file = gpd.read_file('../Data/shp/Inzameling_huisvuil_080520.shp')\n",
    "file_clean = file[file['aanbiedwij'] == 'Breng uw restafval  naar een container voor restafval.']\n",
    "wijken = gpd.read_file('../data/brtk2010_ind2005_region.shp')\n",
    "file['aanbiedwij'].value_counts()"
   ]
  },
  {
   "cell_type": "code",
   "execution_count": null,
   "metadata": {},
   "outputs": [],
   "source": [
    "geosource = GeoJSONDataSource(geojson=file.to_json())\n",
    "geosource2= GeoJSONDataSource(geojson=file_clean.to_json())\n",
    "geosource3= GeoJSONDataSource(geojson=wijken.to_json())"
   ]
  },
  {
   "cell_type": "code",
   "execution_count": null,
   "metadata": {},
   "outputs": [],
   "source": [
    "p = figure(match_aspect=True)\n",
    "p.patches('xs', 'ys', source=geosource, fill_color='grey', alpha=0.1, line_color=None)\n",
    "p.patches('xs', 'ys', source=geosource2, fill_color='grey', alpha=0.1, line_color=None)\n",
    "p.patches('xs', 'ys', source=geosource3, fill_color=None, alpha=0.1, line_color='blue')\n",
    "\n",
    "show(p)"
   ]
  },
  {
   "cell_type": "markdown",
   "metadata": {},
   "source": [
    "## Use case"
   ]
  },
  {
   "cell_type": "code",
   "execution_count": null,
   "metadata": {},
   "outputs": [],
   "source": [
    "def visualise_configuration():\n",
    "    \"\"\"\n",
    "    Create Bokeh Plot of candidate solution.\n",
    "\n",
    "    Function prompts for filename to be plotted. It then loads in the current\n",
    "    situation for comparison purposes. It plots the garbage container clusters\n",
    "    and active addresses on a shapefile of the city. All places were garbage is\n",
    "    centrally collected is marked in darker grey. The Bokeh Plot contains an\n",
    "    interactive HoverTool that shows the compoisitions of either the houses or\n",
    "    garbage containers.\n",
    "    \"\"\"\n",
    "    filename = input(\"Please provide the requested filename\")\n",
    "    area = input(\"Provide Code of neighborhood (T/N/F/C)\")\n",
    "    if area == 'C':\n",
    "        area = ['M', 'A', 'K', 'E']\n",
    "    df_zo = pd.read_csv(filename)\n",
    "\n",
    "    all_households, rel_poi_df, joined, df_afstandn2 = initial_loading()\n",
    "\n",
    "    to_join = df_zo[['s1_afv_nodes', 'rest', 'plastic', 'papier', 'glas',\n",
    "                     'textiel', 'totaal']].set_index('s1_afv_nodes')\n",
    "    joined.s1_afv_nodes = joined.s1_afv_nodes.astype('int')\n",
    "    new = to_join.join(joined.set_index('s1_afv_nodes'), lsuffix='_n')\n",
    "\n",
    "    households_zo = all_households[all_households['in_neigborhood']]\n",
    "    households_zo = households_zo.set_index('naar_s1_afv_nodes')\\\n",
    "        .join(df_afstandn2[['count', 'naar_s1_afv_nodes']]\n",
    "              .set_index('naar_s1_afv_nodes'), how='left').drop_duplicates()\n",
    "    households_zo = households_zo[households_zo['count'] > 0]\n",
    "\n",
    "\n",
    "    load = gpd.read_file('../data/Inzameling_huisvuil_100220.shp')\n",
    "\n",
    "    street_map = load[load['sdcode'].isin(list(area))]\n",
    "    geosource = GeoJSONDataSource(geojson=street_map.to_json())\n",
    "    street_map_clean = street_map[street_map['aanbiedwij'] ==\n",
    "                                  'Breng uw restafval  naar een container voor restafval.']\n",
    "    geosource2 = GeoJSONDataSource(geojson=street_map_clean.to_json())\n",
    "\n",
    "    TOOLTIPS = [\n",
    "                (\"index\", \"$index\"),\n",
    "                (\"(x,y)\", \"($x, $y)\"),\n",
    "                (\"Rest\", \"(@rest, @rest_n)\"),\n",
    "                (\"Plastic\", \"(@plastic, @plastic_n)\"),\n",
    "                (\"Papier\", \"(@papier, @papier_n)\"),\n",
    "                (\"Glas\", \"(@glas, @glas_n)\"),\n",
    "                (\"Textiel\", \"(@textiel, @textiel_n)\")\n",
    "                ]\n",
    "\n",
    "    TOOLTIPS2 = [\n",
    "                (\"index\", \"$index\"),\n",
    "                (\"(x,y)\", \"($x, $y)\"),\n",
    "                (\"Count\", \"@count\")]\n",
    "\n",
    "    source1 = ColumnDataSource(data=new\n",
    "                               [['cluster_x', 'cluster_y', 'rest', 'papier',\n",
    "                                 'plastic', 'textiel', 'glas', 'rest_n',\n",
    "                                 'papier_n', 'glas_n', 'plastic_n',\n",
    "                                 'textiel_n']])\n",
    "    source2 = ColumnDataSource(data=households_zo)\n",
    "\n",
    "    p = figure(match_aspect=True)\n",
    "    p.patches('xs', 'ys', source=geosource, fill_color='grey', alpha=0.1,\n",
    "              line_color=None)\n",
    "    p.patches('xs', 'ys', source=geosource2, fill_color='grey', alpha=0.3,\n",
    "              line_color=None)\n",
    "    r3 = p.circle(x='cluster_x', y='cluster_y', color='red', line_color=None,\n",
    "                  source=source1, radius=20)\n",
    "    p.add_tools(HoverTool(renderers=[r3], tooltips=TOOLTIPS))\n",
    "    r4 = p.circle(x='cluster_x', y='cluster_y', radius=1.5, source=source2)\n",
    "    p.add_tools(HoverTool(renderers=[r4], tooltips=TOOLTIPS2))\n",
    "\n",
    "    show(p)\n",
    "    return p, df_zo, households_zo.reset_index().rename(columns={'index': 'naar_s1_afv_nodes'}), all_households, rel_poi_df, joined, df_afstandn2\n",
    "\n",
    "p, containers, households, all_households, rel_poi_df, joined, df_afstandn2 = visualise_configuration()"
   ]
  },
  {
   "cell_type": "code",
   "execution_count": null,
   "metadata": {},
   "outputs": [],
   "source": [
    "all_households, rel_poi_df, joined, df_afstandn2 = initial_loading()"
   ]
  },
  {
   "cell_type": "code",
   "execution_count": null,
   "metadata": {},
   "outputs": [],
   "source": [
    "# joined_cluster_distance, good_result, aansluitingen,\\\n",
    "#         avg_distance, penalties, simple_penalties = analyze_candidate_solution(\n",
    "#     joined, households, rel_poi_df, df_afstandn2, use_count=True, clean=False)\n",
    "\n",
    "joined_cluster_distance = containers.set_index('s1_afv_nodes')\\\n",
    "    .join(df_afstandn2.set_index('van_s1_afv_nodes')).reset_index()\\\n",
    "    .rename(columns={'index': 'van_s1_afv_nodes'})\n",
    "\n",
    "# Add shortest distances to it\n",
    "good_result = \\\n",
    "    add_shortest_distances_to_all_households(households,\n",
    "                                             joined_cluster_distance)\n",
    "\n",
    "# good_result = good_result[good_result['count'] > 0]\n",
    "good_result = good_result.reset_index()"
   ]
  },
  {
   "cell_type": "code",
   "execution_count": null,
   "metadata": {},
   "outputs": [],
   "source": [
    "good_result[good_result.index == 6248]"
   ]
  },
  {
   "cell_type": "code",
   "execution_count": null,
   "metadata": {},
   "outputs": [],
   "source": [
    "# joined_cluster_distance, good_result, aansluitingen,\\\n",
    "#         avg_distance, penalties, simple_penalties = analyze_candidate_solution(\n",
    "#     containers, all_households, rel_poi_df, df_afstandn2, use_count=True, clean=False)\n",
    "\n",
    "joined_cluster_distance = joined.set_index('s1_afv_nodes')\\\n",
    "    .join(df_afstandn2.set_index('van_s1_afv_nodes')).reset_index()\\\n",
    "    .rename(columns={'index': 'van_s1_afv_nodes'})\n",
    "\n",
    "# Add shortest distances to it\n",
    "good_result = \\\n",
    "    add_shortest_distances_to_all_households(all_households,\n",
    "                                             joined_cluster_distance,\n",
    "                                             use_count=True)\n",
    "\n",
    "good_result = good_result.reset_index()"
   ]
  },
  {
   "cell_type": "code",
   "execution_count": null,
   "metadata": {},
   "outputs": [],
   "source": [
    "good_result[good_result['naar_s1_afv_nodes'] == 748684]"
   ]
  },
  {
   "cell_type": "code",
   "execution_count": null,
   "metadata": {},
   "outputs": [],
   "source": [
    "def use_cases(indx):\n",
    "    p, containers, households, all_households, rel_poi_df, joined, df_afstandn2 = visualise_configuration()    \n",
    "    \n",
    "    # Collect New\n",
    "    joined_cluster_distance = containers.set_index('s1_afv_nodes')\\\n",
    "    .join(df_afstandn2.set_index('van_s1_afv_nodes')).reset_index()\\\n",
    "    .rename(columns={'index': 'van_s1_afv_nodes'})\n",
    "\n",
    "    # Add shortest distances to it\n",
    "    good_result = \\\n",
    "        add_shortest_distances_to_all_households(households,\n",
    "                                                 joined_cluster_distance)\n",
    "\n",
    "    # good_result = good_result[good_result['count'] > 0]\n",
    "    good_result = good_result.reset_index()\n",
    "    print(good_result[good_result.index == indx])\n",
    "    poi = int(good_result[good_result.index == indx]['naar_s1_afv_nodes'])\n",
    "    \n",
    "    \n",
    "    # Collect old\n",
    "    joined_cluster_distance = joined.set_index('s1_afv_nodes')\\\n",
    "    .join(df_afstandn2.set_index('van_s1_afv_nodes')).reset_index()\\\n",
    "    .rename(columns={'index': 'van_s1_afv_nodes'})\n",
    "\n",
    "    # Add shortest distances to it\n",
    "    good_result = \\\n",
    "        add_shortest_distances_to_all_households(all_households,\n",
    "                                             joined_cluster_distance,\n",
    "                                             use_count=True)\n",
    "    \n",
    "    good_result = good_result.reset_index().rename(columns={'index': 'naar_s1_afv_nodes'})\n",
    "    print(good_result[good_result['naar_s1_afv_nodes'] == poi])\n",
    "    return"
   ]
  },
  {
   "cell_type": "code",
   "execution_count": 2,
   "metadata": {},
   "outputs": [
    {
     "name": "stdout",
     "output_type": "stream",
     "text": [
      "Please provide the requested filename../Results/hillclimber_best_config2020-05-04-10ZO.csv\n",
      "Provide Code of neighborhood (T/N/F/C)T\n",
      "Do you want to use addresses instead of clusters?True\n",
      "What stadsdeel do you want to make as a subsection(optional parameter)?T\n",
      "What is the maximum amount of containers in a cluster that is considered to be useful?8\n",
      "Where to get db files(local/online)?local\n",
      "DB relation POIs loaded\n"
     ]
    },
    {
     "name": "stderr",
     "output_type": "stream",
     "text": [
      "..\\Code\\loading_data.py:389: SettingWithCopyWarning: \n",
      "A value is trying to be set on a copy of a slice from a DataFrame.\n",
      "Try using .loc[row_indexer,col_indexer] = value instead\n",
      "\n",
      "See the caveats in the documentation: https://pandas.pydata.org/pandas-docs/stable/user_guide/indexing.html#returning-a-view-versus-a-copy\n",
      "  df2['ligtin_bag_pnd_identificatie'] = \\\n",
      "..\\Code\\loading_data.py:397: SettingWithCopyWarning: \n",
      "A value is trying to be set on a copy of a slice from a DataFrame.\n",
      "Try using .loc[row_indexer,col_indexer] = value instead\n",
      "\n",
      "See the caveats in the documentation: https://pandas.pydata.org/pandas-docs/stable/user_guide/indexing.html#returning-a-view-versus-a-copy\n",
      "  verblijfsobjecten['bag'] = verblijfsobjecten.loc[:, 'bag']\\\n"
     ]
    },
    {
     "name": "stdout",
     "output_type": "stream",
     "text": [
      "distance matrix loaded\n",
      "API data loaded\n",
      "Table all households created\n",
      "API and DB joined\n",
      "containers per cluster determined\n",
      "move_rest determined\n",
      "      naar_s1_afv_nodes  cluster_x  cluster_y uses_container  \\\n",
      "6248             748684   127539.0   480836.0          False   \n",
      "\n",
      "     collect_cardboard in_landelijk_noord in_centrum in_neigborhood  count  \\\n",
      "6248             False              False      False           True    1.0   \n",
      "\n",
      "      poi_rest  rest_afstand  poi_plastic  plastic_afstand  poi_papier  \\\n",
      "6248  572311.0        161.74     683743.0           262.86    889308.0   \n",
      "\n",
      "      papier_afstand  poi_glas  glas_afstand  poi_textiel  textiel_afstand  \n",
      "6248          631.15  874450.0         37.61     489362.0           968.37  \n",
      "       naar_s1_afv_nodes  cluster_x  cluster_y  uses_container  \\\n",
      "88575             748684     127539     480836           False   \n",
      "\n",
      "       collect_cardboard  in_landelijk_noord  in_centrum  in_neigborhood  \\\n",
      "88575              False               False       False            True   \n",
      "\n",
      "       count  poi_rest  rest_afstand  poi_plastic  plastic_afstand  \\\n",
      "88575    1.0  874450.0         37.61     683743.0           262.86   \n",
      "\n",
      "       poi_papier  papier_afstand  poi_glas  glas_afstand  poi_textiel  \\\n",
      "88575    683743.0          262.86  683743.0        262.86     489362.0   \n",
      "\n",
      "       textiel_afstand  \n",
      "88575           968.37  \n"
     ]
    }
   ],
   "source": [
    "use_cases(6248)"
   ]
  },
  {
   "cell_type": "code",
   "execution_count": null,
   "metadata": {},
   "outputs": [],
   "source": [
    "poi = 748684\n",
    "good_result = \\\n",
    "    add_shortest_distances_to_all_households(all_households,\n",
    "                                         joined_cluster_distance,\n",
    "                                         use_count=True)\n",
    "good_result = good_result.reset_index().rename(columns={'index': 'naar_s1_afv_nodes'})\n",
    "print(good_result[good_result['naar_s1_afv_nodes'] == poi])"
   ]
  },
  {
   "cell_type": "code",
   "execution_count": null,
   "metadata": {},
   "outputs": [],
   "source": []
  }
 ],
 "metadata": {
  "kernelspec": {
   "display_name": "Python 3",
   "language": "python",
   "name": "python3"
  },
  "language_info": {
   "codemirror_mode": {
    "name": "ipython",
    "version": 3
   },
   "file_extension": ".py",
   "mimetype": "text/x-python",
   "name": "python",
   "nbconvert_exporter": "python",
   "pygments_lexer": "ipython3",
   "version": "3.8.2"
  }
 },
 "nbformat": 4,
 "nbformat_minor": 4
}
