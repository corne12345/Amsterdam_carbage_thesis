{
 "cells": [
  {
   "cell_type": "markdown",
   "metadata": {},
   "source": [
    "# Shortest distances based on walking DB\n",
    "This notebook is used to efficiently load in data from the postgres DB, connect it with data from the API to effectively calculate the shortest walking distances from all address points to the nearest container for all fractions. In a more general way, there are a few essential steps:\n",
    "* Connect to postgres DB and make it easy to send queries\n",
    "* Load all POI clusters from the postgres DB\n",
    "* Load all garbage clusters from the data.amsterdam API\n",
    "* Connect both databases on their mutual coordinates\n",
    "* Load distances matrix from postgres DB\n",
    "* Join distances matrix with garbage cluster data\n",
    "* Join distances matrix with POI clusters\n"
   ]
  },
  {
   "cell_type": "code",
   "execution_count": 1,
   "metadata": {},
   "outputs": [],
   "source": [
    "# Load all necessary modules for working\n",
    "\n",
    "from sqlalchemy import create_engine\n",
    "import requests\n",
    "from getpass import getpass\n",
    "import pandas as pd\n",
    "import numpy as np\n",
    "import psycopg2\n",
    "from shapely.geometry import Point, Polygon"
   ]
  },
  {
   "cell_type": "markdown",
   "metadata": {},
   "source": [
    "### Connect to Postgres DB\n",
    "First step is to fill in all necessary parameters to make a connection to the DB.\n",
    "These functions allow for easy implementation"
   ]
  },
  {
   "cell_type": "code",
   "execution_count": 2,
   "metadata": {},
   "outputs": [
    {
     "name": "stdout",
     "output_type": "stream",
     "text": [
      "Password: ········\n"
     ]
    }
   ],
   "source": [
    "# Connect to Postgres database\n",
    "# source: https://blog.panoply.io/connecting-jupyter-notebook-with-postgresql-for-python-data-analysis\n",
    "\n",
    "# Postgres username, password, and database name\n",
    "POSTGRES_ADDRESS = '10.243.25.5'\n",
    "POSTGRES_PORT = '5432'\n",
    "POSTGRES_USERNAME = 'heijne029'\n",
    "POSTGRES_PASSWORD = getpass(prompt='Password: ')\n",
    "POSTGRES_DBNAME = 'analyse_ruimte'\n",
    "\n",
    "# A long string that contains the necessary Postgres login information\n",
    "postgres_str = ('postgresql://{username}:{password}@{ipaddress}:{port}/{dbname}'\n",
    "                .format(username=POSTGRES_USERNAME,\n",
    "                        password=POSTGRES_PASSWORD,\n",
    "                        ipaddress=POSTGRES_ADDRESS,\n",
    "                        port=POSTGRES_PORT,\n",
    "                        dbname=POSTGRES_DBNAME))"
   ]
  },
  {
   "cell_type": "code",
   "execution_count": 3,
   "metadata": {},
   "outputs": [],
   "source": [
    "def get_dataframe(q):\n",
    "    # Create the connection\n",
    "    cnx = create_engine(postgres_str)\n",
    "    # Query to send to database\n",
    "    query = q\n",
    "    return pd.read_sql_query(query, cnx)"
   ]
  },
  {
   "cell_type": "markdown",
   "metadata": {},
   "source": [
    "### Helper functions"
   ]
  },
  {
   "cell_type": "code",
   "execution_count": 4,
   "metadata": {},
   "outputs": [],
   "source": [
    "# def rest_in_list(fraction_list):\n",
    "#     if type(fraction_list) == list:\n",
    "#         for fraction in fraction_list:\n",
    "#             if fraction[:4] == \"Rest\":\n",
    "#                 return int(fraction[5:])\n",
    "#     else:\n",
    "#         return 0\n",
    "    \n",
    "\n",
    "# def plastic_in_list(fraction_list):\n",
    "#     if type(fraction_list) == list:\n",
    "#         for fraction in fraction_list:\n",
    "#             if fraction[:7] == \"Plastic\":\n",
    "#                 return int(fraction[8:])\n",
    "#     else:\n",
    "#         return 0\n",
    "\n",
    "# def papier_in_list(fraction_list):\n",
    "#     if type(fraction_list) == list:\n",
    "#         for fraction in fraction_list:\n",
    "#             if fraction[:6] == \"Papier\":\n",
    "#                 return int(fraction[7:])\n",
    "#     else:\n",
    "#         return 0\n",
    "\n",
    "# def glas_in_list(fraction_list):\n",
    "#     if type(fraction_list) == list:\n",
    "#         for fraction in fraction_list:\n",
    "#             if fraction[:4] == \"Glas\":\n",
    "#                 return int(fraction[5:])\n",
    "#     else:\n",
    "#         return 0\n",
    "\n",
    "# def textiel_in_list(fraction_list):\n",
    "#     if type(fraction_list) == list:\n",
    "#         for fraction in fraction_list:\n",
    "#             if fraction[:7] == \"Textiel\":\n",
    "#                 return int(fraction[8:])\n",
    "#     else:\n",
    "#         return 0\n",
    "\n",
    "def containers_per_cluster(cluster_list):\n",
    "    rest = 0\n",
    "    plastic = 0\n",
    "    papier = 0\n",
    "    glas = 0\n",
    "    textiel = 0\n",
    "    try:\n",
    "        for i in cluster_list:\n",
    "            if i.startswith(\"Rest:\"):\n",
    "                rest = int((i.split(':')[1]))\n",
    "            if i.startswith(\"Plastic:\"):\n",
    "                plastic = int((i.split(':')[1]))\n",
    "            if i.startswith(\"Papier:\"):\n",
    "                papier = int((i.split(':')[1]))\n",
    "            if i.startswith(\"Glas:\"):\n",
    "                glas = int((i.split(':')[1]))\n",
    "            if i.startswith(\"Textiel:\"):\n",
    "                textiel = int(i.split(':')[1])\n",
    "    except:\n",
    "        pass\n",
    "    return rest, plastic, papier, glas, textiel, sum([rest, plastic, papier, glas, textiel])"
   ]
  },
  {
   "cell_type": "code",
   "execution_count": 5,
   "metadata": {},
   "outputs": [],
   "source": [
    "def load_api_data(prnt=False):\n",
    "    x_coordinates = []\n",
    "    y_coordinates = []\n",
    "    aantal = []\n",
    "    volumes = []\n",
    "    adresses = []\n",
    "\n",
    "    link = 'https://api.data.amsterdam.nl/vsd/afvalclusters'\n",
    "\n",
    "    while link != None:\n",
    "        if prnt:\n",
    "            print(link)\n",
    "        response = requests.get(link)\n",
    "        output = response.json()\n",
    "        for result in output['results']:\n",
    "            if result['cluster_datum_einde_cluster'] == None: #Als het cluster nog actief is\n",
    "                x_coordinates.append(str(result['cluster_geometrie']['coordinates'][0]))\n",
    "                y_coordinates.append(str(result['cluster_geometrie']['coordinates'][1]))\n",
    "                aantal.append(result['cluster_fractie_aantal'])\n",
    "                volumes.append(result['cluster_fractie_volume'])\n",
    "                adresses.append(result['bag_adres_openbare_ruimte_naam'])\n",
    "        try:\n",
    "            link = output['_links']['next']['href']\n",
    "        except:\n",
    "            link = None\n",
    "\n",
    "    df_clusters = pd.DataFrame([x_coordinates, y_coordinates, aantal, volumes, adresses]).T\n",
    "    df_clusters = df_clusters.rename(columns={0: 'cluster_x', 1:'cluster_y', 2:'aantal_per_fractie', 3:'volume_per_fractie', 4: 'street_name'})\n",
    "    df_clusters['cluster_x'] = df_clusters['cluster_x'].astype('float').round(0).astype('int')\n",
    "    df_clusters['cluster_y'] = df_clusters['cluster_y'].astype('float').round(0).astype('int')\n",
    "    return df_clusters"
   ]
  },
  {
   "cell_type": "markdown",
   "metadata": {},
   "source": [
    "### Load in DB and API\n",
    "the PostgresDB is loaded in to retrieve all information.\n",
    "\n",
    "Next, the API is used to load in all clusters"
   ]
  },
  {
   "cell_type": "code",
   "execution_count": 6,
   "metadata": {},
   "outputs": [],
   "source": [
    "df_afstandn3 = get_dataframe(\"\"\"SELECT *\n",
    "                                FROM proj_afval_netwerk.afv_rel_nodes_poi\n",
    "                                \"\"\")"
   ]
  },
  {
   "cell_type": "code",
   "execution_count": 7,
   "metadata": {
    "scrolled": false
   },
   "outputs": [],
   "source": [
    "df_clusters = load_api_data()"
   ]
  },
  {
   "cell_type": "markdown",
   "metadata": {},
   "source": [
    "### Retrieve amount of containers per fraction for all clusters\n",
    "This creates a dataframe with the distance between an address POI and all nearby garbage clusters. It also holds the amount of containers per fraction for this garbage cluster"
   ]
  },
  {
   "cell_type": "code",
   "execution_count": 8,
   "metadata": {},
   "outputs": [],
   "source": [
    "# total_join['rest'] = total_join['aantal_per_fractie'].apply(lambda x: rest_in_list(x))\n",
    "# total_join['plastic'] = total_join['aantal_per_fractie'].apply(lambda x: plastic_in_list(x))\n",
    "# total_join['glas'] = total_join['aantal_per_fractie'].apply(lambda x: glas_in_list(x))\n",
    "# total_join['papier'] = total_join['aantal_per_fractie'].apply(lambda x: papier_in_list(x))\n",
    "# total_join['textiel'] = total_join['aantal_per_fractie'].apply(lambda x: textiel_in_list(x))\n",
    "# total_join['totaal'] = total_join['rest'] + total_join['plastic'] + total_join['glas'] + total_join['papier'] + total_join['textiel']\n",
    "df_clusters['rest'], df_clusters['plastic'], df_clusters['papier'], df_clusters['glas'], df_clusters['textiel'], df_clusters['totaal'] = zip(*df_clusters['aantal_per_fractie'].apply(lambda x: containers_per_cluster(x)))"
   ]
  },
  {
   "cell_type": "markdown",
   "metadata": {},
   "source": [
    "### Join DB and API data\n",
    "Next step is to join API and DB data.\n",
    "Herefore, the data is joined on coordinates.\n",
    "When there was no match in that, the remaining clusters were tried to be matched on more flexible norms with margins of 25 meters. This greatly reduces missing values.\n",
    "The initial matches are stored in result"
   ]
  },
  {
   "cell_type": "code",
   "execution_count": 9,
   "metadata": {},
   "outputs": [],
   "source": [
    "def pois_for_clusters(tst=df_afstandn3, df_clusters=df_clusters):\n",
    "    tst['woning'] = tst['bk_afv_rel_nodes_poi'].str.split('~')\n",
    "    tst['cluster_x'] = tst['woning'].apply(lambda x: x[0]).astype('float').round(0).astype('int')\n",
    "    tst['cluster_y'] = tst['woning'].apply(lambda x: x[1]).astype('float').round(0).astype('int')\n",
    "    tst['type'] = tst['woning'].apply(lambda x: x[2])\n",
    "    db_clusters = tst[tst['type'] == 'afval_cluster']\n",
    "    \n",
    "    joined = db_clusters.set_index(['cluster_x', 'cluster_y']).join(df_clusters.set_index(['cluster_x', 'cluster_y']), how='outer').reset_index()\n",
    "    \n",
    "    df_clusters_open = joined[joined['s1_afv_rel_nodes_poi'].isna()].reset_index()\n",
    "    db_clusters_open = joined[joined['aantal_per_fractie'].isna()].reset_index()\n",
    "    \n",
    "    \n",
    "    return joined.dropna(), db_clusters_open, df_clusters_open"
   ]
  },
  {
   "cell_type": "code",
   "execution_count": 10,
   "metadata": {},
   "outputs": [
    {
     "data": {
      "text/plain": [
       "((5578, 22), (96, 23), (106, 23))"
      ]
     },
     "execution_count": 10,
     "metadata": {},
     "output_type": "execute_result"
    }
   ],
   "source": [
    "result, db_clusters_open, df_clusters_open = pois_for_clusters()\n",
    "result.shape, db_clusters_open.shape, df_clusters_open.shape"
   ]
  },
  {
   "cell_type": "code",
   "execution_count": 11,
   "metadata": {},
   "outputs": [],
   "source": [
    " def fix_remaining_options(i, db_clusters_open, df_clusters_open, margin=10):\n",
    "    test_option = db_clusters_open.iloc[i]\n",
    "    x = float(test_option['cluster_x'])\n",
    "    y = float(test_option['cluster_y'])\n",
    "#     print(x,y)\n",
    "    square = Polygon([(x-margin, y-margin), (x-margin, y+margin), (x+margin, y+margin), (x+margin, y-margin)])\n",
    "    df_clusters['point'] = df_clusters.apply(lambda row: Point(row['cluster_x'], row['cluster_y']),axis=1)\n",
    "    df_clusters['fit'] = df_clusters['point'].apply(lambda point: point.within(square))\n",
    "    try:\n",
    "        to_return = df_clusters[df_clusters['fit']].iloc[0]\n",
    "        return to_return['aantal_per_fractie'], to_return['volume_per_fractie'], to_return['street_name']\n",
    "    except:\n",
    "        return None, None, None\n",
    "    \n",
    "def fix_remaining_into_frame(db_clusters_open=db_clusters_open, df_clusters_open=df_clusters_open, margin=10):\n",
    "    apf_list = []\n",
    "    vpf_list = []\n",
    "    str_list = []\n",
    "\n",
    "    for i in range(db_clusters_open.shape[0]):\n",
    "        tmp = fix_remaining_options(i, db_clusters_open, df_clusters_open, margin=margin)\n",
    "        apf_list.append(tmp[0])\n",
    "        vpf_list.append(tmp[1])\n",
    "        str_list.append(tmp[2])\n",
    "\n",
    "    db_clusters_open['aantal_per_fractie'] = apf_list\n",
    "    db_clusters_open['volume_per_fractie'] = vpf_list\n",
    "    db_clusters_open['street_name'] = str_list\n",
    "    return db_clusters_open"
   ]
  },
  {
   "cell_type": "code",
   "execution_count": 12,
   "metadata": {},
   "outputs": [],
   "source": [
    "probeersel = fix_remaining_into_frame(margin=30).drop('index', axis=1)\n",
    "probeersel['rest'], probeersel['plastic'], probeersel['papier'], probeersel['glas'], probeersel['textiel'], probeersel['totaal'] = zip(*probeersel['aantal_per_fractie'].apply(lambda x: containers_per_cluster(x)))\n",
    "new_result = result.append([probeersel],ignore_index=True)"
   ]
  },
  {
   "cell_type": "markdown",
   "metadata": {},
   "source": [
    "### Load in distances matrix from postgres DB\n",
    "The afv_poi_afstand is used toa find all distances. The pois here can be used later on to couple them to the objects they actually belong to. First step is the loading of the distances however."
   ]
  },
  {
   "cell_type": "code",
   "execution_count": 13,
   "metadata": {},
   "outputs": [],
   "source": [
    "df_afstandn2 = get_dataframe(\"\"\"SELECT * \n",
    "                                FROM proj_afval_netwerk.afv_poi_afstand\n",
    "                                WHERE afstand < 1000\"\"\")"
   ]
  },
  {
   "cell_type": "markdown",
   "metadata": {},
   "source": [
    "### Join distances matrix with POI clusters"
   ]
  },
  {
   "cell_type": "code",
   "execution_count": 14,
   "metadata": {},
   "outputs": [],
   "source": [
    "tst = df_afstandn2.set_index('naar_s1_afv_nodes').join(df_afstandn3.set_index('s1_afv_nodes')).reset_index().rename(columns={'index': 'naar_s1_afv_nodes'})"
   ]
  },
  {
   "cell_type": "markdown",
   "metadata": {},
   "source": [
    "### Join distances matrix with enriched garbage clusters\n",
    "This is the last step of the general repetitive part. This makes this point a great endpoint to dump the outcome into a .csv to be used in other notebooks. This makes the next notebooks also a bit more compact and easy to read"
   ]
  },
  {
   "cell_type": "code",
   "execution_count": 15,
   "metadata": {},
   "outputs": [],
   "source": [
    "total_join = tst.set_index('van_s1_afv_nodes').join(new_result.set_index('s1_afv_nodes'), rsuffix='_right', how='left')"
   ]
  },
  {
   "cell_type": "code",
   "execution_count": 16,
   "metadata": {},
   "outputs": [],
   "source": [
    "total_join = total_join.fillna(method='ffill', limit=1)\n",
    "total_join = total_join.reset_index().rename(columns={'index': 'van_s1_afv_nodes'}).sort_values(by='afstand')"
   ]
  },
  {
   "cell_type": "code",
   "execution_count": 17,
   "metadata": {},
   "outputs": [],
   "source": [
    "to_csv = False\n",
    "if to_csv:\n",
    "    total_join[['van_s1_afv_nodes', 'naar_s1_afv_nodes', 'afstand', 'bk_afv_rel_nodes_poi', 'cluster_x', 'cluster_y', 'volume_per_fractie', 'rest', 'plastic', 'papier', 'glas', 'textiel', 'totaal']].to_csv('cluster_join.csv', compression='gzip')"
   ]
  },
  {
   "cell_type": "markdown",
   "metadata": {},
   "source": [
    "### Calculate shortest distance to all fractions\n",
    "This part is on finding the shortest distance from every house to its nearest container for all fractions"
   ]
  },
  {
   "cell_type": "code",
   "execution_count": 18,
   "metadata": {},
   "outputs": [],
   "source": [
    "# def shortest_distance(house_poi, fractie, df = total_join):\n",
    "#     \"\"\"\n",
    "#     Search method to find nearest container for a certain house of a fraction.\n",
    "#     It takes as input the house_poi_number, fraction and a dataframe to look in\n",
    "#     Output is the distance to the nearest container of that fraction\n",
    "#     \"\"\"\n",
    "#     possibilities = df[df['naar_s1_afv_nodes'] == house_poi].sort_values(by='afstand', ascending=True)[[fractie, 'afstand']]\n",
    "# #     print(possibilities)\n",
    "    \n",
    "#     for i in range(possibilities.shape[0]):\n",
    "#         if possibilities.iloc[i][fractie] > 0:\n",
    "#             return possibilities.iloc[i]['afstand']\n",
    "#     return np.nan\n",
    "\n",
    "# def shortest_distance_container(x, fractie, df = total_join):\n",
    "#     \"\"\"\n",
    "#     Search method to find nearest container for a certain house of a fraction.\n",
    "#     It takes as input the house_poi_number, fraction and a dataframe to look in\n",
    "#     Output is the distance to the nearest container of that fraction\n",
    "#     \"\"\"\n",
    "#     possibilities = df[df['naar_s1_afv_nodes'] == x['naar_s1_afv_nodes']].sort_values(by='afstand', ascending=True)[[fractie, 'afstand', 'van_s1_afv_nodes']]\n",
    "    \n",
    "#     for i in range(possibilities.shape[0]):\n",
    "#         if possibilities.iloc[i][fractie] > 0:\n",
    "# #             print(possibilities.iloc[i]['afstand'], possibilities.iloc[i]['s1_afv_poi_van'])\n",
    "#             return possibilities.iloc[i]['afstand'], possibilities.iloc[i]['naar_s1_afv_nodes']\n",
    "# #     print('a')\n",
    "#     return np.nan, np.nan\n",
    "\n",
    "def shortest_distance(house_poi, fractie):\n",
    "    try:\n",
    "        possibilities = total_join[(total_join['naar_s1_afv_nodes'] == house_poi) & (total_join[fractie] > 0)].sort_values(by='afstand')\n",
    "#         print(possibilities.iloc[0]['afstand'])\n",
    "        return possibilities.iloc[0]['afstand'], possibilities.iloc[0]['van_s1_afv_nodes']\n",
    "    except:\n",
    "        print('nothing')\n",
    "        return np.nan, np.nan"
   ]
  },
  {
   "cell_type": "code",
   "execution_count": 19,
   "metadata": {},
   "outputs": [],
   "source": [
    "all_households1 = total_join[['naar_s1_afv_nodes', 'bk_afv_rel_nodes_poi']].drop_duplicates()\n",
    "all_households1['woning'] = all_households1['bk_afv_rel_nodes_poi'].str.split('~')\n",
    "all_households1['woning_x'] = all_households1['woning'].apply(lambda x: x[0])\n",
    "all_households1['woning_y'] = all_households1['woning'].apply(lambda x: x[1])\n",
    "all_households1 = all_households1.drop('bk_afv_rel_nodes_poi', axis=1)"
   ]
  },
  {
   "cell_type": "code",
   "execution_count": 20,
   "metadata": {
    "scrolled": true
   },
   "outputs": [],
   "source": [
    "slow = False\n",
    "if slow:\n",
    "    all_households = all_households1[:1000]\n",
    "    for i in ['rest', 'papier', 'plastic', 'textiel', 'glas']:\n",
    "        print('****************************************************************')\n",
    "        afstand = 'afstand_' + i\n",
    "        poi = i + '_poi'\n",
    "        all_households[afstand], all_households[poi] = zip(*all_households.apply(lambda x: shortest_distance(x['naar_s1_afv_nodes'], i), axis=1))    "
   ]
  },
  {
   "cell_type": "code",
   "execution_count": 21,
   "metadata": {
    "scrolled": true
   },
   "outputs": [
    {
     "data": {
      "text/plain": [
       "woning                 0\n",
       "woning_x               0\n",
       "woning_y               0\n",
       "poi_rest            3210\n",
       "rest_afstand        3210\n",
       "poi_plastic         1695\n",
       "plastic_afstand     1695\n",
       "poi_papier          1327\n",
       "papier_afstand      1327\n",
       "poi_glas            1381\n",
       "glas_afstand        1381\n",
       "poi_textiel        11050\n",
       "textiel_afstand    11050\n",
       "dtype: int64"
      ]
     },
     "execution_count": 21,
     "metadata": {},
     "output_type": "execute_result"
    }
   ],
   "source": [
    "shortest_rest = total_join[total_join['rest'] > 0].groupby('naar_s1_afv_nodes').first()[['van_s1_afv_nodes', 'afstand']].rename(columns={'van_s1_afv_nodes': 'poi_rest', 'afstand': 'rest_afstand'})\n",
    "shortest_plastic = total_join[total_join['plastic'] > 0].groupby('naar_s1_afv_nodes').first()[['van_s1_afv_nodes', 'afstand']].rename(columns={'van_s1_afv_nodes': 'poi_plastic', 'afstand': 'plastic_afstand'})\n",
    "shortest_papier = total_join[total_join['papier'] > 0].groupby('naar_s1_afv_nodes').first()[['van_s1_afv_nodes', 'afstand']].rename(columns={'van_s1_afv_nodes': 'poi_papier', 'afstand': 'papier_afstand'})\n",
    "shortest_glas = total_join[total_join['glas'] > 0].groupby('naar_s1_afv_nodes').first()[['van_s1_afv_nodes', 'afstand']].rename(columns={'van_s1_afv_nodes': 'poi_glas', 'afstand': 'glas_afstand'})\n",
    "shortest_textiel = total_join[total_join['textiel'] > 0].groupby('naar_s1_afv_nodes').first()[['van_s1_afv_nodes', 'afstand']].rename(columns={'van_s1_afv_nodes': 'poi_textiel', 'afstand': 'textiel_afstand'})\n",
    "\n",
    "all_households = all_households1.set_index('naar_s1_afv_nodes').join([shortest_rest, shortest_plastic, shortest_papier, shortest_glas, shortest_textiel], how='left')\n",
    "all_households.isna().sum()"
   ]
  },
  {
   "cell_type": "markdown",
   "metadata": {},
   "source": [
    "### Filter results on location and general waste garbage plan\n",
    "Some of the households are not located within the areas where general waste is collected. Another column should be added to all_households to obtain whether or not it is part of this area"
   ]
  },
  {
   "cell_type": "code",
   "execution_count": 22,
   "metadata": {},
   "outputs": [],
   "source": [
    "import geopandas as gpd\n",
    "import shapely\n",
    "\n",
    "source = gpd.read_file('../data/Inzameling_huisvuil_100220.shp')\n",
    "source = source[source['aanbiedwij'] == 'Breng uw restafval  naar een container voor restafval.']\n",
    "polygons = list(source.geometry)\n",
    "\n",
    "def adress_in_service_area(x, y, polygon_list):\n",
    "    \"\"\"\n",
    "    function to see whether a certain household is within the service area of rest\n",
    "    Input is x and y coordinates of a house and a list of polygons of service area.\n",
    "    Returns boolean\n",
    "    \"\"\"\n",
    "    point = shapely.geometry.Point(float(x),float(y))\n",
    "    for polygon in polygon_list:\n",
    "        if polygon.contains(point):\n",
    "            return True\n",
    "    return False"
   ]
  },
  {
   "cell_type": "code",
   "execution_count": 30,
   "metadata": {},
   "outputs": [],
   "source": [
    "all_households['uses_container'] = all_households.apply(lambda row: adress_in_service_area(row['woning_x'], row['woning_y'], polygons), axis=1)\n",
    "good_result = all_households[all_households['uses_container']]"
   ]
  },
  {
   "cell_type": "markdown",
   "metadata": {},
   "source": [
    "### Calculate Score\n",
    "With this information available, it is possible to calculate the average weighted walking distance as part of the total score function"
   ]
  },
  {
   "cell_type": "code",
   "execution_count": 24,
   "metadata": {},
   "outputs": [],
   "source": [
    "def calculate_weighted_distance(good_result):\n",
    "    rest_mean = good_result['rest_afstand'].mean()\n",
    "    papier_mean = good_result['papier_afstand'].mean()\n",
    "    glas_mean = good_result['glas_afstand'].mean()\n",
    "    plastic_mean = good_result['plastic_afstand'].mean()\n",
    "    textiel_mean = good_result['textiel_afstand'].mean()\n",
    "#     rest_mean, papier_mean, glas_mean, plastic_mean, textiel_mean\n",
    "    score = 0.35 * rest_mean + 0.25 * plastic_mean + 0.2 * papier_mean + 0.15 * glas_mean + 0.05 * textiel_mean\n",
    "    return score"
   ]
  },
  {
   "cell_type": "code",
   "execution_count": 25,
   "metadata": {},
   "outputs": [],
   "source": [
    "avg_distance = calculate_weighted_distance(good_result)"
   ]
  },
  {
   "cell_type": "markdown",
   "metadata": {},
   "source": [
    "### Calculate Penalties for every configuration\n",
    "As discussed in the paper, there are certain policies regarding the placement of containers and the amount of households per container. The exact policies and their origin can be found in the report"
   ]
  },
  {
   "cell_type": "code",
   "execution_count": 26,
   "metadata": {},
   "outputs": [],
   "source": [
    "def create_aanlsuitingen(good_result, total_join):\n",
    "    \"\"\"\n",
    "    Function that returns dataframe aansluitingen that calculates amount of\n",
    "    households per cluster and the percentage\n",
    "    \"\"\"\n",
    "    aansluitingen = pd.DataFrame(good_result['poi_rest'].value_counts()).\\\n",
    "                join(pd.DataFrame(good_result['poi_papier'].value_counts()), how='outer').\\\n",
    "                join(pd.DataFrame(good_result['poi_plastic'].value_counts()), how='outer').\\\n",
    "                join(pd.DataFrame(good_result['poi_glas'].value_counts()), how='outer').\\\n",
    "                join(pd.DataFrame(good_result['poi_textiel'].value_counts()), how='outer')\n",
    "    \n",
    "    tmp_for_join = total_join[['van_s1_afv_nodes', 'rest', 'papier', 'plastic', 'glas', 'textiel', 'totaal']].drop_duplicates().set_index('van_s1_afv_nodes')\n",
    "    aansluitingen = aansluitingen.join(tmp_for_join, how='left')\n",
    "    \n",
    "    aansluitingen['rest_perc'] = aansluitingen['poi_rest'] / aansluitingen['rest']\n",
    "    aansluitingen['plastic_perc'] = aansluitingen['poi_plastic'] / aansluitingen['plastic'] / 2\n",
    "    aansluitingen['papier_perc'] = aansluitingen['poi_papier'] / aansluitingen['papier'] / 2\n",
    "    aansluitingen['glas_perc'] = aansluitingen['poi_glas'] / aansluitingen['glas'] / 2\n",
    "    aansluitingen['textiel_perc'] = aansluitingen['poi_textiel'] / aansluitingen['textiel'] / 7.5\n",
    "\n",
    "    return aansluitingen\n"
   ]
  },
  {
   "cell_type": "code",
   "execution_count": 27,
   "metadata": {},
   "outputs": [],
   "source": [
    "def calculate_penalties(good_result):\n",
    "    penalty1 = good_result[good_result['rest_afstand'] > 100]\n",
    "    penalty1_sum = (penalty1['rest_afstand'].sum() - 100 * penalty1.shape[0])/good_result.shape[0] * 0.35\n",
    "    penalty2 = good_result[good_result['plastic_afstand'] > 150]\n",
    "    penalty2_sum = (penalty2['plastic_afstand'].sum() - 150 * penalty2.shape[0])/good_result.shape[0] * 0.25\n",
    "    penalty3 = good_result[good_result['papier_afstand'] > 150]\n",
    "    penalty3_sum = (penalty3['papier_afstand'].sum() - 150 * penalty3.shape[0])/good_result.shape[0] * 0.2\n",
    "    penalty4 = good_result[good_result['glas_afstand'] > 150]\n",
    "    penalty4_sum = (penalty4['glas_afstand'].sum() - 150 * penalty4.shape[0])/good_result.shape[0] * 0.15\n",
    "    penalty5 = good_result[good_result['textiel_afstand'] > 300]\n",
    "    penalty5_sum = (penalty5['textiel_afstand'].sum() - 300 * penalty5.shape[0])/good_result.shape[0] * 0.05\n",
    "\n",
    "    penalty6 = aansluitingen[aansluitingen['rest_perc'] > 100]\n",
    "    penalty6_sum = (penalty6['poi_rest'] - (penalty6['rest'] * 100)).sum()/ good_result.shape[0] * 0.35 * 1000\n",
    "    penalty7 = aansluitingen[aansluitingen['plastic_perc'] > 100]\n",
    "    penalty7_sum = (penalty7['poi_plastic'] - (penalty7['plastic'] * 200)).sum()/ good_result.shape[0] * 0.25 * 1000\n",
    "    penalty8 = aansluitingen[aansluitingen['papier_perc'] > 100]\n",
    "    penalty8_sum = (penalty8['poi_papier'] - (penalty8['papier'] * 200)).sum()/ good_result.shape[0] * 0.2 * 1000\n",
    "    penalty9 = aansluitingen[aansluitingen['glas_perc'] > 100]\n",
    "    penalty9_sum = (penalty9['poi_glas'] - (penalty9['glas'] * 200)).sum()/ good_result.shape[0] * 0.15 * 1000\n",
    "    penalty10 = aansluitingen[aansluitingen['textiel_perc'] > 100]\n",
    "    penalty10_sum = (penalty10['poi_textiel'] - (penalty10['textiel'] * 750)).sum()/ good_result.shape[0] * 0.05 * 1000\n",
    "\n",
    "    total_penalties = sum([penalty1_sum, penalty2_sum, penalty3_sum, penalty4_sum, penalty5_sum,\\\n",
    "                           penalty6_sum, penalty7_sum, penalty8_sum, penalty9_sum, penalty10_sum])\n",
    "    return total_penalties"
   ]
  },
  {
   "cell_type": "code",
   "execution_count": 28,
   "metadata": {},
   "outputs": [],
   "source": [
    "aansluitingen = create_aanlsuitingen(good_result, total_join)\n",
    "penalties = calculate_penalties(good_result)"
   ]
  },
  {
   "cell_type": "markdown",
   "metadata": {},
   "source": [
    "### Final calculation\n",
    "The average weighted walking distance and penalties are summed to come up with the total score for this configuration."
   ]
  },
  {
   "cell_type": "code",
   "execution_count": 29,
   "metadata": {},
   "outputs": [
    {
     "data": {
      "text/plain": [
       "301.1170557429302"
      ]
     },
     "execution_count": 29,
     "metadata": {},
     "output_type": "execute_result"
    }
   ],
   "source": [
    "score = avg_distance + penalties\n",
    "score"
   ]
  },
  {
   "cell_type": "code",
   "execution_count": null,
   "metadata": {},
   "outputs": [],
   "source": []
  }
 ],
 "metadata": {
  "kernelspec": {
   "display_name": "Python 3",
   "language": "python",
   "name": "python3"
  },
  "language_info": {
   "codemirror_mode": {
    "name": "ipython",
    "version": 3
   },
   "file_extension": ".py",
   "mimetype": "text/x-python",
   "name": "python",
   "nbconvert_exporter": "python",
   "pygments_lexer": "ipython3",
   "version": "3.8.2"
  }
 },
 "nbformat": 4,
 "nbformat_minor": 4
}
