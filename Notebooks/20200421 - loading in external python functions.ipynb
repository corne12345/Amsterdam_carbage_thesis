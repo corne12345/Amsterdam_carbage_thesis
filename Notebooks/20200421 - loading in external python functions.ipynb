{
 "cells": [
  {
   "cell_type": "markdown",
   "metadata": {},
   "source": [
    "## Getting a random + hillclimber fixed using imports\n",
    "The goal of this notebook is to get the whole pipeline fixed using as less as code as possible by encapsulating most of the code as reusable code in external .py files"
   ]
  },
  {
   "cell_type": "code",
   "execution_count": 1,
   "metadata": {},
   "outputs": [
    {
     "name": "stdout",
     "output_type": "stream",
     "text": [
      "WelkomCorne!\n"
     ]
    }
   ],
   "source": [
    "import geopandas as gpd\n",
    "import shapely\n",
    "from getpass import getpass\n",
    "\n",
    "import sys\n",
    "import copy\n",
    "sys.path.append(\"../Code\")\n",
    "\n",
    "from helper_functions import *\n",
    "from loading_data import *\n",
    "from algorithms import *"
   ]
  },
  {
   "cell_type": "code",
   "execution_count": 2,
   "metadata": {},
   "outputs": [],
   "source": [
    "# polygons_list = load_geodata_containers()\n",
    "# api_df = load_api_data(prnt=False)\n",
    "# rel_poi_df = get_db_afvalcluster_info()\n",
    "# all_households= create_all_households(rel_poi_df).rename(columns={'s1_afv_nodes': 'naar_s1_afv_nodes'})\n",
    "# joined = join_api_db(rel_poi_df, api_df)\n",
    "# joined['rest'], joined['plastic'], joined['papier'], joined['glas'], joined['textiel'], joined['totaal'] = zip(*joined['aantal_per_fractie'].apply(lambda x: containers_per_cluster(x)))\n",
    "# df_afstandn2 = get_distance_matrix()\n",
    "# joined_cluster_distance = joined.set_index('s1_afv_nodes').join(df_afstandn2.set_index('van_s1_afv_nodes')).reset_index().rename(columns={'index': 'van_s1_afv_nodes'})\n",
    "# good_result = all_households[all_households['uses_container']]\n",
    "# good_result_rich = add_shortest_distances_to_all_households(all_households, joined_cluster_distance)\n",
    "# aansluitingen = create_aansluitingen(good_result_rich, joined_cluster_distance)\n",
    "# avg_distance = calculate_weighted_distance(good_result_rich)\n",
    "# penalties = calculate_penalties(good_result_rich, aansluitingen)"
   ]
  },
  {
   "cell_type": "code",
   "execution_count": 3,
   "metadata": {},
   "outputs": [],
   "source": [
    "# def total_pipeline():\n",
    "#     api_df = load_api_data(prnt=False)\n",
    "#     rel_poi_df = get_db_afvalcluster_info()\n",
    "#     all_households= create_all_households(rel_poi_df).rename(columns={'s1_afv_nodes': 'naar_s1_afv_nodes'})\n",
    "#     all_households.to_csv('households_in_area.csv')\n",
    "#     joined = join_api_db(rel_poi_df, api_df)\n",
    "#     joined['rest'], joined['plastic'], joined['papier'], joined['glas'], joined['textiel'], joined['totaal'] = zip(*joined['aantal_per_fractie'].apply(lambda x: containers_per_cluster(x)))\n",
    "#     df_afstandn2 = get_distance_matrix()\n",
    "#     joined_cluster_distance = joined.set_index('s1_afv_nodes').join(df_afstandn2.set_index('van_s1_afv_nodes')).reset_index().rename(columns={'index': 'van_s1_afv_nodes'})\n",
    "#     good_result_rich = add_shortest_distances_to_all_households(all_households, joined_cluster_distance)\n",
    "#     aansluitingen = create_aansluitingen(good_result_rich, joined_cluster_distance)\n",
    "#     avg_distance = calculate_weighted_distance(good_result_rich)\n",
    "#     penalties = calculate_penalties(good_result_rich, aansluitingen)\n",
    "#     return joined_cluster_distance, joined, all_households, aansluitingen, good_result_rich\n",
    "    \n",
    "    "
   ]
  },
  {
   "cell_type": "code",
   "execution_count": 4,
   "metadata": {},
   "outputs": [],
   "source": [
    "# joined_cluster_distance, joined, all_households, aansluitingen, good_results_rich, avg_distance, penalties = total_pipeline(random=True)"
   ]
  },
  {
   "cell_type": "code",
   "execution_count": 5,
   "metadata": {},
   "outputs": [],
   "source": [
    "# def random_shuffling_clusters(cluster_join):\n",
    "#     df = cluster_join.set_index('s1_afv_nodes')[['rest', 'plastic', 'papier', 'glas', 'textiel', 'totaal']]\n",
    "#     df = df[df['totaal'] < 80]\n",
    "#     df = df.fillna(0)\n",
    "    \n",
    "#     fractionlist = df['rest'].astype('int').sum() * ['rest'] + df['plastic']\\\n",
    "#     .astype('int').sum() * ['plastic'] + df['papier'].astype('int').sum() * \\\n",
    "#     ['papier'] + df['glas'].astype('int').sum() * ['glas'] + df['textiel'].\\\n",
    "#     astype('int').sum() * ['textiel']\n",
    "#     random.shuffle(fractionlist)\n",
    "    \n",
    "#     cluster_list = list()\n",
    "#     for i in df.index:\n",
    "#         cluster_list.extend([str(i)] * df.loc[i].totaal.astype('int'))\n",
    "\n",
    "#     df_new = pd.DataFrame([cluster_list, fractionlist]).T.rename(columns={0:'poi', 1:'fractie'})\n",
    "#     df_new['poi'] = df_new['poi'].astype('float').round(0).astype('int')\n",
    "#     df_new_apply = df_new.groupby('poi').fractie.value_counts().unstack()\n",
    "    \n",
    "#     cluster_join1 = cluster_join.drop(['rest', 'plastic', 'papier', 'glas', 'textiel'], axis=1)\n",
    "#     cluster_join1['s1_afv_nodes'] = cluster_join1['s1_afv_nodes'].astype('int')\n",
    "    \n",
    "#     cluster_join1 = cluster_join1.set_index('s1_afv_nodes')\n",
    "#     return cluster_join1.join(df_new_apply, how='left').reset_index()\\\n",
    "#             .rename(columns={'index': 's1_afv_nodes'}).fillna(0)"
   ]
  },
  {
   "cell_type": "code",
   "execution_count": 6,
   "metadata": {},
   "outputs": [
    {
     "name": "stdout",
     "output_type": "stream",
     "text": [
      "API data loaded\n",
      "a\n",
      "DB relation POIs loaded\n",
      "b\n",
      "Table all households created\n",
      "API and DB joined\n",
      "containers per cluster determined\n",
      "distance matrix loaded\n"
     ]
    }
   ],
   "source": [
    "all_households, rel_poi_df, joined, df_afstandn2 = initial_loading()"
   ]
  },
  {
   "cell_type": "code",
   "execution_count": 7,
   "metadata": {},
   "outputs": [
    {
     "name": "stdout",
     "output_type": "stream",
     "text": [
      "176.9526082811239 119.39493985558994\n",
      "181.8554998702345 111.84777012087068\n",
      "180.14476939375967 111.32736152327048\n",
      "***************************************\n",
      "180.14476939375967 111.32736152327048\n"
     ]
    }
   ],
   "source": [
    "def best_of_random(num_iterations, joined, all_households, rel_poi_df, df_afstandn2):\n",
    "    joined_cluster_distance, good_result_rich, aansluitingen, avg_distance, penalties = analyze_candidate_solution(joined, all_households, rel_poi_df, df_afstandn2, clean=True)\n",
    "    \n",
    "    for i in range(num_iterations):\n",
    "        joined2 = random_shuffling_clusters(joined)\n",
    "        joined_cluster_distance2, good_result_rich2, aansluitingen2, avg_distance2, penalties2 = analyze_candidate_solution(joined2, all_households, rel_poi_df, df_afstandn2, clean=True)\n",
    "        if penalties2 < penalties:\n",
    "            joined = joined2\n",
    "            joined_cluster_distance = joined_cluster_distance2\n",
    "            good_result_rich = good_result_rich2\n",
    "            aansluitingen = aansluitingen2\n",
    "            avg_distance = avg_distance2\n",
    "            penalties = penalties2\n",
    "\n",
    "    print('***************************************')\n",
    "    print(avg_distance, penalties)\n",
    "    return joined_cluster_distance, good_result_rich, aansluitingen, avg_distance, penalties\n",
    "\n",
    "joined_cluster_distance, good_result_rich, aansluitingen, avg_distance, penalties = \\\n",
    "best_of_random(2, joined, all_households, rel_poi_df, df_afstandn2)"
   ]
  },
  {
   "cell_type": "code",
   "execution_count": 8,
   "metadata": {},
   "outputs": [],
   "source": [
    "def hillclimber(num_iterations, joined, all_households, rel_poi_df, df_afstandn2, mod_max = 5, parameter='score', complicated=True):\n",
    "    joined_cluster_distance, good_result_rich, aansluitingen, avg_distance, penalties = analyze_candidate_solution(joined, all_households, rel_poi_df, df_afstandn2, clean=True)\n",
    "    hillclimber_dict = {}\n",
    "    \n",
    "    if parameter == 'score':\n",
    "        best = avg_distance + penalties\n",
    "        hillclimber_dict[0] = [avg_distance, penalties, avg_distance+penalties]\n",
    "    if parameter == 'penalties':\n",
    "        best = penalties\n",
    "        hillclimber_dict[0] = [avg_distance, penalties, penalties]\n",
    "    \n",
    "    r = copy.deepcopy(joined)\n",
    "    for i in range(1, num_iterations+1):\n",
    "        fractions = ['rest', 'plastic', 'papier', 'glas', 'textiel']\n",
    "        no_modifications = random.randint(1, mod_max)\n",
    "#         print(no_modifications)\n",
    "        for j in range(no_modifications):\n",
    "            valid = False\n",
    "            while not valid:\n",
    "                location_a = random.randint(0, r.shape[0]-1)\n",
    "                fraction_a = random.choice(fractions)\n",
    "                location_b = random.randint(0, r.shape[0]-1)\n",
    "                fraction_b = random.choice(fractions)\n",
    "\n",
    "                if r.at[location_a, fraction_b] > 0 and r.at[location_b, fraction_a] > 0\\\n",
    "                                                    and fraction_a != fraction_b:\n",
    "                    r.at[location_a, fraction_a] = int(r.at[location_a, fraction_a]) + 1\n",
    "                    r.at[location_a, fraction_b] = int(r.at[location_a, fraction_b]) - 1\n",
    "                    r.at[location_b, fraction_a] = int(r.at[location_a, fraction_b]) - 1\n",
    "                    r.at[location_b, fraction_b] = int(r.at[location_a, fraction_b]) + 1\n",
    "                    valid = True\n",
    "    \n",
    "        joined_cluster_distance2, good_result_rich2, aansluitingen2, avg_distance2, penalties2 = analyze_candidate_solution(r, all_households, rel_poi_df, df_afstandn2, clean=True)\n",
    "        hillclimber_dict[i] = [avg_distance2, penalties2, best, no_modifications]\n",
    "        if parameter == 'score':\n",
    "            print(avg_distance2+penalties2, best)\n",
    "            if avg_distance2+penalties2 < best:\n",
    "                best = avg_distance2+penalties2\n",
    "            else:\n",
    "                r = copy.deepcopy(joined)\n",
    "        if parameter == 'penalties':\n",
    "            print(penalties2, best)\n",
    "            if penalties2 < best:\n",
    "                best = penalties2\n",
    "            else:\n",
    "                r = copy.deepcopy(joined)\n",
    "    return hillclimber_dict, r"
   ]
  },
  {
   "cell_type": "code",
   "execution_count": 9,
   "metadata": {},
   "outputs": [
    {
     "name": "stdout",
     "output_type": "stream",
     "text": [
      "176.9526082811239 119.39493985558994\n",
      "177.13484106499422 119.61246316132844\n",
      "119.61246316132844 119.39493985558994\n",
      "176.7790386300298 118.8433262582983\n",
      "118.8433262582983 119.39493985558994\n",
      "176.7779392197273 118.84389602563763\n",
      "118.84389602563763 118.8433262582983\n",
      "176.94672961872226 119.39325478942402\n",
      "119.39325478942402 118.8433262582983\n",
      "176.99298500230628 119.47770688195932\n",
      "119.47770688195932 118.8433262582983\n",
      "176.99965088996166 119.43245355603165\n",
      "119.43245355603165 118.8433262582983\n",
      "176.95241181902497 119.39513100055541\n",
      "119.39513100055541 118.8433262582983\n",
      "176.97351304106485 119.40640386768582\n",
      "119.40640386768582 118.8433262582983\n",
      "177.1605227219958 119.67704044010685\n",
      "119.67704044010685 118.8433262582983\n",
      "177.2414368338767 119.46942913503838\n",
      "119.46942913503838 118.8433262582983\n"
     ]
    }
   ],
   "source": [
    "dct, best_configuration = hillclimber(10, joined, all_households, rel_poi_df, df_afstandn2, parameter='penalties')"
   ]
  },
  {
   "cell_type": "code",
   "execution_count": 10,
   "metadata": {},
   "outputs": [],
   "source": [
    "dct_to_df = pd.DataFrame.from_dict(dct, orient='index').rename(columns={0: 'avg_distance', 1:'penalties', 2:'best_penalty'})"
   ]
  },
  {
   "cell_type": "code",
   "execution_count": 11,
   "metadata": {},
   "outputs": [
    {
     "data": {
      "text/plain": [
       "<matplotlib.axes._subplots.AxesSubplot at 0x1a9b82daac0>"
      ]
     },
     "execution_count": 11,
     "metadata": {},
     "output_type": "execute_result"
    },
    {
     "data": {
      "image/png": "[encoded data removed]",
      "text/plain": [
       "<Figure size 432x288 with 1 Axes>"
      ]
     },
     "metadata": {
      "needs_background": "light"
     },
     "output_type": "display_data"
    }
   ],
   "source": [
    "dct_to_df['best_penalty'].plot()"
   ]
  },
  {
   "cell_type": "code",
   "execution_count": 12,
   "metadata": {},
   "outputs": [
    {
     "data": {
      "text/html": [
       "<div>\n",
       "<style scoped>\n",
       "    .dataframe tbody tr th:only-of-type {\n",
       "        vertical-align: middle;\n",
       "    }\n",
       "\n",
       "    .dataframe tbody tr th {\n",
       "        vertical-align: top;\n",
       "    }\n",
       "\n",
       "    .dataframe thead th {\n",
       "        text-align: right;\n",
       "    }\n",
       "</style>\n",
       "<table border=\"1\" class=\"dataframe\">\n",
       "  <thead>\n",
       "    <tr style=\"text-align: right;\">\n",
       "      <th></th>\n",
       "      <th>avg_distance</th>\n",
       "      <th>penalties</th>\n",
       "      <th>best_penalty</th>\n",
       "      <th>3</th>\n",
       "    </tr>\n",
       "  </thead>\n",
       "  <tbody>\n",
       "    <tr>\n",
       "      <th>0</th>\n",
       "      <td>176.952608</td>\n",
       "      <td>119.394940</td>\n",
       "      <td>119.394940</td>\n",
       "      <td>NaN</td>\n",
       "    </tr>\n",
       "    <tr>\n",
       "      <th>1</th>\n",
       "      <td>177.134841</td>\n",
       "      <td>119.612463</td>\n",
       "      <td>119.394940</td>\n",
       "      <td>5.0</td>\n",
       "    </tr>\n",
       "    <tr>\n",
       "      <th>2</th>\n",
       "      <td>176.779039</td>\n",
       "      <td>118.843326</td>\n",
       "      <td>119.394940</td>\n",
       "      <td>5.0</td>\n",
       "    </tr>\n",
       "    <tr>\n",
       "      <th>3</th>\n",
       "      <td>176.777939</td>\n",
       "      <td>118.843896</td>\n",
       "      <td>118.843326</td>\n",
       "      <td>4.0</td>\n",
       "    </tr>\n",
       "    <tr>\n",
       "      <th>4</th>\n",
       "      <td>176.946730</td>\n",
       "      <td>119.393255</td>\n",
       "      <td>118.843326</td>\n",
       "      <td>1.0</td>\n",
       "    </tr>\n",
       "    <tr>\n",
       "      <th>5</th>\n",
       "      <td>176.992985</td>\n",
       "      <td>119.477707</td>\n",
       "      <td>118.843326</td>\n",
       "      <td>2.0</td>\n",
       "    </tr>\n",
       "    <tr>\n",
       "      <th>6</th>\n",
       "      <td>176.999651</td>\n",
       "      <td>119.432454</td>\n",
       "      <td>118.843326</td>\n",
       "      <td>5.0</td>\n",
       "    </tr>\n",
       "    <tr>\n",
       "      <th>7</th>\n",
       "      <td>176.952412</td>\n",
       "      <td>119.395131</td>\n",
       "      <td>118.843326</td>\n",
       "      <td>1.0</td>\n",
       "    </tr>\n",
       "    <tr>\n",
       "      <th>8</th>\n",
       "      <td>176.973513</td>\n",
       "      <td>119.406404</td>\n",
       "      <td>118.843326</td>\n",
       "      <td>3.0</td>\n",
       "    </tr>\n",
       "    <tr>\n",
       "      <th>9</th>\n",
       "      <td>177.160523</td>\n",
       "      <td>119.677040</td>\n",
       "      <td>118.843326</td>\n",
       "      <td>3.0</td>\n",
       "    </tr>\n",
       "    <tr>\n",
       "      <th>10</th>\n",
       "      <td>177.241437</td>\n",
       "      <td>119.469429</td>\n",
       "      <td>118.843326</td>\n",
       "      <td>4.0</td>\n",
       "    </tr>\n",
       "  </tbody>\n",
       "</table>\n",
       "</div>"
      ],
      "text/plain": [
       "    avg_distance   penalties  best_penalty    3\n",
       "0     176.952608  119.394940    119.394940  NaN\n",
       "1     177.134841  119.612463    119.394940  5.0\n",
       "2     176.779039  118.843326    119.394940  5.0\n",
       "3     176.777939  118.843896    118.843326  4.0\n",
       "4     176.946730  119.393255    118.843326  1.0\n",
       "5     176.992985  119.477707    118.843326  2.0\n",
       "6     176.999651  119.432454    118.843326  5.0\n",
       "7     176.952412  119.395131    118.843326  1.0\n",
       "8     176.973513  119.406404    118.843326  3.0\n",
       "9     177.160523  119.677040    118.843326  3.0\n",
       "10    177.241437  119.469429    118.843326  4.0"
      ]
     },
     "execution_count": 12,
     "metadata": {},
     "output_type": "execute_result"
    }
   ],
   "source": [
    "dct_to_df"
   ]
  },
  {
   "cell_type": "code",
   "execution_count": null,
   "metadata": {},
   "outputs": [],
   "source": []
  }
 ],
 "metadata": {
  "kernelspec": {
   "display_name": "Python 3",
   "language": "python",
   "name": "python3"
  },
  "language_info": {
   "codemirror_mode": {
    "name": "ipython",
    "version": 3
   },
   "file_extension": ".py",
   "mimetype": "text/x-python",
   "name": "python",
   "nbconvert_exporter": "python",
   "pygments_lexer": "ipython3",
   "version": "3.8.2"
  }
 },
 "nbformat": 4,
 "nbformat_minor": 4
}
