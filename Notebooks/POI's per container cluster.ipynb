{
 "cells": [
  {
   "cell_type": "markdown",
   "metadata": {},
   "source": [
    "### Aantal POIs per cluster\n",
    "Dit notebook berekent het aantal POIs per cluster"
   ]
  },
  {
   "cell_type": "code",
   "execution_count": null,
   "metadata": {},
   "outputs": [],
   "source": [
    "#Alleen nodig voor mijn eigen structuur\n",
    "import sys\n",
    "sys.path.append(\"../Code\")\n",
    "\n",
    "from helper_functions import *\n",
    "from loading_data import *"
   ]
  },
  {
   "cell_type": "code",
   "execution_count": null,
   "metadata": {},
   "outputs": [],
   "source": [
    "all_households, rel_poi_df, joined, df_afstandn2 = initial_loading()"
   ]
  },
  {
   "cell_type": "code",
   "execution_count": null,
   "metadata": {},
   "outputs": [],
   "source": [
    "joined_cluster_distance = joined.set_index('s1_afv_nodes').join(df_afstandn2.set_index('van_s1_afv_nodes')).reset_index().rename(columns={'index': 'van_s1_afv_nodes'})\n",
    "good_result_rich = add_shortest_distances_to_all_households(all_households, joined_cluster_distance)\n",
    "aansluitingen = create_aansluitingen(good_result_rich, joined_cluster_distance)\n",
    "aansluitingen = aansluitingen[['poi_rest', 'poi_plastic', 'poi_papier', 'poi_glas', 'poi_textiel', 'rest', 'plastic', 'papier', 'glas', 'textiel', 'totaal']]"
   ]
  }
 ],
 "metadata": {
  "kernelspec": {
   "display_name": "Python 3",
   "language": "python",
   "name": "python3"
  },
  "language_info": {
   "codemirror_mode": {
    "name": "ipython",
    "version": 3
   },
   "file_extension": ".py",
   "mimetype": "text/x-python",
   "name": "python",
   "nbconvert_exporter": "python",
   "pygments_lexer": "ipython3",
   "version": "3.8.2"
  }
 },
 "nbformat": 4,
 "nbformat_minor": 4
}
