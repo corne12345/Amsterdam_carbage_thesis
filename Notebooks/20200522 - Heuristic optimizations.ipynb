{
 "cells": [
  {
   "cell_type": "markdown",
   "metadata": {},
   "source": [
    "## Heuristic optimizations\n",
    "There are multiple tweaks needed to get the final product working as desired. \n",
    "\n",
    "[Validation of pipeline](#section00)\n",
    "\n",
    "[Simple penalty function](#section0)\n",
    "\n",
    "[Exclusion of areas in Noord](#section1)"
   ]
  },
  {
   "cell_type": "code",
   "execution_count": 100,
   "metadata": {},
   "outputs": [],
   "source": [
    "import sys\n",
    "import geopandas as gpd\n",
    "import pandas as pd\n",
    "import numpy as np\n",
    "import shapely\n",
    "\n",
    "sys.path.append(\"../\")\n",
    "\n",
    "from Code.helper_functions import initial_loading, analyze_candidate_solution,\\\n",
    "add_shortest_distances_to_all_households, calculate_weighted_distance\n",
    "from Code.loading_data import distance_matrix_with_counts, load_api_data,\\\n",
    "create_all_households, create_aansluitingen"
   ]
  },
  {
   "cell_type": "markdown",
   "metadata": {},
   "source": [
    "<a id='section00'></a>\n",
    "## Validation of pipeline\n",
    "\n",
    "There were a lot of small problems with the initial pipeline, which resulted in a need to validate all parts of this:\n",
    "- amount of households per bag\n",
    "- total households\n",
    "- locations\n",
    "- Exclusion of some rural areas (Ransdorp, Durgerdam etc.)\n",
    "- Penalties\n",
    "- Check amount of households in total\n",
    "- Search for rural areas and exclude those possibly\n",
    "- Exclude households that have more than 1000 meters walking distance\n"
   ]
  },
  {
   "cell_type": "code",
   "execution_count": null,
   "metadata": {},
   "outputs": [],
   "source": [
    "rel_poi_df = pd.read_csv('../Data/postgres_db/info_pois.csv', index_col='Unnamed: 0')\n",
    "rel_poi_df.head()\n",
    "# rel_poi_df = rel_poi_df[['bk_afv_rel_nodes_poi','s1_afv_nodes', 's1_afv_poi', 'cluster_x', 'cluster_y', 'type', 'bag']]"
   ]
  },
  {
   "cell_type": "code",
   "execution_count": null,
   "metadata": {},
   "outputs": [],
   "source": [
    "# rel_poi_df['bag'].value_counts()\n",
    "# rel_poi_df[rel_poi_df['bag'] == '363100012241555']\n",
    "# df = pd.read_csv('../Data/households_per_cluster.csv')\n",
    "# df[df['ligtin_bag_pnd_identificatie'] == '0363100012241555']\n",
    "info_poi = pd.read_csv('../Data/postgres_db/afv_poi.csv')\n",
    "temp = rel_poi_df.groupby('bag').first().reset_index().rename(columns={0:'bag'})"
   ]
  },
  {
   "cell_type": "code",
   "execution_count": null,
   "metadata": {},
   "outputs": [],
   "source": [
    "inpt_dfob = pd.read_csv('../Data/postgres_db/addresses_per_cluster.csv')\n",
    "inpt_dis = pd.read_csv('../Data/postgres_db/distance_matrix.csv')"
   ]
  },
  {
   "cell_type": "code",
   "execution_count": null,
   "metadata": {
    "scrolled": false
   },
   "outputs": [],
   "source": [
    "df_afstandn2 = distance_matrix_with_counts(inpt_dfob=inpt_dfob,\n",
    "                                                       inpt_poi=rel_poi_df,\n",
    "                                                       inpt_dis=inpt_dis,\n",
    "                                                       get_data=False)"
   ]
  },
  {
   "cell_type": "code",
   "execution_count": null,
   "metadata": {},
   "outputs": [],
   "source": [
    "api_df = load_api_data(subsectie=None)"
   ]
  },
  {
   "cell_type": "code",
   "execution_count": 2,
   "metadata": {},
   "outputs": [
    {
     "name": "stdout",
     "output_type": "stream",
     "text": [
      "Do you want to use addresses instead of clusters?True\n",
      "What stadsdeel do you want to make as a subsection(optional parameter)?\n",
      "What is the maximum amount of containers in a cluster that is considered to be useful?8\n",
      "Where to get db files(local/online)?local\n",
      "DB relation POIs loaded\n",
      "446641\n",
      "446641\n"
     ]
    },
    {
     "name": "stderr",
     "output_type": "stream",
     "text": [
      "..\\Code\\loading_data.py:362: SettingWithCopyWarning: \n",
      "A value is trying to be set on a copy of a slice from a DataFrame.\n",
      "Try using .loc[row_indexer,col_indexer] = value instead\n",
      "\n",
      "See the caveats in the documentation: https://pandas.pydata.org/pandas-docs/stable/user_guide/indexing.html#returning-a-view-versus-a-copy\n",
      "  df2['ligtin_bag_pnd_identificatie'] = \\\n",
      "..\\Code\\loading_data.py:371: SettingWithCopyWarning: \n",
      "A value is trying to be set on a copy of a slice from a DataFrame.\n",
      "Try using .loc[row_indexer,col_indexer] = value instead\n",
      "\n",
      "See the caveats in the documentation: https://pandas.pydata.org/pandas-docs/stable/user_guide/indexing.html#returning-a-view-versus-a-copy\n",
      "  verblijfsobjecten['bag'] = verblijfsobjecten.loc[:, 'bag']\\\n"
     ]
    },
    {
     "name": "stdout",
     "output_type": "stream",
     "text": [
      "446257.0\n",
      "Index(['van_s1_afv_nodes', 'naar_s1_afv_nodes', 'afstand', 'count'], dtype='object')\n",
      "distance matrix loaded\n",
      "API data loaded\n",
      "Table all households created\n",
      "API and DB joined\n",
      "containers per cluster determined\n",
      "move_rest determined\n"
     ]
    }
   ],
   "source": [
    "# automatic\n",
    "all_households, rel_poi_df, joined, df_afstandn2 = initial_loading()"
   ]
  },
  {
   "cell_type": "markdown",
   "metadata": {},
   "source": [
    "### Find areas to exclude"
   ]
  },
  {
   "cell_type": "code",
   "execution_count": 6,
   "metadata": {},
   "outputs": [],
   "source": [
    "joined_cluster_distance = joined.set_index('s1_afv_nodes')\\\n",
    "    .join(df_afstandn2.set_index('van_s1_afv_nodes')).reset_index()\\\n",
    "    .rename(columns={'index':'van_s1_afv_nodes'})"
   ]
  },
  {
   "cell_type": "code",
   "execution_count": 87,
   "metadata": {},
   "outputs": [
    {
     "data": {
      "text/plain": [
       "47368"
      ]
     },
     "execution_count": 87,
     "metadata": {},
     "output_type": "execute_result"
    }
   ],
   "source": [
    "good_result = add_shortest_distances_to_all_households(all_households,\n",
    "                                                      joined_cluster_distance,\n",
    "                                                      use_count=True)\n",
    "good_result['rest_afstand'].isna().sum()"
   ]
  },
  {
   "cell_type": "code",
   "execution_count": 108,
   "metadata": {},
   "outputs": [],
   "source": [
    "good_result['count'] = good_result['count'].fillna(0)\n",
    "good_result[['poi_rest', 'poi_plastic', 'poi_papier', 'poi_glas', 'poi_textiel']] = good_result[['poi_rest', 'poi_plastic', 'poi_papier', 'poi_glas', 'poi_textiel']].fillna(999)\n",
    "good_result[['rest_afstand', 'plastic_afstand', 'papier_afstand', 'glas_afstand', 'textiel_afstand']] = good_result[['rest_afstand', 'plastic_afstand', 'papier_afstand', 'glas_afstand', 'textiel_afstand']].fillna(2000)\n",
    "\n",
    "\n",
    "good_result.loc[~good_result['uses_container'],\n",
    "                        'rest_afstand'] = np.nan\n",
    "good_result.loc[~good_result['uses_container'], 'poi_rest'] = np.nan\n",
    "# good_result"
   ]
  },
  {
   "cell_type": "code",
   "execution_count": 109,
   "metadata": {},
   "outputs": [],
   "source": [
    "aansluitingen = create_aansluitingen(good_result, joined_cluster_distance, use_count=True)"
   ]
  },
  {
   "cell_type": "code",
   "execution_count": 124,
   "metadata": {},
   "outputs": [
    {
     "data": {
      "text/plain": [
       "62.22752463667192"
      ]
     },
     "execution_count": 124,
     "metadata": {},
     "output_type": "execute_result"
    }
   ],
   "source": [
    "(good_result['rest_afstand'] * good_result['count']).sum()/good_result['count'].sum()"
   ]
  },
  {
   "cell_type": "code",
   "execution_count": 125,
   "metadata": {},
   "outputs": [],
   "source": [
    "def calculate_weighted_distance(good_result, use_count=False, w_rest=0.61,\n",
    "                                w_plas=0.089, w_papi=0.16, w_glas=0.11,\n",
    "                                w_text=0.025, return_all=False):\n",
    "    \"\"\"\n",
    "    Calculate weighted distance of an input dataframe.\n",
    "\n",
    "    Function to calculated the weighted average walking distance as part of the\n",
    "    score function. It calculates the mean difference per fraction and employs\n",
    "    the weights assigned to them to combine it into a single score.\n",
    "\n",
    "    Input:\n",
    "    df_containing distance from all households to its nearest container\n",
    "    per fraction (known as good_result)\n",
    "\n",
    "    Output:\n",
    "    float representing weighted average distance\n",
    "    \"\"\"\n",
    "    if not use_count:\n",
    "        rest_mean = good_result['rest_afstand'].mean()\n",
    "        papier_mean = good_result['papier_afstand'].mean()\n",
    "        glas_mean = good_result['glas_afstand'].mean()\n",
    "        plastic_mean = good_result['plastic_afstand'].mean()\n",
    "        textiel_mean = good_result['textiel_afstand'].mean()\n",
    "    else:\n",
    "        rest_mean = (good_result['rest_afstand'] * good_result['count'])\\\n",
    "            .sum() / good_result['count'].sum()\n",
    "        papier_mean = (good_result['papier_afstand'] * good_result['count'])\\\n",
    "            .sum() / good_result['count'].sum()\n",
    "        plastic_mean = (good_result['plastic_afstand'] * good_result['count'])\\\n",
    "            .sum() / good_result['count'].sum()\n",
    "        glas_mean = (good_result['glas_afstand'] * good_result['count'])\\\n",
    "            .sum() / good_result['count'].sum()\n",
    "        textiel_mean = (good_result['textiel_afstand'] * good_result['count'])\\\n",
    "            .sum() / good_result['count'].sum()\n",
    "\n",
    "    if return_all:  # Return all individual mean distances (for analysis)\n",
    "        return rest_mean, papier_mean, glas_mean, plastic_mean, textiel_mean\n",
    "\n",
    "    # Multiply mean distance per fraction with its relative importance\n",
    "    score = w_rest * rest_mean + w_plas * plastic_mean + w_papi * papier_mean + \\\n",
    "        w_glas * glas_mean + w_text * textiel_mean\n",
    "    return score"
   ]
  },
  {
   "cell_type": "code",
   "execution_count": 155,
   "metadata": {},
   "outputs": [
    {
     "data": {
      "text/plain": [
       "((62.162276628423925,\n",
       "  159.7853990460581,\n",
       "  184.09729861226975,\n",
       "  235.24120648621596,\n",
       "  471.00252453554214),\n",
       " (62.22752463667192,\n",
       "  160.15394380460344,\n",
       "  184.51844078494068,\n",
       "  236.27765400525217,\n",
       "  471.93563609079337))"
      ]
     },
     "execution_count": 155,
     "metadata": {},
     "output_type": "execute_result"
    }
   ],
   "source": [
    "avg_distance = calculate_weighted_distance(good_result,\n",
    "                                           use_count=True,\n",
    "                                           return_all=True)\n",
    "avg_distance\n",
    "\n",
    "\n",
    "# Adress POIs die meer dan 1 fractie niet binnen 1 km hebben maar wel woonfunctie huizen hebben\n",
    "bad_ones = good_result[(((good_result[['poi_rest', 'poi_plastic', 'poi_papier', 'poi_glas', 'poi_textiel']] == 999.0).sum(axis=1) > 1) & (good_result['count'] > 0))]\n",
    "good_result_clean = good_result[(((good_result[['poi_rest', 'poi_plastic', 'poi_papier', 'poi_glas', 'poi_textiel']] == 999.0).sum(axis=1) < 2) & (good_result['count'] > 0))]\n",
    "\n",
    "avg_distance2 = calculate_weighted_distance(good_result_clean,\n",
    "                                            use_count=True,\n",
    "                                            return_all=True)\n",
    "avg_distance2, avg_distance"
   ]
  },
  {
   "cell_type": "markdown",
   "metadata": {},
   "source": [
    "<a id='section1'></a>\n",
    "### Exclusion of areas in North"
   ]
  },
  {
   "cell_type": "code",
   "execution_count": null,
   "metadata": {},
   "outputs": [],
   "source": [
    "# Create dataframe noord holding only households in noord\n",
    "noord = all_households[all_households['in_neigborhood']]\n",
    "\n",
    "# Check which neigborhoods have no clusters\n",
    "joined[joined['stadsdeel'] == 'N']['wijk'].value_counts()\n",
    "joined_clean = joined[joined['stadsdeel'] == 'N']\n",
    "joined_clean = joined_clean[joined_clean['wijk'] != 'N73']\n",
    "\n",
    "# Load in shapefile of buurten to exclude N73, since N64 is in inhabited area\n",
    "shapefile = gpd.read_file('../data/bc2010zw_region.shp')\n",
    "Waterland = shapefile.iloc[69]['geometry']\n",
    "Waterland\n",
    "\n",
    "# Create column to check if addresses are in N73\n",
    "noord['in_n73'] = noord.apply(lambda row: shapely.geometry.Point(row['cluster_x'], row['cluster_y']).within(Waterland), axis=1)\n",
    "noord_clean = noord[~noord['in_n73']]"
   ]
  },
  {
   "cell_type": "code",
   "execution_count": null,
   "metadata": {},
   "outputs": [],
   "source": [
    "joined_cluster_distance, good_result_rich, aansluitingen, avg_distance, penalties = analyze_candidate_solution(joined_clean, noord_clean, rel_poi_df, df_afstandn2, clean=False, use_count=True)"
   ]
  },
  {
   "cell_type": "code",
   "execution_count": null,
   "metadata": {},
   "outputs": [],
   "source": [
    "joined_cluster_distance, good_result_rich, aansluitingen, avg_distance, penalties = analyze_candidate_solution(joined, noord, rel_poi_df, df_afstandn2, clean=False, use_count=True)"
   ]
  },
  {
   "cell_type": "markdown",
   "metadata": {},
   "source": [
    "It looks like the exclusion of landelijk noord has a minor effect on the score of this area. This probably is a result of the fact that households that don't have a container within reach get assigned a NaN value, that is excluded from calculation. As a new implementation this NaN is replaced with 2000 meters."
   ]
  },
  {
   "cell_type": "code",
   "execution_count": null,
   "metadata": {},
   "outputs": [],
   "source": [
    "good_result_rich[good_result_rich['rest_afstand'].isna()]"
   ]
  },
  {
   "cell_type": "code",
   "execution_count": null,
   "metadata": {},
   "outputs": [],
   "source": []
  }
 ],
 "metadata": {
  "kernelspec": {
   "display_name": "Python 3",
   "language": "python",
   "name": "python3"
  },
  "language_info": {
   "codemirror_mode": {
    "name": "ipython",
    "version": 3
   },
   "file_extension": ".py",
   "mimetype": "text/x-python",
   "name": "python",
   "nbconvert_exporter": "python",
   "pygments_lexer": "ipython3",
   "version": "3.8.2"
  }
 },
 "nbformat": 4,
 "nbformat_minor": 4
}
