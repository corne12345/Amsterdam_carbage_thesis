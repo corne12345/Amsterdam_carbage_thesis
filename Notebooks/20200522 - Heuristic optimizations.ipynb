{
 "cells": [
  {
   "cell_type": "markdown",
   "metadata": {},
   "source": [
    "## Heuristic optimizations\n",
    "There are multiple tweaks needed to get the final product working as desired. \n",
    "\n",
    "[Validation of pipeline](#section00)\n",
    "\n",
    "[Simple penalty function](#section0)\n",
    "\n",
    "[Exclusion of areas in Noord](#section1)"
   ]
  },
  {
   "cell_type": "code",
   "execution_count": 2,
   "metadata": {},
   "outputs": [],
   "source": [
    "import sys\n",
    "import geopandas as gpd\n",
    "import pandas as pd\n",
    "import numpy as np\n",
    "import shapely\n",
    "\n",
    "sys.path.append(\"../\")\n",
    "\n",
    "from Code.helper_functions import initial_loading, analyze_candidate_solution,\\\n",
    "add_shortest_distances_to_all_households, calculate_weighted_distance, calculate_penalties\n",
    "from Code.loading_data import distance_matrix_with_counts, load_api_data,\\\n",
    "create_all_households, create_aansluitingen"
   ]
  },
  {
   "cell_type": "markdown",
   "metadata": {},
   "source": [
    "<a id='section00'></a>\n",
    "## Validation of pipeline\n",
    "\n",
    "There were a lot of small problems with the initial pipeline, which resulted in a need to validate all parts of this:\n",
    "- amount of households per bag --> fixed\n",
    "- total households --> fixed\n",
    "- average walking distance update --> fixed\n",
    "- Check amount of households in total --> fixed\n",
    "- Exclude households that have more than 1000 meters walking distance --> fixed (optional parameter)\n",
    "\n",
    "\n",
    "- locations\n",
    "- Exclusion of some rural areas (Ransdorp, Durgerdam etc.)\n",
    "- Penalties\n",
    "- Search for rural areas and exclude those possibly\n"
   ]
  },
  {
   "cell_type": "code",
   "execution_count": 3,
   "metadata": {},
   "outputs": [
    {
     "data": {
      "text/html": [
       "<div>\n",
       "<style scoped>\n",
       "    .dataframe tbody tr th:only-of-type {\n",
       "        vertical-align: middle;\n",
       "    }\n",
       "\n",
       "    .dataframe tbody tr th {\n",
       "        vertical-align: top;\n",
       "    }\n",
       "\n",
       "    .dataframe thead th {\n",
       "        text-align: right;\n",
       "    }\n",
       "</style>\n",
       "<table border=\"1\" class=\"dataframe\">\n",
       "  <thead>\n",
       "    <tr style=\"text-align: right;\">\n",
       "      <th></th>\n",
       "      <th>s1_afv_rel_nodes_poi</th>\n",
       "      <th>bk_afv_rel_nodes_poi</th>\n",
       "      <th>s1_afv_nodes</th>\n",
       "      <th>s1_afv_poi</th>\n",
       "      <th>mf_insert_datetime</th>\n",
       "      <th>mf_update_datetime</th>\n",
       "      <th>mf_row_hash</th>\n",
       "      <th>mf_deleted_ind</th>\n",
       "      <th>mf_run_id</th>\n",
       "      <th>cluster_x</th>\n",
       "      <th>cluster_y</th>\n",
       "      <th>type</th>\n",
       "      <th>bag</th>\n",
       "    </tr>\n",
       "  </thead>\n",
       "  <tbody>\n",
       "    <tr>\n",
       "      <th>0</th>\n",
       "      <td>283</td>\n",
       "      <td>119757.000~488187.000~votpand_cluster~36310001...</td>\n",
       "      <td>483489</td>\n",
       "      <td>131232</td>\n",
       "      <td>2020-04-01 13:57:12</td>\n",
       "      <td>2020-04-01 13:57:12</td>\n",
       "      <td>6d65409c-1e4a-6959-f449-5a69231228ea</td>\n",
       "      <td>False</td>\n",
       "      <td>357</td>\n",
       "      <td>119757</td>\n",
       "      <td>488187</td>\n",
       "      <td>votpand_cluster</td>\n",
       "      <td>363100012072349</td>\n",
       "    </tr>\n",
       "    <tr>\n",
       "      <th>1</th>\n",
       "      <td>285</td>\n",
       "      <td>128330.000~485171.000~votpand_cluster~36310001...</td>\n",
       "      <td>483491</td>\n",
       "      <td>67104</td>\n",
       "      <td>2020-04-01 13:57:12</td>\n",
       "      <td>2020-04-01 13:57:12</td>\n",
       "      <td>67abef92-9627-5588-5a01-9f45e979fe43</td>\n",
       "      <td>False</td>\n",
       "      <td>357</td>\n",
       "      <td>128330</td>\n",
       "      <td>485171</td>\n",
       "      <td>votpand_cluster</td>\n",
       "      <td>363100012159111</td>\n",
       "    </tr>\n",
       "    <tr>\n",
       "      <th>2</th>\n",
       "      <td>286</td>\n",
       "      <td>116781.500~485130.000~votpand_cluster~36310001...</td>\n",
       "      <td>483492</td>\n",
       "      <td>14571</td>\n",
       "      <td>2020-04-01 13:57:12</td>\n",
       "      <td>2020-04-01 13:57:12</td>\n",
       "      <td>c0614f09-3b81-f752-9d43-e51e95a7deb7</td>\n",
       "      <td>False</td>\n",
       "      <td>357</td>\n",
       "      <td>116782</td>\n",
       "      <td>485130</td>\n",
       "      <td>votpand_cluster</td>\n",
       "      <td>363100012142426</td>\n",
       "    </tr>\n",
       "    <tr>\n",
       "      <th>3</th>\n",
       "      <td>288</td>\n",
       "      <td>121814.966~490814.811~afval_cluster~121813.172...</td>\n",
       "      <td>483494</td>\n",
       "      <td>91163</td>\n",
       "      <td>2020-04-01 13:57:12</td>\n",
       "      <td>2020-04-01 13:57:12</td>\n",
       "      <td>ea822bb4-51b1-e17c-4db1-6e6a4d6c0cdc</td>\n",
       "      <td>False</td>\n",
       "      <td>357</td>\n",
       "      <td>121815</td>\n",
       "      <td>490815</td>\n",
       "      <td>afval_cluster</td>\n",
       "      <td>121813.172|490814.873</td>\n",
       "    </tr>\n",
       "    <tr>\n",
       "      <th>4</th>\n",
       "      <td>291</td>\n",
       "      <td>126721.457~481159.344~votpand_cluster~36310001...</td>\n",
       "      <td>483497</td>\n",
       "      <td>53386</td>\n",
       "      <td>2020-04-01 13:57:12</td>\n",
       "      <td>2020-04-01 13:57:12</td>\n",
       "      <td>1d8a8fea-8c46-4d04-c57d-49e59879c7f0</td>\n",
       "      <td>False</td>\n",
       "      <td>357</td>\n",
       "      <td>126721</td>\n",
       "      <td>481159</td>\n",
       "      <td>votpand_cluster</td>\n",
       "      <td>363100012127611</td>\n",
       "    </tr>\n",
       "  </tbody>\n",
       "</table>\n",
       "</div>"
      ],
      "text/plain": [
       "   s1_afv_rel_nodes_poi                               bk_afv_rel_nodes_poi  \\\n",
       "0                   283  119757.000~488187.000~votpand_cluster~36310001...   \n",
       "1                   285  128330.000~485171.000~votpand_cluster~36310001...   \n",
       "2                   286  116781.500~485130.000~votpand_cluster~36310001...   \n",
       "3                   288  121814.966~490814.811~afval_cluster~121813.172...   \n",
       "4                   291  126721.457~481159.344~votpand_cluster~36310001...   \n",
       "\n",
       "   s1_afv_nodes  s1_afv_poi   mf_insert_datetime   mf_update_datetime  \\\n",
       "0        483489      131232  2020-04-01 13:57:12  2020-04-01 13:57:12   \n",
       "1        483491       67104  2020-04-01 13:57:12  2020-04-01 13:57:12   \n",
       "2        483492       14571  2020-04-01 13:57:12  2020-04-01 13:57:12   \n",
       "3        483494       91163  2020-04-01 13:57:12  2020-04-01 13:57:12   \n",
       "4        483497       53386  2020-04-01 13:57:12  2020-04-01 13:57:12   \n",
       "\n",
       "                            mf_row_hash  mf_deleted_ind  mf_run_id  cluster_x  \\\n",
       "0  6d65409c-1e4a-6959-f449-5a69231228ea           False        357     119757   \n",
       "1  67abef92-9627-5588-5a01-9f45e979fe43           False        357     128330   \n",
       "2  c0614f09-3b81-f752-9d43-e51e95a7deb7           False        357     116782   \n",
       "3  ea822bb4-51b1-e17c-4db1-6e6a4d6c0cdc           False        357     121815   \n",
       "4  1d8a8fea-8c46-4d04-c57d-49e59879c7f0           False        357     126721   \n",
       "\n",
       "   cluster_y             type                    bag  \n",
       "0     488187  votpand_cluster        363100012072349  \n",
       "1     485171  votpand_cluster        363100012159111  \n",
       "2     485130  votpand_cluster        363100012142426  \n",
       "3     490815    afval_cluster  121813.172|490814.873  \n",
       "4     481159  votpand_cluster        363100012127611  "
      ]
     },
     "execution_count": 3,
     "metadata": {},
     "output_type": "execute_result"
    }
   ],
   "source": [
    "rel_poi_df = pd.read_csv('../Data/postgres_db/info_pois.csv', index_col='Unnamed: 0')\n",
    "rel_poi_df.head()\n",
    "# rel_poi_df = rel_poi_df[['bk_afv_rel_nodes_poi','s1_afv_nodes', 's1_afv_poi', 'cluster_x', 'cluster_y', 'type', 'bag']]"
   ]
  },
  {
   "cell_type": "code",
   "execution_count": 4,
   "metadata": {},
   "outputs": [],
   "source": [
    "# rel_poi_df['bag'].value_counts()\n",
    "# rel_poi_df[rel_poi_df['bag'] == '363100012241555']\n",
    "# df = pd.read_csv('../Data/households_per_cluster.csv')\n",
    "# df[df['ligtin_bag_pnd_identificatie'] == '0363100012241555']\n",
    "info_poi = pd.read_csv('../Data/postgres_db/afv_poi.csv')\n",
    "temp = rel_poi_df.groupby('bag').first().reset_index().rename(columns={0:'bag'})"
   ]
  },
  {
   "cell_type": "code",
   "execution_count": 5,
   "metadata": {},
   "outputs": [],
   "source": [
    "inpt_dfob = pd.read_csv('../Data/postgres_db/addresses_per_cluster.csv')\n",
    "inpt_dis = pd.read_csv('../Data/postgres_db/distance_matrix.csv')"
   ]
  },
  {
   "cell_type": "code",
   "execution_count": 6,
   "metadata": {
    "scrolled": false
   },
   "outputs": [
    {
     "name": "stderr",
     "output_type": "stream",
     "text": [
      "..\\Code\\loading_data.py:361: SettingWithCopyWarning: \n",
      "A value is trying to be set on a copy of a slice from a DataFrame.\n",
      "Try using .loc[row_indexer,col_indexer] = value instead\n",
      "\n",
      "See the caveats in the documentation: https://pandas.pydata.org/pandas-docs/stable/user_guide/indexing.html#returning-a-view-versus-a-copy\n",
      "  df2['ligtin_bag_pnd_identificatie'] = \\\n",
      "..\\Code\\loading_data.py:369: SettingWithCopyWarning: \n",
      "A value is trying to be set on a copy of a slice from a DataFrame.\n",
      "Try using .loc[row_indexer,col_indexer] = value instead\n",
      "\n",
      "See the caveats in the documentation: https://pandas.pydata.org/pandas-docs/stable/user_guide/indexing.html#returning-a-view-versus-a-copy\n",
      "  verblijfsobjecten['bag'] = verblijfsobjecten.loc[:, 'bag']\\\n"
     ]
    }
   ],
   "source": [
    "df_afstandn2 = distance_matrix_with_counts(inpt_dfob=inpt_dfob,\n",
    "                                                       inpt_poi=rel_poi_df,\n",
    "                                                       inpt_dis=inpt_dis,\n",
    "                                                       get_data=False)"
   ]
  },
  {
   "cell_type": "code",
   "execution_count": 7,
   "metadata": {},
   "outputs": [],
   "source": [
    "api_df = load_api_data(subsectie=None)"
   ]
  },
  {
   "cell_type": "code",
   "execution_count": null,
   "metadata": {},
   "outputs": [
    {
     "name": "stdout",
     "output_type": "stream",
     "text": [
      "Do you want to use addresses instead of clusters?True\n",
      "What stadsdeel do you want to make as a subsection(optional parameter)?\n",
      "What is the maximum amount of containers in a cluster that is considered to be useful?8\n",
      "Where to get db files(local/online)?local\n",
      "DB relation POIs loaded\n",
      "distance matrix loaded\n",
      "API data loaded\n"
     ]
    }
   ],
   "source": [
    "# automatic\n",
    "all_households, rel_poi_df, joined, df_afstandn2 = initial_loading()"
   ]
  },
  {
   "cell_type": "code",
   "execution_count": null,
   "metadata": {},
   "outputs": [],
   "source": [
    "joined_cluster_distance = joined.set_index('s1_afv_nodes')\\\n",
    "    .join(df_afstandn2.set_index('van_s1_afv_nodes')).reset_index()\\\n",
    "    .rename(columns={'index':'van_s1_afv_nodes'})"
   ]
  },
  {
   "cell_type": "code",
   "execution_count": null,
   "metadata": {},
   "outputs": [],
   "source": [
    "good_result = add_shortest_distances_to_all_households(all_households,\n",
    "                                                      joined_cluster_distance,\n",
    "                                                      use_count=True)\n",
    "good_result['rest_afstand'].isna().sum()"
   ]
  },
  {
   "cell_type": "code",
   "execution_count": null,
   "metadata": {},
   "outputs": [],
   "source": [
    "good_result['count'] = good_result['count'].fillna(0)\n",
    "good_result[['poi_rest', 'poi_plastic', 'poi_papier', 'poi_glas', 'poi_textiel']] = good_result[['poi_rest', 'poi_plastic', 'poi_papier', 'poi_glas', 'poi_textiel']].fillna(999)\n",
    "good_result[['rest_afstand', 'plastic_afstand', 'papier_afstand', 'glas_afstand', 'textiel_afstand']] = good_result[['rest_afstand', 'plastic_afstand', 'papier_afstand', 'glas_afstand', 'textiel_afstand']].fillna(2000)\n",
    "\n",
    "\n",
    "good_result.loc[~good_result['uses_container'],\n",
    "                        'rest_afstand'] = np.nan\n",
    "good_result.loc[~good_result['uses_container'], 'poi_rest'] = np.nan\n",
    "# good_result"
   ]
  },
  {
   "cell_type": "code",
   "execution_count": null,
   "metadata": {},
   "outputs": [],
   "source": [
    "aansluitingen = create_aansluitingen(good_result, joined_cluster_distance, use_count=True)"
   ]
  },
  {
   "cell_type": "code",
   "execution_count": null,
   "metadata": {},
   "outputs": [],
   "source": [
    "(good_result['rest_afstand'] * good_result['count']).sum()/good_result['count'].sum()"
   ]
  },
  {
   "cell_type": "code",
   "execution_count": null,
   "metadata": {},
   "outputs": [],
   "source": [
    "def calculate_weighted_distance(good_result, use_count=False, w_rest=0.61,\n",
    "                                w_plas=0.089, w_papi=0.16, w_glas=0.11,\n",
    "                                w_text=0.025, return_all=False):\n",
    "    \"\"\"\n",
    "    Calculate weighted distance of an input dataframe.\n",
    "\n",
    "    Function to calculated the weighted average walking distance as part of the\n",
    "    score function. It calculates the mean difference per fraction and employs\n",
    "    the weights assigned to them to combine it into a single score.\n",
    "\n",
    "    Input:\n",
    "    df_containing distance from all households to its nearest container\n",
    "    per fraction (known as good_result)\n",
    "\n",
    "    Output:\n",
    "    float representing weighted average distance\n",
    "    \"\"\"\n",
    "    if not use_count:\n",
    "        rest_mean = good_result['rest_afstand'].mean()\n",
    "        papier_mean = good_result['papier_afstand'].mean()\n",
    "        glas_mean = good_result['glas_afstand'].mean()\n",
    "        plastic_mean = good_result['plastic_afstand'].mean()\n",
    "        textiel_mean = good_result['textiel_afstand'].mean()\n",
    "    else:\n",
    "        rest_mean = (good_result['rest_afstand'] * good_result['count'])\\\n",
    "            .sum() / good_result['count'].sum()\n",
    "        papier_mean = (good_result['papier_afstand'] * good_result['count'])\\\n",
    "            .sum() / good_result['count'].sum()\n",
    "        plastic_mean = (good_result['plastic_afstand'] * good_result['count'])\\\n",
    "            .sum() / good_result['count'].sum()\n",
    "        glas_mean = (good_result['glas_afstand'] * good_result['count'])\\\n",
    "            .sum() / good_result['count'].sum()\n",
    "        textiel_mean = (good_result['textiel_afstand'] * good_result['count'])\\\n",
    "            .sum() / good_result['count'].sum()\n",
    "\n",
    "    if return_all:  # Return all individual mean distances (for analysis)\n",
    "        return rest_mean, plastic_mean, papier_mean, glas_mean, textiel_mean\n",
    "\n",
    "    # Multiply mean distance per fraction with its relative importance\n",
    "    score = w_rest * rest_mean + w_plas * plastic_mean + w_papi * papier_mean + \\\n",
    "        w_glas * glas_mean + w_text * textiel_mean\n",
    "    return score"
   ]
  },
  {
   "cell_type": "code",
   "execution_count": null,
   "metadata": {},
   "outputs": [],
   "source": [
    "avg_distance = calculate_weighted_distance(good_result,\n",
    "                                           use_count=True,\n",
    "                                           return_all=True)\n",
    "avg_distance\n",
    "\n",
    "\n",
    "# Adress POIs die meer dan 1 fractie niet binnen 1 km hebben maar wel woonfunctie huizen hebben\n",
    "bad_ones = good_result[(((good_result[['poi_rest', 'poi_plastic', 'poi_papier', 'poi_glas', 'poi_textiel']] == 999.0).sum(axis=1) > 1) & (good_result['count'] > 0))]\n",
    "good_result_clean = good_result[(((good_result[['poi_rest', 'poi_plastic', 'poi_papier', 'poi_glas', 'poi_textiel']] == 999.0).sum(axis=1) < 2) & (good_result['count'] > 0))]\n",
    "\n",
    "avg_distance2 = calculate_weighted_distance(good_result_clean,\n",
    "                                            use_count=True,\n",
    "                                            return_all=True)\n",
    "avg_distance2, avg_distance"
   ]
  },
  {
   "cell_type": "code",
   "execution_count": null,
   "metadata": {},
   "outputs": [],
   "source": [
    "def calculate_simple_penalties(good_result, aansluitingen, use_count=True,\n",
    "                               w_rest=0.61, w_plas=0.089, w_papi=0.16, w_glas=0.11,\n",
    "                               w_text=0.025, use_weight=True, return_all=True):\n",
    "    \"\"\"\n",
    "    Return simplified version of penalties.\n",
    "\n",
    "    Simplified version of penalty function that gives total amount of\n",
    "    penalties.\n",
    "    \"\"\"\n",
    "    if use_count:\n",
    "        penalty1 = good_result[good_result['rest_afstand'] > 100]['count'].sum()\n",
    "        penalty2 = good_result[good_result['plastic_afstand'] > 150]['count'].sum()\n",
    "        penalty3 = good_result[good_result['papier_afstand'] > 150]['count'].sum()\n",
    "        penalty4 = good_result[good_result['glas_afstand'] > 150]['count'].sum()\n",
    "        penalty5 = good_result[good_result['textiel_afstand'] > 150]['count'].sum()\n",
    "    \n",
    "    else:\n",
    "        penalty1 = good_result[good_result['rest_afstand'] > 100].shape[0]\n",
    "        penalty2 = good_result[good_result['plastic_afstand'] > 150].shape[0]\n",
    "        penalty3 = good_result[good_result['papier_afstand'] > 150].shape[0]\n",
    "        penalty4 = good_result[good_result['glas_afstand'] > 150].shape[0]\n",
    "        penalty5 = good_result[good_result['textiel_afstand'] > 300].shape[0]\n",
    "\n",
    "    temp = (aansluitingen['poi_rest'] - aansluitingen['rest'] * 100)\n",
    "    penalty6 = temp[temp > 0].sum()\n",
    "    temp = (aansluitingen['poi_plastic'] - aansluitingen['plastic'] * 200)\n",
    "    penalty7 = temp[temp > 0].sum()\n",
    "    temp = (aansluitingen['poi_papier'] - aansluitingen['papier'] * 200)\n",
    "    penalty8 = temp[temp > 0].sum()\n",
    "    temp = (aansluitingen['poi_glas'] - aansluitingen['glas'] * 200)\n",
    "    penalty9 = temp[temp > 0].sum()\n",
    "    temp = (aansluitingen['poi_textiel'] - aansluitingen['textiel'] * 750)\n",
    "    penalty10 = temp[temp > 0].sum()\n",
    "\n",
    "    if use_weight:\n",
    "        total = w_rest * (penalty1 + penalty6) + w_plas * (penalty2 + penalty7) +\\\n",
    "            w_papi * (penalty3 + penalty8) + w_glas * (penalty4 + penalty9) +\\\n",
    "            w_text * (penalty5 + penalty10)\n",
    "        if return_all:\n",
    "            return total, penalty1, penalty2, penalty3, penalty4, penalty5,\\\n",
    "                penalty6, penalty7, penalty8, penalty9, penalty10\n",
    "        else:\n",
    "            return total\n",
    "\n",
    "    return penalty1+penalty2+penalty3+penalty4+penalty5+penalty6+penalty7 + \\\n",
    "        penalty8+penalty9+penalty10\n",
    "\n",
    "def calculate_penalties(good_result, aansluitingen, use_count=False,\n",
    "                        w_rest=0.61, w_plas=0.089, w_papi=0.16, w_glas=0.11,\n",
    "                        w_text=0.025, return_all=False):\n",
    "    \"\"\"\n",
    "    Calculate the amount of penalties based on described policies.\n",
    "\n",
    "    This function calculates all the penalties associated with the candidate\n",
    "    solution. It does this by calculating the number of times all constraints\n",
    "    are violated and applies the weighing that is associated with all these\n",
    "    violations. D_... contain the maximum allowed walking distance to a\n",
    "    container of the specified fraction. P_... show the maximum amount of\n",
    "    households connected to a container of the fraction specified.\n",
    "\n",
    "    Input:\n",
    "    dataframe good_result containing per adress or adress poi the distance\n",
    "    to the nearest container for all fractions.\n",
    "    dataframe connections containing for all clusters the amount of containers\n",
    "    per fraction, the amount of people using these containers and percentage\n",
    "    of occupancy compared to the norm\n",
    "\n",
    "    Output:\n",
    "    The sum of all different penalties as a single float\n",
    "    \"\"\"\n",
    "    # Create dict containing max_dist, max_connection and weight per fraction\n",
    "    fractions = {'rest': [100, 100, w_rest], 'plastic': [150, 200, w_plas],\n",
    "                 'papier': [150, 200, w_papi], 'glas': [150, 200, w_glas],\n",
    "                 'textiel': [200, 750, w_text]}\n",
    "    MAX_PERC = 100  # To prevent magic numbers\n",
    "    NORMAL = 1500  # Normalization factor to balance both types of penalties\n",
    "    penalties = []  # This list will store all penalties\n",
    "    for k, v in fractions.items():  # Per fraction\n",
    "        # Filter data for all entries that violate maximal walking distance\n",
    "        dist_pen = good_result[good_result[f'{k}_afstand'] > v[0]]\n",
    "        # Filter data for all containers having to many households attached\n",
    "        conn_pen = aansluitingen[aansluitingen[f'{k}_perc'] > MAX_PERC]\n",
    "        if not use_count:\n",
    "            # Average amount of meters over maximum limit\n",
    "            penalties.append((dist_pen[f'{k}_afstand'] - v[0]).sum() /\n",
    "                             good_result.shape[0] * v[2])\n",
    "            # Ratio of amount of households over threshold (with normalization)\n",
    "            penalties.append((conn_pen[f'poi_{k}'] - (conn_pen[k] * v[1]))\n",
    "                             .sum() / good_result['count'].sum() * v[2] *\n",
    "                             NORMAL)\n",
    "        else:  # Use count column to weigh according to households\n",
    "            penalties.append(((dist_pen[f'{k}_afstand'] - v[0]) *\n",
    "                              dist_pen['count']).sum()/good_result['count']\n",
    "                             .sum() * v[2])\n",
    "            penalties.append((conn_pen[f'poi_{k}'] - (conn_pen[k] * v[1]))\n",
    "                             .sum() / good_result['count'].sum() * v[2] *\n",
    "                             NORMAL)\n",
    "    if return_all:  # Return all contributing factors\n",
    "        return penalties\n",
    "    else:  # Return only the sum of the penalties\n",
    "        return sum(penalties)"
   ]
  },
  {
   "cell_type": "code",
   "execution_count": null,
   "metadata": {},
   "outputs": [],
   "source": [
    "calculate_penalties(good_result, aansluitingen, return_all=True)\n",
    "# calculate_simple_penalties(good_result, aansluitingen, use_count=True, use_weight=True, return_all=True)\n",
    "\n",
    "# good_result[good_result['plastic_afstand'] > 150]['count'].sum()"
   ]
  },
  {
   "cell_type": "markdown",
   "metadata": {},
   "source": [
    "### Find areas to exclude"
   ]
  },
  {
   "cell_type": "code",
   "execution_count": null,
   "metadata": {},
   "outputs": [],
   "source": [
    "from bokeh.plotting import figure, show\n",
    "from bokeh.models import GeoJSONDataSource, ColumnDataSource, HoverTool\n",
    "\n",
    "long = good_result[((good_result['rest_afstand'] > 750) | \n",
    "                    (good_result['plastic_afstand'] > 750) | \n",
    "                    (good_result['papier_afstand'] > 750) | \n",
    "                    (good_result['glas_afstand'] > 750)) & \n",
    "                    (good_result['count'] > 0)]\\\n",
    "    .append(bad_ones)\n",
    "\n",
    "load = gpd.read_file('../data/Inzameling_huisvuil_100220.shp')\n",
    "street_map_clean = load[load['aanbiedwij'] ==\n",
    "                              \"Breng uw restafval  naar een container voor restafval.\"]\n",
    "bewoonde_wijken = gpd.read_file('../data/woonbrt10_region.shp')\n",
    "wijken = gpd.read_file('../data/brtk2010_ind2005_region.shp')\n",
    "\n",
    "geosource = GeoJSONDataSource(geojson=street_map_clean.to_json())\n",
    "geosource2 = GeoJSONDataSource(geojson=buurten.to_json())\n",
    "geosource3 = GeoJSONDataSource(geojson=bewoonde_wijken.to_json())\n",
    "geosource4 = GeoJSONDataSource(geojson=wijken.to_json())\n",
    "\n",
    "source = ColumnDataSource(data=long)\n",
    "source2 = ColumnDataSource(data=wijken)\n",
    "\n",
    "TOOLTIPS2 = [\n",
    "            (\"index\", \"$index\"),\n",
    "            (\"(x,y)\", \"($x, $y)\"),\n",
    "            (\"Naam\", \"@count\")]\n",
    "\n",
    "TOOLTIPS = [\n",
    "            (\"index\", \"$index\"),\n",
    "            (\"(x,y)\", \"($x, $y)\"),\n",
    "            (\"Count\", \"@BCNAAM\")]\n",
    "\n",
    "p = figure(match_aspect=True)\n",
    "p.patches('xs', 'ys', source=geosource, fill_color='red', alpha=0.1, line_color=None)\n",
    "p.patches('xs', 'ys', source=geosource3, fill_color='green', alpha=0.1, line_color=None)\n",
    "r0 = p.patches('xs', 'ys', source=geosource4, fill_color=None, alpha=0.1)\n",
    "p.add_tools(HoverTool(renderers=[r0], tooltips=TOOLTIPS))\n",
    "r1 = p.circle(x='cluster_x', y='cluster_y', source=source, radius=10)\n",
    "p.add_tools(HoverTool(renderers=[r1], tooltips=TOOLTIPS2))\n",
    "\n",
    "show(p)\n",
    "\n",
    "# long.plot(x='cluster_x', y='cluster_y', kind='scatter', s=0.1)"
   ]
  },
  {
   "cell_type": "code",
   "execution_count": null,
   "metadata": {},
   "outputs": [],
   "source": [
    "bad_ones"
   ]
  },
  {
   "cell_type": "markdown",
   "metadata": {},
   "source": [
    "<a id='section1'></a>\n",
    "### Exclusion of areas in North"
   ]
  },
  {
   "cell_type": "code",
   "execution_count": null,
   "metadata": {},
   "outputs": [],
   "source": [
    "# Create dataframe noord holding only households in noord\n",
    "noord = all_households[all_households['in_neigborhood']]\n",
    "\n",
    "# Check which neigborhoods have no clusters\n",
    "joined[joined['stadsdeel'] == 'N']['wijk'].value_counts()\n",
    "joined_clean = joined[joined['stadsdeel'] == 'N']\n",
    "joined_clean = joined_clean[joined_clean['wijk'] != 'N73']\n",
    "\n",
    "# Load in shapefile of buurten to exclude N73, since N64 is in inhabited area\n",
    "shapefile = gpd.read_file('../data/bc2010zw_region.shp')\n",
    "Waterland = shapefile.iloc[69]['geometry']\n",
    "Waterland\n",
    "\n",
    "# Create column to check if addresses are in N73\n",
    "noord['in_n73'] = noord.apply(lambda row: shapely.geometry.Point(row['cluster_x'], row['cluster_y']).within(Waterland), axis=1)\n",
    "noord_clean = noord[~noord['in_n73']]"
   ]
  },
  {
   "cell_type": "code",
   "execution_count": null,
   "metadata": {},
   "outputs": [],
   "source": [
    "joined_cluster_distance, good_result_rich, aansluitingen, avg_distance, penalties = analyze_candidate_solution(joined_clean, noord_clean, rel_poi_df, df_afstandn2, clean=False, use_count=True)"
   ]
  },
  {
   "cell_type": "code",
   "execution_count": null,
   "metadata": {},
   "outputs": [],
   "source": [
    "joined_cluster_distance, good_result_rich, aansluitingen, avg_distance, penalties = analyze_candidate_solution(joined, noord, rel_poi_df, df_afstandn2, clean=False, use_count=True)"
   ]
  },
  {
   "cell_type": "markdown",
   "metadata": {},
   "source": [
    "It looks like the exclusion of landelijk noord has a minor effect on the score of this area. This probably is a result of the fact that households that don't have a container within reach get assigned a NaN value, that is excluded from calculation. As a new implementation this NaN is replaced with 2000 meters."
   ]
  },
  {
   "cell_type": "code",
   "execution_count": null,
   "metadata": {},
   "outputs": [],
   "source": [
    "good_result_rich[good_result_rich['rest_afstand'].isna()]"
   ]
  },
  {
   "cell_type": "code",
   "execution_count": null,
   "metadata": {},
   "outputs": [],
   "source": []
  }
 ],
 "metadata": {
  "kernelspec": {
   "display_name": "Python 3",
   "language": "python",
   "name": "python3"
  },
  "language_info": {
   "codemirror_mode": {
    "name": "ipython",
    "version": 3
   },
   "file_extension": ".py",
   "mimetype": "text/x-python",
   "name": "python",
   "nbconvert_exporter": "python",
   "pygments_lexer": "ipython3",
   "version": "3.8.2"
  }
 },
 "nbformat": 4,
 "nbformat_minor": 4
}
